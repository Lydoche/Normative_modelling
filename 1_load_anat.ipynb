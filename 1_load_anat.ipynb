{
 "cells": [
  {
   "cell_type": "markdown",
   "id": "aa30e001",
   "metadata": {},
   "source": [
    "# DATA LOADING & CLEANING"
   ]
  },
  {
   "cell_type": "code",
   "execution_count": 538,
   "id": "a7bc04d0",
   "metadata": {
    "scrolled": false
   },
   "outputs": [
    {
     "name": "stdout",
     "output_type": "stream",
     "text": [
      "Once deleted, variables cannot be recovered. Proceed (y/[n])? y\n"
     ]
    }
   ],
   "source": [
    "%reset"
   ]
  },
  {
   "cell_type": "code",
   "execution_count": 539,
   "id": "655b69e8",
   "metadata": {},
   "outputs": [],
   "source": [
    "import os\n",
    "os.chdir('/Users/ltran/Documents/TrueData29/CPC_ML_tutorial/')\n",
    "\n",
    "import numpy as np\n",
    "import pandas as pd\n",
    "from matplotlib import pyplot as plt\n",
    "import seaborn as sns\n",
    "import random\n",
    "\n",
    "# Set data directory\n",
    "data_dir = '/Users/ltran/Documents/Data/'\n",
    "\n",
    "# Set working directory\n",
    "root_dir = '/Users/ltran/Documents/TrueData0104/CPC_ML_tutorial/'\n",
    "out_dir = os.path.join(root_dir,'models','test')\n",
    "\n",
    "# create the output directory if it does not already exist\n",
    "os.makedirs(out_dir, exist_ok=True)"
   ]
  },
  {
   "cell_type": "code",
   "execution_count": 540,
   "id": "e7f81100",
   "metadata": {},
   "outputs": [],
   "source": [
    "! rm -r '/Users/ltran/Documents/TrueData0104/CPC_ML_tutorial/models/test/'\n",
    "! mkdir '/Users/ltran/Documents/TrueData0104/CPC_ML_tutorial/models/test/'"
   ]
  },
  {
   "cell_type": "markdown",
   "id": "2d05d79a",
   "metadata": {},
   "source": [
    "# ANATOMY"
   ]
  },
  {
   "cell_type": "markdown",
   "id": "ab5c0d2c",
   "metadata": {},
   "source": [
    "### RDB Data"
   ]
  },
  {
   "cell_type": "code",
   "execution_count": 541,
   "id": "74c455fc",
   "metadata": {},
   "outputs": [],
   "source": [
    "# Extract scanner \n",
    "instru = pd.read_csv(os.path.join(data_dir, 'TSA_cohort_dcm_info_anonymized.csv'), sep = '\\t')\n",
    "\n",
    "# Load participants infos (age, sex, diagnosis, scores...)\n",
    "new = pd.read_csv(os.path.join(data_dir, 'participants.tsv'), sep = \"\\t\")\n",
    "new = new.drop(index = new.loc[new['ASD'] == '?'].index)\n",
    "\n",
    "new = new.merge(instru.rename(columns = {'SubCode BIDS' : 'participant_id'}))\n",
    "\n",
    "# Keep only T1.5 scanner in RDB data\n",
    "new = new[new.participant_id.isin(instru.loc[instru.magnetic_field_strength == '1_5']['SubCode BIDS'])]\n",
    "\n",
    "# Load cortical thickness of right and left hemisphere\n",
    "lh_RDB = pd.read_csv(os.path.join(data_dir,'fs-6.0.0-tfe.lh.thickness.csv'), sep = '\\t')\n",
    "rh_RDB = pd.read_csv(os.path.join(data_dir,'fs-6.0.0-tfe.rh.thickness.csv'), sep = '\\t')\n",
    "\n",
    "# Convert BIDS ID to int format\n",
    "l_part_id = []\n",
    "for i in lh_RDB['lh.aparc.thickness']:\n",
    "    \n",
    "    l_part_id.append(int(i.split('-')[1].split('_')[0].lstrip('0')))\n",
    "lh_RDB['participant_id'] = l_part_id\n",
    "\n",
    "# Merge right and left hemisphere\n",
    "df_RDB = lh_RDB.join(rh_RDB.drop(columns = ['BrainSegVolNotVent', 'eTIV'])).merge(new, on = 'participant_id', how = 'inner')\n",
    "\n",
    "\n",
    "# Format 'sex' as boolean\n",
    "df_RDB['sex'] = df_RDB['sex'].replace({'F' : -1, 'M' : 1})\n",
    "#Drop duplicates\n",
    "df_RDB = df_RDB.drop_duplicates(subset = ['participant_id'])\n",
    "\n",
    "# Load clinical scores\n",
    "clinic_rdb = pd.read_csv(os.path.join(data_dir, 'MRI_RDB_20190423_anonym_updated.tsv'), sep = '\\t')\n",
    "\n",
    "clinic_rdb['participant_id'] = clinic_rdb['subject_id']\n",
    "\n",
    "# Match clinical scores names of RDB and EU-AIMS\n",
    "clinic_rdb = clinic_rdb.rename( columns = {'ADI_R_SOCIAL_TOTAL_A': 't1_adi_social_total',\n",
    "    'ADI_R_RRB_TOTAL_C' :'t1_adi_rrb_total',\n",
    "    'RBS-R tot': 't1_rbs_total',\n",
    "    'SRS': 't1_srs_tscore'})\n",
    "\n",
    "df_RDB = clinic_rdb.merge(df_RDB, on = ['participant_id', 'ASD']).drop_duplicates(subset = ['participant_id'])"
   ]
  },
  {
   "cell_type": "markdown",
   "id": "38a25312",
   "metadata": {},
   "source": [
    "Removing failed QC from RDB data"
   ]
  },
  {
   "cell_type": "code",
   "execution_count": 542,
   "id": "06f22836",
   "metadata": {},
   "outputs": [],
   "source": [
    "QC_rdb = pd.read_csv(os.path.join(data_dir, 'QC_trio.csv'))\n",
    "\n",
    "f_id = []\n",
    "for i in QC_rdb.loc[QC_rdb.QC == 'F'].BIDS:\n",
    "    f_id.append(int(i.split('-')[1].strip('0')))\n",
    "\n",
    "f_id.append(430)\n",
    "\n",
    "df_RDB = df_RDB.loc[~df_RDB['subject_id'].isin(f_id)]"
   ]
  },
  {
   "cell_type": "markdown",
   "id": "3abd7377",
   "metadata": {},
   "source": [
    "\n",
    "\n",
    "Separate scanners into two different sites in RDB"
   ]
  },
  {
   "cell_type": "code",
   "execution_count": 543,
   "id": "c255691e",
   "metadata": {},
   "outputs": [
    {
     "data": {
      "text/html": [
       "<div>\n",
       "<style scoped>\n",
       "    .dataframe tbody tr th:only-of-type {\n",
       "        vertical-align: middle;\n",
       "    }\n",
       "\n",
       "    .dataframe tbody tr th {\n",
       "        vertical-align: top;\n",
       "    }\n",
       "\n",
       "    .dataframe thead th {\n",
       "        text-align: right;\n",
       "    }\n",
       "</style>\n",
       "<table border=\"1\" class=\"dataframe\">\n",
       "  <thead>\n",
       "    <tr style=\"text-align: right;\">\n",
       "      <th></th>\n",
       "      <th>subject_id</th>\n",
       "      <th>session_id</th>\n",
       "      <th>Sex</th>\n",
       "      <th>Group</th>\n",
       "      <th>FamilyStatus_x</th>\n",
       "      <th>Control</th>\n",
       "      <th>ASD</th>\n",
       "      <th>acq_time</th>\n",
       "      <th>age_at_scan</th>\n",
       "      <th>machine</th>\n",
       "      <th>...</th>\n",
       "      <th>MRI_code_old</th>\n",
       "      <th>patient_birth_date</th>\n",
       "      <th>patient_sex</th>\n",
       "      <th>patient_weight</th>\n",
       "      <th>acquisition_date</th>\n",
       "      <th>manufacturer</th>\n",
       "      <th>manufacturer_model_name</th>\n",
       "      <th>magnetic_field_strength</th>\n",
       "      <th>site</th>\n",
       "      <th>t1_site</th>\n",
       "    </tr>\n",
       "  </thead>\n",
       "  <tbody>\n",
       "    <tr>\n",
       "      <th>0</th>\n",
       "      <td>3</td>\n",
       "      <td>1</td>\n",
       "      <td>Female</td>\n",
       "      <td>Patient</td>\n",
       "      <td>Proband</td>\n",
       "      <td>No</td>\n",
       "      <td>Yes</td>\n",
       "      <td>2006-02-16T19:18:00</td>\n",
       "      <td>9.4</td>\n",
       "      <td>Intera</td>\n",
       "      <td>...</td>\n",
       "      <td>MRIPasteur-413</td>\n",
       "      <td>19960924</td>\n",
       "      <td>F</td>\n",
       "      <td>20</td>\n",
       "      <td>20060216</td>\n",
       "      <td>PHILIPS_MEDICAL_SYSTEMS</td>\n",
       "      <td>INTERA</td>\n",
       "      <td>1_5</td>\n",
       "      <td>RDB_INTERA</td>\n",
       "      <td>9.0</td>\n",
       "    </tr>\n",
       "    <tr>\n",
       "      <th>4</th>\n",
       "      <td>25</td>\n",
       "      <td>1</td>\n",
       "      <td>Male</td>\n",
       "      <td>Patient</td>\n",
       "      <td>Proband</td>\n",
       "      <td>No</td>\n",
       "      <td>Yes</td>\n",
       "      <td>2007-01-22T10:49:05</td>\n",
       "      <td>6.4</td>\n",
       "      <td>Intera</td>\n",
       "      <td>...</td>\n",
       "      <td>MRIPasteur-068</td>\n",
       "      <td>20000906</td>\n",
       "      <td>M</td>\n",
       "      <td>35</td>\n",
       "      <td>20070122</td>\n",
       "      <td>PHILIPS_MEDICAL_SYSTEMS</td>\n",
       "      <td>INTERA</td>\n",
       "      <td>1_5</td>\n",
       "      <td>RDB_INTERA</td>\n",
       "      <td>9.0</td>\n",
       "    </tr>\n",
       "    <tr>\n",
       "      <th>8</th>\n",
       "      <td>70</td>\n",
       "      <td>3</td>\n",
       "      <td>Male</td>\n",
       "      <td>Patient</td>\n",
       "      <td>Proband</td>\n",
       "      <td>No</td>\n",
       "      <td>Yes</td>\n",
       "      <td>2014-12-06T10:35:48</td>\n",
       "      <td>11.3</td>\n",
       "      <td>Ingenia</td>\n",
       "      <td>...</td>\n",
       "      <td>MRIPasteur-081</td>\n",
       "      <td>20030901</td>\n",
       "      <td>M</td>\n",
       "      <td>17</td>\n",
       "      <td>20080108</td>\n",
       "      <td>PHILIPS_MEDICAL_SYSTEMS</td>\n",
       "      <td>INTERA</td>\n",
       "      <td>1_5</td>\n",
       "      <td>RDB_INTERA</td>\n",
       "      <td>9.0</td>\n",
       "    </tr>\n",
       "    <tr>\n",
       "      <th>26</th>\n",
       "      <td>95</td>\n",
       "      <td>1</td>\n",
       "      <td>Female</td>\n",
       "      <td>Patient</td>\n",
       "      <td>Proband</td>\n",
       "      <td>No</td>\n",
       "      <td>Yes</td>\n",
       "      <td>2008-05-07T10:50:19</td>\n",
       "      <td>14.5</td>\n",
       "      <td>Intera</td>\n",
       "      <td>...</td>\n",
       "      <td>MRIPasteur-128</td>\n",
       "      <td>19931117</td>\n",
       "      <td>F</td>\n",
       "      <td>55</td>\n",
       "      <td>20080507</td>\n",
       "      <td>PHILIPS_MEDICAL_SYSTEMS</td>\n",
       "      <td>INTERA</td>\n",
       "      <td>1_5</td>\n",
       "      <td>RDB_INTERA</td>\n",
       "      <td>9.0</td>\n",
       "    </tr>\n",
       "    <tr>\n",
       "      <th>30</th>\n",
       "      <td>96</td>\n",
       "      <td>1</td>\n",
       "      <td>Male</td>\n",
       "      <td>Patient</td>\n",
       "      <td>Proband</td>\n",
       "      <td>No</td>\n",
       "      <td>Yes</td>\n",
       "      <td>2008-05-16T13:45:57</td>\n",
       "      <td>4.9</td>\n",
       "      <td>Intera</td>\n",
       "      <td>...</td>\n",
       "      <td>MRIPasteur-046</td>\n",
       "      <td>20030620</td>\n",
       "      <td>M</td>\n",
       "      <td>22</td>\n",
       "      <td>20080516</td>\n",
       "      <td>PHILIPS_MEDICAL_SYSTEMS</td>\n",
       "      <td>INTERA</td>\n",
       "      <td>1_5</td>\n",
       "      <td>RDB_INTERA</td>\n",
       "      <td>9.0</td>\n",
       "    </tr>\n",
       "    <tr>\n",
       "      <th>...</th>\n",
       "      <td>...</td>\n",
       "      <td>...</td>\n",
       "      <td>...</td>\n",
       "      <td>...</td>\n",
       "      <td>...</td>\n",
       "      <td>...</td>\n",
       "      <td>...</td>\n",
       "      <td>...</td>\n",
       "      <td>...</td>\n",
       "      <td>...</td>\n",
       "      <td>...</td>\n",
       "      <td>...</td>\n",
       "      <td>...</td>\n",
       "      <td>...</td>\n",
       "      <td>...</td>\n",
       "      <td>...</td>\n",
       "      <td>...</td>\n",
       "      <td>...</td>\n",
       "      <td>...</td>\n",
       "      <td>...</td>\n",
       "      <td>...</td>\n",
       "    </tr>\n",
       "    <tr>\n",
       "      <th>906</th>\n",
       "      <td>1401</td>\n",
       "      <td>1</td>\n",
       "      <td>Male</td>\n",
       "      <td>Patient</td>\n",
       "      <td>Proband</td>\n",
       "      <td>No</td>\n",
       "      <td>Yes</td>\n",
       "      <td>2019-09-16T12:45:28</td>\n",
       "      <td>16.2</td>\n",
       "      <td>Ingenia</td>\n",
       "      <td>...</td>\n",
       "      <td>NaN</td>\n",
       "      <td>20030721</td>\n",
       "      <td>M</td>\n",
       "      <td>40</td>\n",
       "      <td>20190916</td>\n",
       "      <td>PHILIPS_HEALTHCARE</td>\n",
       "      <td>INGENIA</td>\n",
       "      <td>1_5</td>\n",
       "      <td>RDB_INGENIA</td>\n",
       "      <td>10.0</td>\n",
       "    </tr>\n",
       "    <tr>\n",
       "      <th>907</th>\n",
       "      <td>1402</td>\n",
       "      <td>1</td>\n",
       "      <td>Male</td>\n",
       "      <td>Patient</td>\n",
       "      <td>Proband</td>\n",
       "      <td>No</td>\n",
       "      <td>Yes</td>\n",
       "      <td>2019-09-19T17:33:19</td>\n",
       "      <td>10.7</td>\n",
       "      <td>Ingenia</td>\n",
       "      <td>...</td>\n",
       "      <td>NaN</td>\n",
       "      <td>20090111</td>\n",
       "      <td>M</td>\n",
       "      <td>25</td>\n",
       "      <td>20190919</td>\n",
       "      <td>PHILIPS_HEALTHCARE</td>\n",
       "      <td>INGENIA</td>\n",
       "      <td>1_5</td>\n",
       "      <td>RDB_INGENIA</td>\n",
       "      <td>10.0</td>\n",
       "    </tr>\n",
       "    <tr>\n",
       "      <th>908</th>\n",
       "      <td>1411</td>\n",
       "      <td>1</td>\n",
       "      <td>Male</td>\n",
       "      <td>Patient</td>\n",
       "      <td>Proband</td>\n",
       "      <td>No</td>\n",
       "      <td>Yes</td>\n",
       "      <td>2019-10-28T10:03:08</td>\n",
       "      <td>15.4</td>\n",
       "      <td>Ingenia</td>\n",
       "      <td>...</td>\n",
       "      <td>NaN</td>\n",
       "      <td>20040524</td>\n",
       "      <td>M</td>\n",
       "      <td>50</td>\n",
       "      <td>20191028</td>\n",
       "      <td>PHILIPS_HEALTHCARE</td>\n",
       "      <td>INGENIA</td>\n",
       "      <td>1_5</td>\n",
       "      <td>RDB_INGENIA</td>\n",
       "      <td>10.0</td>\n",
       "    </tr>\n",
       "    <tr>\n",
       "      <th>909</th>\n",
       "      <td>1425</td>\n",
       "      <td>1</td>\n",
       "      <td>Female</td>\n",
       "      <td>Patient</td>\n",
       "      <td>Proband</td>\n",
       "      <td>No</td>\n",
       "      <td>Yes</td>\n",
       "      <td>2019-11-08T16:02:26</td>\n",
       "      <td>2.9</td>\n",
       "      <td>Ingenia</td>\n",
       "      <td>...</td>\n",
       "      <td>NaN</td>\n",
       "      <td>20161205</td>\n",
       "      <td>F</td>\n",
       "      <td>14</td>\n",
       "      <td>20191108</td>\n",
       "      <td>PHILIPS_HEALTHCARE</td>\n",
       "      <td>INGENIA</td>\n",
       "      <td>1_5</td>\n",
       "      <td>RDB_INGENIA</td>\n",
       "      <td>10.0</td>\n",
       "    </tr>\n",
       "    <tr>\n",
       "      <th>910</th>\n",
       "      <td>1460</td>\n",
       "      <td>1</td>\n",
       "      <td>Male</td>\n",
       "      <td>Patient</td>\n",
       "      <td>Proband</td>\n",
       "      <td>No</td>\n",
       "      <td>Yes</td>\n",
       "      <td>2020-01-08T12:21:19</td>\n",
       "      <td>6.7</td>\n",
       "      <td>Ingenia</td>\n",
       "      <td>...</td>\n",
       "      <td>NaN</td>\n",
       "      <td>20130429</td>\n",
       "      <td>M</td>\n",
       "      <td>28</td>\n",
       "      <td>20200108</td>\n",
       "      <td>PHILIPS_HEALTHCARE</td>\n",
       "      <td>INGENIA</td>\n",
       "      <td>1_5</td>\n",
       "      <td>RDB_INGENIA</td>\n",
       "      <td>10.0</td>\n",
       "    </tr>\n",
       "  </tbody>\n",
       "</table>\n",
       "<p>766 rows × 280 columns</p>\n",
       "</div>"
      ],
      "text/plain": [
       "     subject_id  session_id     Sex    Group FamilyStatus_x Control  ASD  \\\n",
       "0             3           1  Female  Patient        Proband      No  Yes   \n",
       "4            25           1    Male  Patient        Proband      No  Yes   \n",
       "8            70           3    Male  Patient        Proband      No  Yes   \n",
       "26           95           1  Female  Patient        Proband      No  Yes   \n",
       "30           96           1    Male  Patient        Proband      No  Yes   \n",
       "..          ...         ...     ...      ...            ...     ...  ...   \n",
       "906        1401           1    Male  Patient        Proband      No  Yes   \n",
       "907        1402           1    Male  Patient        Proband      No  Yes   \n",
       "908        1411           1    Male  Patient        Proband      No  Yes   \n",
       "909        1425           1  Female  Patient        Proband      No  Yes   \n",
       "910        1460           1    Male  Patient        Proband      No  Yes   \n",
       "\n",
       "                acq_time  age_at_scan  machine  ...    MRI_code_old  \\\n",
       "0    2006-02-16T19:18:00          9.4   Intera  ...  MRIPasteur-413   \n",
       "4    2007-01-22T10:49:05          6.4   Intera  ...  MRIPasteur-068   \n",
       "8    2014-12-06T10:35:48         11.3  Ingenia  ...  MRIPasteur-081   \n",
       "26   2008-05-07T10:50:19         14.5   Intera  ...  MRIPasteur-128   \n",
       "30   2008-05-16T13:45:57          4.9   Intera  ...  MRIPasteur-046   \n",
       "..                   ...          ...      ...  ...             ...   \n",
       "906  2019-09-16T12:45:28         16.2  Ingenia  ...             NaN   \n",
       "907  2019-09-19T17:33:19         10.7  Ingenia  ...             NaN   \n",
       "908  2019-10-28T10:03:08         15.4  Ingenia  ...             NaN   \n",
       "909  2019-11-08T16:02:26          2.9  Ingenia  ...             NaN   \n",
       "910  2020-01-08T12:21:19          6.7  Ingenia  ...             NaN   \n",
       "\n",
       "     patient_birth_date  patient_sex  patient_weight  acquisition_date  \\\n",
       "0              19960924            F              20          20060216   \n",
       "4              20000906            M              35          20070122   \n",
       "8              20030901            M              17          20080108   \n",
       "26             19931117            F              55          20080507   \n",
       "30             20030620            M              22          20080516   \n",
       "..                  ...          ...             ...               ...   \n",
       "906            20030721            M              40          20190916   \n",
       "907            20090111            M              25          20190919   \n",
       "908            20040524            M              50          20191028   \n",
       "909            20161205            F              14          20191108   \n",
       "910            20130429            M              28          20200108   \n",
       "\n",
       "                manufacturer  manufacturer_model_name magnetic_field_strength  \\\n",
       "0    PHILIPS_MEDICAL_SYSTEMS                   INTERA                     1_5   \n",
       "4    PHILIPS_MEDICAL_SYSTEMS                   INTERA                     1_5   \n",
       "8    PHILIPS_MEDICAL_SYSTEMS                   INTERA                     1_5   \n",
       "26   PHILIPS_MEDICAL_SYSTEMS                   INTERA                     1_5   \n",
       "30   PHILIPS_MEDICAL_SYSTEMS                   INTERA                     1_5   \n",
       "..                       ...                      ...                     ...   \n",
       "906       PHILIPS_HEALTHCARE                  INGENIA                     1_5   \n",
       "907       PHILIPS_HEALTHCARE                  INGENIA                     1_5   \n",
       "908       PHILIPS_HEALTHCARE                  INGENIA                     1_5   \n",
       "909       PHILIPS_HEALTHCARE                  INGENIA                     1_5   \n",
       "910       PHILIPS_HEALTHCARE                  INGENIA                     1_5   \n",
       "\n",
       "            site t1_site  \n",
       "0     RDB_INTERA     9.0  \n",
       "4     RDB_INTERA     9.0  \n",
       "8     RDB_INTERA     9.0  \n",
       "26    RDB_INTERA     9.0  \n",
       "30    RDB_INTERA     9.0  \n",
       "..           ...     ...  \n",
       "906  RDB_INGENIA    10.0  \n",
       "907  RDB_INGENIA    10.0  \n",
       "908  RDB_INGENIA    10.0  \n",
       "909  RDB_INGENIA    10.0  \n",
       "910  RDB_INGENIA    10.0  \n",
       "\n",
       "[766 rows x 280 columns]"
      ]
     },
     "execution_count": 543,
     "metadata": {},
     "output_type": "execute_result"
    }
   ],
   "source": [
    "\n",
    "\n",
    "df_RDB.loc[(df_RDB['manufacturer_model_name'] == 'INTERA'), 'site'] = 'RDB_INTERA'\n",
    "df_RDB.loc[(df_RDB['manufacturer_model_name'] == 'INTERA'), 't1_site'] = 9\n",
    "\n",
    "df_RDB.loc[(df_RDB['manufacturer_model_name'] == 'INGENIA'), 'site'] = 'RDB_INGENIA'\n",
    "df_RDB.loc[(df_RDB['manufacturer_model_name'] == 'INGENIA'), 't1_site'] = 10\n",
    "\n",
    "# Diagnosis status for TD relatives = 'Relative'\n",
    "\n",
    "df_RDB.loc[(df_RDB.Group == 'Relative') & (df_RDB.ASD == 'No'), 'ASD'] = 'Relative'\n",
    "\n",
    "df_RDB"
   ]
  },
  {
   "cell_type": "markdown",
   "id": "60dee551",
   "metadata": {},
   "source": [
    "###  EU-AIMS Data"
   ]
  },
  {
   "cell_type": "code",
   "execution_count": 544,
   "id": "5dc7dc76",
   "metadata": {},
   "outputs": [],
   "source": [
    "# Load EU-AIMS data\n",
    "QC = pd.read_csv(os.path.join(data_dir,'QC_LEAP_freesurfer_preproc_info.csv'), sep = ';')\n",
    "\n",
    "leap = pd.read_csv(os.path.join(data_dir,'LEAP_CorticalMeasuresENIGMA_ThickAvg.csv'), sep = ';')\n",
    "\n",
    "cov = pd.read_csv(os.path.join(data_dir,'Core_variables_03_09_19_withvalues_internal.tsv'), sep = '\\t')\n",
    "\n",
    "# Merge autism scores with QC file, keep 'include' only\n",
    "df_cov_aims = cov.merge(QC.loc[QC['final_decision_bin'] == \"include\"], on = \"participant_id\", how = \"inner\")\n",
    "\n",
    "# ID to int format\n",
    "l_id  = []\n",
    "for i in leap['SubjID']:\n",
    "    l_id.append(int(i.split('_')[1]))\n",
    "\n",
    "leap['participant_id'] = l_id\n",
    "\n",
    "# Merge thickness values with infos\n",
    "df_aims = leap.merge(df_cov_aims, on = 'participant_id', how = 'inner')\n",
    "\n",
    "### Pooling EU-AIMS et RDB\n",
    "\n",
    "# Rename columns of EU-AIMS dataframe to merge with RDB\n",
    "df_aims.columns = df_aims.columns.str.replace('L_','lh_')\n",
    "df_aims.columns = df_aims.columns.str.replace('_thickavg','_thickness')\n",
    "df_aims.columns = df_aims.columns.str.replace('R_','rh_')\n",
    "df_aims = df_aims.rename(columns = {'t1_ageyrs' : 'age_at_scan', 't1_sex' : 'sex', 't1_fsiq' : 'Total_IQ'})\n",
    "\n",
    "# ASD = group 2 + 4 | TD = group 1 | Drop all rows beloging to group 3\n",
    "df_aims['ASD'] = df_aims['t1_group'].replace({1 : 'No', 2 : 'Yes', 4 : 'Yes', 3 : np.nan})\n",
    "\n",
    "\n",
    "# Extract name of the regions\n",
    "cols_RDB = [col for col in df_RDB.columns if '_thick' in col]\n",
    "\n",
    "cols_RDB.remove('rh_MeanThickness_thickness')\n",
    "cols_RDB.remove('lh_MeanThickness_thickness')\n",
    "\n",
    "# Merge EU-AIMS and RDB dataframes\n",
    "df_all = df_aims.merge(df_RDB, on = cols_RDB.append(['age_at_scan', \n",
    "                                                     'sex', 'site', \n",
    "                                                     't1_site',\n",
    "                                                    't1_adi_social_total',\n",
    "                                                    't1_adi_rrb_total',\n",
    "                                                    't1_rbs_total',\n",
    "                                                    't1_srs_tscore']), how = 'outer')\n",
    "df_all = df_all.dropna(subset = ['ASD'])\n",
    "df_all\n",
    "\n",
    "df_all\n",
    "\n",
    "# Filter on age = [6, 30]\n",
    "\n",
    "df_all = df_all.loc[(df_all.age_at_scan < 31) & (df_all.age_at_scan > 5 )]\n",
    "\n",
    "df_all = df_all.loc[~(df_all.ASD == 'Relative')]"
   ]
  },
  {
   "cell_type": "markdown",
   "id": "983cd3f2",
   "metadata": {},
   "source": [
    "### ABIDE "
   ]
  },
  {
   "cell_type": "markdown",
   "id": "31c62ac3",
   "metadata": {},
   "source": [
    "ABIDE 1"
   ]
  },
  {
   "cell_type": "code",
   "execution_count": 545,
   "id": "1120bca9",
   "metadata": {
    "scrolled": true
   },
   "outputs": [],
   "source": [
    "abide1_lh = pd.read_csv(os.path.join(data_dir, 'ABIDE1/fs-6.0.0-abide.lh.thickness.csv'), sep = '\\t')"
   ]
  },
  {
   "cell_type": "code",
   "execution_count": 546,
   "id": "a74d0543",
   "metadata": {},
   "outputs": [],
   "source": [
    "abide1_rh = pd.read_csv(os.path.join(data_dir, 'ABIDE1/fs-6.0.0-abide.rh.thickness.csv'), sep = '\\t')"
   ]
  },
  {
   "cell_type": "code",
   "execution_count": 547,
   "id": "0ee451a6",
   "metadata": {},
   "outputs": [],
   "source": [
    "ABIDE1_thick = abide1_rh.rename(columns= {'rh.aparc.thickness': 'participant_id'}).merge(abide1_lh.rename(columns= {'lh.aparc.thickness': 'participant_id'}), on = 'participant_id')"
   ]
  },
  {
   "cell_type": "code",
   "execution_count": 548,
   "id": "6c31484a",
   "metadata": {},
   "outputs": [],
   "source": [
    "part_abd1 = pd.read_csv(os.path.join(data_dir, 'ABIDE1/Phenotypic_V1_0b.csv'), sep = ',')"
   ]
  },
  {
   "cell_type": "code",
   "execution_count": 549,
   "id": "50884ce8",
   "metadata": {},
   "outputs": [],
   "source": [
    "ABIDE1 = part_abd1.rename(columns= {'SUB_ID' : 'participant_id'}).merge(ABIDE1_thick, on = 'participant_id')"
   ]
  },
  {
   "cell_type": "code",
   "execution_count": 550,
   "id": "a438670b",
   "metadata": {},
   "outputs": [],
   "source": [
    "ABIDE1.columns = ABIDE1.columns.str.lower()"
   ]
  },
  {
   "cell_type": "markdown",
   "id": "5da4e4c4",
   "metadata": {},
   "source": [
    "ABIDE 2"
   ]
  },
  {
   "cell_type": "code",
   "execution_count": 551,
   "id": "f79ec8af",
   "metadata": {},
   "outputs": [],
   "source": [
    "abide2_lh = pd.read_csv(os.path.join(data_dir, 'ABIDE2/fs-6.0.0-abide2.lh.thickness.csv'), sep = '\\t')\n",
    "abide2_rh = pd.read_csv(os.path.join(data_dir, 'ABIDE2/fs-6.0.0-abide2.rh.thickness.csv'), sep = '\\t')"
   ]
  },
  {
   "cell_type": "code",
   "execution_count": 552,
   "id": "5101e819",
   "metadata": {},
   "outputs": [],
   "source": [
    "ABIDE2_thick = abide2_rh.merge(abide2_lh.rename(columns= {'lh.aparc.thickness': 'rh.aparc.thickness'}), on = 'rh.aparc.thickness')"
   ]
  },
  {
   "cell_type": "code",
   "execution_count": 553,
   "id": "92841eb4",
   "metadata": {},
   "outputs": [],
   "source": [
    "abide2_part = pd.read_csv(os.path.join(data_dir, 'ABIDE2/participants-merged.tsv'), sep = '\\t',\n",
    "                         encoding= 'unicode_escape')"
   ]
  },
  {
   "cell_type": "code",
   "execution_count": 554,
   "id": "29b3b101",
   "metadata": {
    "scrolled": true
   },
   "outputs": [],
   "source": [
    "participant_id = []\n",
    "for i in ABIDE2_thick['rh.aparc.thickness']:\n",
    "    participant_id.append(i.split('-')[1].split('_')[0])\n",
    "\n",
    "ABIDE2_thick['participant_id'] =  participant_id"
   ]
  },
  {
   "cell_type": "code",
   "execution_count": 555,
   "id": "3973f73c",
   "metadata": {},
   "outputs": [],
   "source": [
    "ABIDE2 = ABIDE2_thick.merge(abide2_part, on = 'participant_id')"
   ]
  },
  {
   "cell_type": "code",
   "execution_count": 556,
   "id": "f6be0d6a",
   "metadata": {},
   "outputs": [],
   "source": [
    "ABIDE2 = ABIDE2.drop_duplicates(subset=['participant_id'])"
   ]
  },
  {
   "cell_type": "code",
   "execution_count": 557,
   "id": "bd3acc09",
   "metadata": {},
   "outputs": [],
   "source": [
    "ABIDE2 = ABIDE2.rename(columns={'age_at_scan ': 'age_at_scan'})"
   ]
  },
  {
   "cell_type": "code",
   "execution_count": 558,
   "id": "9ebf0f92",
   "metadata": {},
   "outputs": [],
   "source": [
    "l_site = []\n",
    "for i in ABIDE2.site_id:\n",
    "    l_site.append(i.replace('ABIDEII-', ''))\n",
    "ABIDE2['site_id'] = l_site"
   ]
  },
  {
   "cell_type": "markdown",
   "id": "1a7b9c0d",
   "metadata": {},
   "source": [
    "Merge ABIDE 1 & ABIDE 2 "
   ]
  },
  {
   "cell_type": "code",
   "execution_count": 559,
   "id": "0be6d801",
   "metadata": {},
   "outputs": [],
   "source": [
    "ABIDE = pd.concat([ABIDE1, ABIDE2], join = 'inner')"
   ]
  },
  {
   "cell_type": "code",
   "execution_count": 560,
   "id": "34ed0983",
   "metadata": {},
   "outputs": [],
   "source": [
    "ABIDE = ABIDE.rename(columns = {'site_id' : 'site'})"
   ]
  },
  {
   "cell_type": "code",
   "execution_count": 561,
   "id": "ad38a2f6",
   "metadata": {},
   "outputs": [],
   "source": [
    "ABIDE['ASD'] = ABIDE['dx_group'].replace({1 : 'No', '2': 'Yes', '1' : 'No', 2 :'Yes'})"
   ]
  },
  {
   "cell_type": "code",
   "execution_count": 562,
   "id": "fd64f0aa",
   "metadata": {},
   "outputs": [],
   "source": [
    "ABIDE.sex = ABIDE.sex.replace({'1' : 1, 2 : -1, '2': -1})"
   ]
  },
  {
   "cell_type": "code",
   "execution_count": 564,
   "id": "d661619e",
   "metadata": {},
   "outputs": [],
   "source": [
    "ABIDE.to_csv(os.path.join(data_dir, 'Outputs/df_abide.csv'), index=False)"
   ]
  },
  {
   "cell_type": "markdown",
   "id": "e1bf1995",
   "metadata": {},
   "source": [
    "### Join RDB + EU-AIMS + ABIDE"
   ]
  },
  {
   "cell_type": "code",
   "execution_count": 535,
   "id": "3b48ca3b",
   "metadata": {},
   "outputs": [],
   "source": [
    "df_export = pd.concat([df_all, ABIDE], join = 'inner')"
   ]
  },
  {
   "cell_type": "code",
   "execution_count": 537,
   "id": "606774d2",
   "metadata": {},
   "outputs": [],
   "source": [
    "df_export.to_csv(os.path.join(data_dir, 'Outputs/df_all.csv'), index=False)\n"
   ]
  }
 ],
 "metadata": {
  "kernelspec": {
   "display_name": "Python 3 (ipykernel)",
   "language": "python",
   "name": "python3"
  },
  "language_info": {
   "codemirror_mode": {
    "name": "ipython",
    "version": 3
   },
   "file_extension": ".py",
   "mimetype": "text/x-python",
   "name": "python",
   "nbconvert_exporter": "python",
   "pygments_lexer": "ipython3",
   "version": "3.9.7"
  }
 },
 "nbformat": 4,
 "nbformat_minor": 5
}
