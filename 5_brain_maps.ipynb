{
 "cells": [
  {
   "cell_type": "markdown",
   "id": "79ee0f6f",
   "metadata": {},
   "source": [
    "# Plot brain profiles"
   ]
  },
  {
   "cell_type": "code",
   "execution_count": 1,
   "id": "6c717e4b",
   "metadata": {},
   "outputs": [],
   "source": [
    "import os\n",
    "os.chdir('/Users/ltran/Documents/TrueData29/CPC_ML_tutorial/')\n",
    "\n",
    "import numpy as np\n",
    "import pandas as pd\n",
    "import pickle\n",
    "from matplotlib import pyplot as plt\n",
    "import seaborn as sns\n",
    "import random\n",
    "\n",
    "from scipy.stats import fisher_exact\n",
    "from pcntoolkit.normative import estimate, predict, evaluate\n",
    "from pcntoolkit.util.utils import compute_MSLL, create_design_matrix\n",
    "from nm_utils import calibration_descriptives, remove_bad_subjects, load_2d\n",
    "from sklearn.model_selection import train_test_split\n",
    "# Set data directory\n",
    "data_dir = '/Users/ltran/Documents/Data/'\n",
    "\n",
    "# Set working directory\n",
    "root_dir = '/Users/ltran/Documents/TrueData0104/CPC_ML_tutorial/'\n",
    "out_dir = os.path.join(root_dir,'models','test')\n",
    "\n",
    "# create the output directory if it does not already exist\n",
    "os.makedirs(out_dir, exist_ok=True)\n",
    "\n",
    "from enigmatoolbox.utils.parcellation import parcel_to_surface\n",
    "from enigmatoolbox.plotting import plot_cortical"
   ]
  },
  {
   "cell_type": "markdown",
   "id": "1f3108bc",
   "metadata": {},
   "source": [
    "## Extract Z-Scores"
   ]
  },
  {
   "cell_type": "code",
   "execution_count": 3,
   "id": "936c2fe8",
   "metadata": {},
   "outputs": [],
   "source": [
    "# Function to read Z-scores stored in files\n",
    "\n",
    "def fetch_raw_Z():\n",
    "    # Read outputs files \n",
    "    Z_pred = {}\n",
    "\n",
    "    for idp_num, idp in enumerate(idp_ids): \n",
    "        idp_dir = os.path.join(out_dir, idp)\n",
    "        os.chdir(idp_dir)\n",
    "        f = open(\"Z_predict.txt\", \"r\")\n",
    "        Z_pred.update({f'{idp}_Z_predict' : f.readlines()})\n",
    "\n",
    "    Z_df_pred = pd.DataFrame(Z_pred).astype(float)\n",
    "    \n",
    "    return Z_df_pred"
   ]
  },
  {
   "cell_type": "code",
   "execution_count": 4,
   "id": "82564b3e",
   "metadata": {},
   "outputs": [],
   "source": [
    "# Load train and test sets\n",
    "\n",
    "df_te3 = pd.read_csv(os.path.join(data_dir, 'Outputs/df_te3.csv'))\n",
    "\n",
    "idp_ids = [col for col in df_te3.columns if '_thickness' in col]\n",
    "\n",
    "len(idp_ids)\n",
    "\n",
    "## Extract Z-Scores\n",
    "\n",
    "Z_df_pred = fetch_raw_Z()\n",
    "\n",
    "## Merge Z-Scores with infos\n",
    "\n",
    "Z_df = Z_df_pred.join(df_te3)\n",
    "\n",
    "cols_df = [col for col in Z_df.columns if 'Z_predict' in col]"
   ]
  },
  {
   "cell_type": "markdown",
   "id": "eebf5abf",
   "metadata": {},
   "source": [
    "## Define functions"
   ]
  },
  {
   "cell_type": "code",
   "execution_count": 23,
   "id": "572f206b",
   "metadata": {},
   "outputs": [],
   "source": [
    "def brain_maps(X):\n",
    "    CT_d_fsa5 = parcel_to_surface(X, 'aparc_fsa5')\n",
    "    plot_cortical(array_name=CT_d_fsa5, surface_name=\"fsa5\", size=(800, 400),\n",
    "                  cmap='RdBu_r', color_bar=True, color_range=(-abs(X).max(), abs(X).max()))"
   ]
  },
  {
   "cell_type": "code",
   "execution_count": 24,
   "id": "68115ba9",
   "metadata": {
    "scrolled": true
   },
   "outputs": [],
   "source": [
    "def compute_abs_prevalence(Z_df_est):\n",
    "    prev_est= {}\n",
    "    for i in Z_df_est.columns:\n",
    "        prev_est.update({i : [Z_df_est.query(f'{i} > 2 or {i} < -2').count()[1]/Z_df_est.shape[0]]})\n",
    "    prev_est = pd.DataFrame.from_dict(prev_est)\n",
    "    \n",
    "    return prev_est\n",
    "\n",
    "def compute_positive_prevalence(Z_df_est):\n",
    "    prev_est= {}\n",
    "    for i in Z_df_est.columns:\n",
    "        prev_est.update({i : [Z_df_est.query(f'{i} > 2').count()[1]/Z_df_est.shape[0]]})\n",
    "    prev_est = pd.DataFrame.from_dict(prev_est)\n",
    "    \n",
    "    return prev_est\n",
    "\n",
    "def compute_negative_prevalence(Z_df_est):\n",
    "    prev_est= {}\n",
    "    for i in Z_df_est.columns:\n",
    "        prev_est.update({i : [Z_df_est.query(f'{i} < -2').count()[1]/Z_df_est.shape[0]]})\n",
    "    prev_est = pd.DataFrame.from_dict(prev_est)\n",
    "    \n",
    "    return prev_est\n"
   ]
  },
  {
   "cell_type": "markdown",
   "id": "6201f3e9",
   "metadata": {},
   "source": [
    "## Compute prevalences"
   ]
  },
  {
   "cell_type": "code",
   "execution_count": 25,
   "id": "567b9f27",
   "metadata": {},
   "outputs": [],
   "source": [
    "Z_df_est = Z_df.loc[Z_df.ASD == 'No'][cols_df]\n",
    "Z_df_pred = Z_df.loc[Z_df.ASD == 'Yes'][cols_df]"
   ]
  },
  {
   "cell_type": "code",
   "execution_count": 26,
   "id": "aa799810",
   "metadata": {
    "scrolled": true
   },
   "outputs": [
    {
     "name": "stdout",
     "output_type": "stream",
     "text": [
      "TD count :  246\n",
      "ASD count :  1097\n"
     ]
    }
   ],
   "source": [
    "print('TD count : ', Z_df_est.shape[0])\n",
    "print('ASD count : ', Z_df_pred.shape[0])"
   ]
  },
  {
   "cell_type": "code",
   "execution_count": 27,
   "id": "624d0531",
   "metadata": {},
   "outputs": [],
   "source": [
    "# Compute prevalence of Z > 2 \n",
    "pos_prev_TD = compute_positive_prevalence(Z_df_est)\n",
    "pos_prev_ASD = compute_positive_prevalence(Z_df_pred)"
   ]
  },
  {
   "cell_type": "code",
   "execution_count": 28,
   "id": "6d8f529a",
   "metadata": {},
   "outputs": [],
   "source": [
    "# Compute prevalence of |Z| > 2\n",
    "abs_TD = compute_abs_prevalence(Z_df_est)\n",
    "abs_ASD = compute_abs_prevalence(Z_df_pred)"
   ]
  },
  {
   "cell_type": "code",
   "execution_count": 29,
   "id": "ed176a47",
   "metadata": {},
   "outputs": [],
   "source": [
    "# Compute prevalence of Z < -2\n",
    "neg_prev_TD = compute_negative_prevalence(Z_df_est)\n",
    "neg_prev_ASD = compute_negative_prevalence(Z_df_pred)"
   ]
  },
  {
   "cell_type": "code",
   "execution_count": 30,
   "id": "93216e5d",
   "metadata": {
    "scrolled": false
   },
   "outputs": [
    {
     "name": "stdout",
     "output_type": "stream",
     "text": [
      "To map Z > 2 : \"pos\"\n",
      "To map Z < -2 : \"neg\"\n",
      "To map |Z| > 2 : \"abs\"\n",
      "abs\n"
     ]
    }
   ],
   "source": [
    "pr_bool = input('To map Z > 2 : \"pos\"\\nTo map Z < -2 : \"neg\"\\nTo map |Z| > 2 : \"abs\"\\n')"
   ]
  },
  {
   "cell_type": "code",
   "execution_count": 32,
   "id": "19ccca39",
   "metadata": {},
   "outputs": [],
   "source": [
    "# Compute pr(|Z|asd > 2) - pr(|Z|td > 2)\n",
    "if (pr_bool == 'abs'):    \n",
    "    diff = abs_ASD.values - abs_TD.values\n",
    "elif (pr_bool == 'pos'):\n",
    "    diff = pos_prev_ASD.values - pos_prev_TD.values\n",
    "elif (pr_bool == 'neg'):\n",
    "    diff = neg_prev_ASD.values - neg_prev_TD.values"
   ]
  },
  {
   "cell_type": "code",
   "execution_count": 33,
   "id": "6e546829",
   "metadata": {},
   "outputs": [],
   "source": [
    "brain_maps(diff)"
   ]
  }
 ],
 "metadata": {
  "kernelspec": {
   "display_name": "Python 3 (ipykernel)",
   "language": "python",
   "name": "python3"
  },
  "language_info": {
   "codemirror_mode": {
    "name": "ipython",
    "version": 3
   },
   "file_extension": ".py",
   "mimetype": "text/x-python",
   "name": "python",
   "nbconvert_exporter": "python",
   "pygments_lexer": "ipython3",
   "version": "3.9.7"
  }
 },
 "nbformat": 4,
 "nbformat_minor": 5
}
