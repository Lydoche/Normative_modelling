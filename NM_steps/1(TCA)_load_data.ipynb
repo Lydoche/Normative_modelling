{
 "cells": [
  {
   "cell_type": "code",
   "execution_count": 3,
   "id": "1a63a3ab",
   "metadata": {},
   "outputs": [],
   "source": [
    "import os\n",
    "os.chdir('/Users/ltran/Documents/TrueData29/CPC_ML_tutorial/')\n",
    "\n",
    "import numpy as np\n",
    "import pandas as pd\n",
    "import pickle\n",
    "from matplotlib import pyplot as plt\n",
    "import seaborn as sns\n",
    "import random\n",
    "import joypy\n",
    "from matplotlib import cm\n",
    "\n",
    "from scipy.stats import fisher_exact\n",
    "from pcntoolkit.normative import estimate, predict, evaluate\n",
    "from pcntoolkit.util.utils import compute_MSLL, create_design_matrix\n",
    "from nm_utils import calibration_descriptives, remove_bad_subjects, load_2d\n",
    "from sklearn.model_selection import train_test_split\n",
    "\n",
    "# Set working directory\n",
    "root_dir = '/Users/ltran/Documents/TrueData0104/CPC_ML_tutorial/'\n",
    "out_dir = os.path.join(root_dir,'models','test')\n",
    "\n",
    "# create the output directory if it does not already exist\n",
    "os.makedirs(out_dir, exist_ok=True)"
   ]
  },
  {
   "cell_type": "markdown",
   "id": "23d89159",
   "metadata": {},
   "source": [
    "# Load TCA"
   ]
  },
  {
   "cell_type": "code",
   "execution_count": 4,
   "id": "92a96e96",
   "metadata": {},
   "outputs": [],
   "source": [
    "data_dir = '/Users/ltran/Documents/Data/'\n"
   ]
  },
  {
   "cell_type": "markdown",
   "id": "1cc50e36",
   "metadata": {},
   "source": [
    "## Compute BMI"
   ]
  },
  {
   "cell_type": "code",
   "execution_count": 5,
   "id": "a7baeb4a",
   "metadata": {},
   "outputs": [],
   "source": [
    "pheno = pd.read_csv(os.path.join(data_dir, 'TCA_vol/MRI_RDB_TCA_20220629_anonym.tsv'), sep = '\\t')"
   ]
  },
  {
   "cell_type": "code",
   "execution_count": 6,
   "id": "8f308f89",
   "metadata": {},
   "outputs": [],
   "source": [
    "#Format height in meters\n",
    "\n",
    "l_height = []\n",
    "for i in pheno['size_at_scan']:\n",
    "    if (i>100):\n",
    "        l_height.append(i/100)\n",
    "    else:\n",
    "        l_height.append(i)\n",
    "\n",
    "pheno['height_m'] = l_height\n",
    "pheno = pheno.rename(columns={'subject_id' : 'participant_id'})"
   ]
  },
  {
   "cell_type": "code",
   "execution_count": 7,
   "id": "b3bd827d",
   "metadata": {},
   "outputs": [],
   "source": [
    "# Compute BMI \n",
    "\n",
    "pheno['BMI'] = pheno['weight_at_scan'] / (pheno['height_m'] ** 2)"
   ]
  },
  {
   "cell_type": "markdown",
   "id": "aa18c0e3",
   "metadata": {},
   "source": [
    "# Merge Volume, Area, CT"
   ]
  },
  {
   "cell_type": "code",
   "execution_count": 8,
   "id": "ca0c5866",
   "metadata": {},
   "outputs": [],
   "source": [
    "# Load ISO volume\n",
    "vol_iso = pd.read_csv(os.path.join(data_dir, 'TCA_vol/volumes-fs-iso.txt'), sep = '\\t')\n",
    "\n",
    "# Load TFE volume\n",
    "vol_tfe = pd.read_csv(os.path.join(data_dir, 'TCA_vol/volumes-fs-tfe.txt'), sep = '\\t')"
   ]
  },
  {
   "cell_type": "code",
   "execution_count": 9,
   "id": "26c507c8",
   "metadata": {},
   "outputs": [],
   "source": [
    "vol_tca = pd.concat([vol_tfe, vol_iso])"
   ]
  },
  {
   "cell_type": "code",
   "execution_count": 10,
   "id": "4eac9300",
   "metadata": {},
   "outputs": [],
   "source": [
    "lh_area_iso = pd.read_csv(os.path.join(data_dir, 'TCA_vol/fs-7.2.0-iso.lh.area.csv'), sep = '\\t') \n",
    "rh_area_iso = pd.read_csv(os.path.join(data_dir, 'TCA_vol/fs-7.2.0-iso.rh.area.csv'), sep = '\\t') \n",
    "\n",
    "\n",
    "lh_area_tfe = pd.read_csv(os.path.join(data_dir, 'TCA_vol/fs-7.2.0-tfe.lh.area.csv'), sep = '\\t') \n",
    "rh_area_tfe = pd.read_csv(os.path.join(data_dir, 'TCA_vol/fs-7.2.0-tfe.rh.area.csv'), sep = '\\t') \n",
    "\n",
    "area_iso = lh_area_iso.merge(rh_area_iso.rename(columns={'rh.aparc.area': 'lh.aparc.area'}), on ='lh.aparc.area')\n",
    "\n",
    "area_tfe = lh_area_tfe.merge(rh_area_tfe.rename(columns={'rh.aparc.area': 'lh.aparc.area'}), on ='lh.aparc.area')"
   ]
  },
  {
   "cell_type": "code",
   "execution_count": 11,
   "id": "45499174",
   "metadata": {},
   "outputs": [],
   "source": [
    "area = pd.concat([area_iso, area_tfe])\n",
    "area = area.rename(columns= {'lh.aparc.area' : 'Subject'})"
   ]
  },
  {
   "cell_type": "code",
   "execution_count": 12,
   "id": "a13c2302",
   "metadata": {},
   "outputs": [],
   "source": [
    "lh_ct_iso = pd.read_csv(os.path.join(data_dir, 'TCA_vol/fs-7.2.0-iso.lh.thickness.csv'), sep = '\\t') \n",
    "rh_ct_iso = pd.read_csv(os.path.join(data_dir, 'TCA_vol/fs-7.2.0-iso.rh.thickness.csv'), sep = '\\t') \n",
    "\n",
    "ct_iso = lh_ct_iso.merge(rh_ct_iso.rename(columns={'rh.aparc.thickness': 'lh.aparc.thickness'}), \n",
    "               on = 'lh.aparc.thickness')\n",
    "\n",
    "\n",
    "lh_ct_tfe = pd.read_csv(os.path.join(data_dir, 'TCA_vol/fs-7.2.0-tfe.lh.thickness.csv'), sep = '\\t') \n",
    "rh_ct_tfe = pd.read_csv(os.path.join(data_dir, 'TCA_vol/fs-7.2.0-tfe.rh.thickness.csv'), sep = '\\t') \n",
    "\n",
    "ct_tfe = lh_ct_tfe.merge(rh_ct_tfe.rename(columns={'rh.aparc.thickness': 'lh.aparc.thickness'}), \n",
    "               on = 'lh.aparc.thickness')\n",
    "\n",
    "\n",
    "ct = pd.concat([ct_iso, ct_tfe])\n",
    "ct = ct.rename(columns= {'lh.aparc.thickness' : 'Subject'})"
   ]
  },
  {
   "cell_type": "code",
   "execution_count": 13,
   "id": "1a2b6a8b",
   "metadata": {},
   "outputs": [],
   "source": [
    "df_TCA = area.merge(vol_tca, on = 'Subject').merge(ct, on='Subject')"
   ]
  },
  {
   "cell_type": "code",
   "execution_count": 14,
   "id": "16e9dc33",
   "metadata": {},
   "outputs": [],
   "source": [
    "l_pi = []\n",
    "for i in df_TCA['Subject']:\n",
    "    l_pi.append(int(i.split('-')[1].split('_')[0]))\n",
    "\n",
    "df_TCA['participant_id'] = l_pi"
   ]
  },
  {
   "cell_type": "code",
   "execution_count": 15,
   "id": "33e70bdc",
   "metadata": {},
   "outputs": [],
   "source": [
    "df_TCA = df_TCA.merge(pheno.rename(columns={'subject_id':'participant_id'}), on = 'participant_id')"
   ]
  },
  {
   "cell_type": "code",
   "execution_count": 16,
   "id": "f73b84ec",
   "metadata": {},
   "outputs": [],
   "source": [
    "df_TCA = df_TCA.drop(index = [83, 85])"
   ]
  },
  {
   "cell_type": "code",
   "execution_count": 17,
   "id": "296fe7cd",
   "metadata": {},
   "outputs": [],
   "source": [
    "df_TCA['sex'] = df_TCA['Sex'].replace({'Female' : -1, 'Male' : 1})"
   ]
  },
  {
   "cell_type": "code",
   "execution_count": 18,
   "id": "2ffb7b1b",
   "metadata": {},
   "outputs": [],
   "source": [
    "# df_TCA = df_TCA.drop_duplicates(subset='participant_id')\n",
    "df_TCA = df_TCA.dropna(subset='Sex')"
   ]
  },
  {
   "cell_type": "code",
   "execution_count": 19,
   "id": "b85a72c9",
   "metadata": {},
   "outputs": [],
   "source": [
    "df_TCA.columns = df_TCA.columns.str.replace('-', '_')"
   ]
  },
  {
   "cell_type": "code",
   "execution_count": 20,
   "id": "b3c9c9f2",
   "metadata": {},
   "outputs": [],
   "source": [
    "df_TCA['ASD'] = 'TCA'\n",
    "df_TCA.loc[df_TCA[df_TCA.TSA == 1].index, 'ASD'] = 'TCA_Autism'"
   ]
  },
  {
   "cell_type": "markdown",
   "id": "bfec4648",
   "metadata": {},
   "source": [
    "### Export dataframe"
   ]
  },
  {
   "cell_type": "code",
   "execution_count": 21,
   "id": "bdec05ba",
   "metadata": {},
   "outputs": [],
   "source": [
    "df_TCA.to_csv(os.path.join(data_dir, 'Outputs/df_TCA.csv'), index = False)"
   ]
  },
  {
   "cell_type": "markdown",
   "id": "94f335d0",
   "metadata": {},
   "source": [
    "________________"
   ]
  },
  {
   "cell_type": "markdown",
   "id": "1b7e9e28",
   "metadata": {},
   "source": [
    "# Load TSA"
   ]
  },
  {
   "cell_type": "markdown",
   "id": "23a586ed",
   "metadata": {},
   "source": [
    "Load QC"
   ]
  },
  {
   "cell_type": "code",
   "execution_count": 736,
   "id": "d4769e13",
   "metadata": {},
   "outputs": [],
   "source": [
    "QCtrio = pd.read_csv(os.path.join(data_dir, 'QC_trio.csv'), sep = ',')"
   ]
  },
  {
   "cell_type": "code",
   "execution_count": 737,
   "id": "3ddc4ffc",
   "metadata": {},
   "outputs": [],
   "source": [
    "# Remove missing scans\n",
    "QC_trio = QCtrio.dropna(subset = ['cropped FOV',\n",
    "       'cropped cerebellum', 'cropped orbitofrontal', 'defacing failed',\n",
    "       'motion', 'low Quality brain', 'QC'], how = 'all')\n"
   ]
  },
  {
   "cell_type": "code",
   "execution_count": 738,
   "id": "109bf695",
   "metadata": {
    "scrolled": true
   },
   "outputs": [
    {
     "name": "stderr",
     "output_type": "stream",
     "text": [
      "/var/folders/p5/qymxnxk12156bhtw2jlf3sb40000gr/T/ipykernel_761/1125475520.py:1: SettingWithCopyWarning: \n",
      "A value is trying to be set on a copy of a slice from a DataFrame.\n",
      "Try using .loc[row_indexer,col_indexer] = value instead\n",
      "\n",
      "See the caveats in the documentation: https://pandas.pydata.org/pandas-docs/stable/user_guide/indexing.html#returning-a-view-versus-a-copy\n",
      "  QC_trio['Protocole'] = QC_trio['Protocole'].replace({'isotrope' : 'ISO', 'tfe' : 'TFE'})\n"
     ]
    }
   ],
   "source": [
    "QC_trio['Protocole'] = QC_trio['Protocole'].replace({'isotrope' : 'ISO', 'tfe' : 'TFE'})"
   ]
  },
  {
   "cell_type": "code",
   "execution_count": 739,
   "id": "cc7e417f",
   "metadata": {},
   "outputs": [],
   "source": [
    "l_bids_dup = QC_trio[QC_trio.duplicated(subset = 'BIDS')].BIDS.to_list()"
   ]
  },
  {
   "cell_type": "code",
   "execution_count": 740,
   "id": "e9605370",
   "metadata": {},
   "outputs": [],
   "source": [
    "removed_dup = []\n",
    "for i in l_bids_dup:\n",
    "    temp = QC_trio[QC_trio['BIDS'] == i]\n",
    "\n",
    "    if temp['best Vbrain'].isnull().all():\n",
    "        temp = temp[temp['Protocole'] == 'TFE']\n",
    " \n",
    "    else:\n",
    "        temp = temp[temp['best Vbrain'] == 1]\n",
    "    \n",
    "    removed_dup.append(temp)\n",
    "    \n",
    "QCt = pd.concat(removed_dup)\n"
   ]
  },
  {
   "cell_type": "code",
   "execution_count": 741,
   "id": "bf94e579",
   "metadata": {},
   "outputs": [],
   "source": [
    "QCt = QCt.drop_duplicates(subset=['Unnamed: 0', 'BIDS'])"
   ]
  },
  {
   "cell_type": "code",
   "execution_count": 742,
   "id": "4f948ddf",
   "metadata": {},
   "outputs": [],
   "source": [
    "QC = pd.concat([QC_trio[~(QC_trio.BIDS.isin(l_bids_dup))], QCt])"
   ]
  },
  {
   "cell_type": "code",
   "execution_count": 743,
   "id": "a16e1f57",
   "metadata": {},
   "outputs": [],
   "source": [
    "QC = QC.drop_duplicates(subset='BIDS')"
   ]
  },
  {
   "cell_type": "code",
   "execution_count": 744,
   "id": "1e4ca0aa",
   "metadata": {},
   "outputs": [],
   "source": [
    "participants = []\n",
    "for i in QC['BIDS']:\n",
    "    if (type(i) == str):\n",
    "        participants.append(int(i.split('-')[1]))\n",
    "    else: \n",
    "        participants.append(i)\n",
    "QC['participant_id'] = participants"
   ]
  },
  {
   "cell_type": "markdown",
   "id": "36a57755",
   "metadata": {},
   "source": [
    "Load infos "
   ]
  },
  {
   "cell_type": "code",
   "execution_count": 125,
   "id": "bfd92c37",
   "metadata": {},
   "outputs": [],
   "source": [
    "data_dir = '/Users/ltran/Documents/Data/'\n",
    "isDir = os.path.isdir('/Users/ltran/Documents/Data/TSA_vol/Outputs/')\n",
    "if isDir:\n",
    "    ! rm -r '/Users/ltran/Documents/Data/TSA_vol/Outputs/'\n",
    "! mkdir '/Users/ltran/Documents/Data/TSA_vol/Outputs/'"
   ]
  },
  {
   "cell_type": "code",
   "execution_count": 126,
   "id": "64e1d8da",
   "metadata": {},
   "outputs": [],
   "source": [
    "infos_TSA = pd.read_csv(os.path.join(data_dir, 'TSA_vol/TSA_cohort_dcm_info_anonymized_1.csv'), sep = ';')\n",
    "infos_TSA = infos_TSA.rename(columns={'SubCode BIDS' : 'participant_id'})"
   ]
  },
  {
   "cell_type": "code",
   "execution_count": 127,
   "id": "a30adb24",
   "metadata": {},
   "outputs": [],
   "source": [
    "\n",
    "# Load participants infos (age, sex, diagnosis, scores...)\n",
    "new = pd.read_csv(os.path.join(data_dir, 'participants.tsv'), sep = \"\\t\")"
   ]
  },
  {
   "cell_type": "code",
   "execution_count": 128,
   "id": "2988e367",
   "metadata": {},
   "outputs": [],
   "source": [
    "# Merge instruments with demography\n",
    "new = new.merge(infos_TSA, on = 'participant_id')"
   ]
  },
  {
   "cell_type": "code",
   "execution_count": 129,
   "id": "f2f95f71",
   "metadata": {},
   "outputs": [],
   "source": [
    "# Drop NA in sex, age, diag\n",
    "new = new[~(new.ASD == '?')].dropna(subset = ['sex', 'age_at_first_scan', 'ASD'])"
   ]
  },
  {
   "cell_type": "code",
   "execution_count": 130,
   "id": "66854b7f",
   "metadata": {},
   "outputs": [],
   "source": [
    "# Drop duplicates\n",
    "\n",
    "new = new.drop_duplicates(subset = 'participant_id', keep = 'first')"
   ]
  },
  {
   "cell_type": "code",
   "execution_count": 131,
   "id": "ae92bf0f",
   "metadata": {},
   "outputs": [],
   "source": [
    "new.sex = new.sex.replace({'M' : 1, 'F' : -1})"
   ]
  },
  {
   "cell_type": "code",
   "execution_count": 132,
   "id": "ee3a5116",
   "metadata": {},
   "outputs": [],
   "source": [
    "new = new.rename(columns={'age_at_first_scan' : 'age_at_scan'}) "
   ]
  },
  {
   "cell_type": "code",
   "execution_count": 133,
   "id": "fedc2fe2",
   "metadata": {},
   "outputs": [],
   "source": [
    "new.loc[(new.group == 'Relative') & (new.ASD == 'No'), 'ASD'] = 'Relative'"
   ]
  },
  {
   "cell_type": "markdown",
   "id": "5d8ba7bf",
   "metadata": {},
   "source": [
    "Volumes"
   ]
  },
  {
   "cell_type": "code",
   "execution_count": 134,
   "id": "8338c81d",
   "metadata": {},
   "outputs": [],
   "source": [
    "# Load ISO volume\n",
    "vol_tsa_iso = pd.read_csv(os.path.join(data_dir, 'TSA_vol/volumes-fs-iso.txt'), sep = '\\t')\n",
    "\n",
    "# Load TFE volume\n",
    "vol_tsa_tfe = pd.read_csv(os.path.join(data_dir, 'TSA_vol/volumes-fs-tfe.txt'), sep = '\\t')"
   ]
  },
  {
   "cell_type": "code",
   "execution_count": 135,
   "id": "a6a9bf44",
   "metadata": {},
   "outputs": [],
   "source": [
    "vol_tsa = pd.concat([vol_tsa_iso, vol_tsa_tfe])"
   ]
  },
  {
   "cell_type": "markdown",
   "id": "31baa196",
   "metadata": {},
   "source": [
    "---> CHANGE WITH QC"
   ]
  },
  {
   "cell_type": "code",
   "execution_count": 136,
   "id": "af6d1da8",
   "metadata": {
    "scrolled": true
   },
   "outputs": [],
   "source": [
    "vol_tsa = vol_tsa.drop_duplicates(subset='Subject')"
   ]
  },
  {
   "cell_type": "code",
   "execution_count": 137,
   "id": "976fd2a6",
   "metadata": {},
   "outputs": [],
   "source": [
    "participants = []\n",
    "for i in vol_tsa['Subject']:\n",
    "    participants.append(int(i.split('-')[1].split('_')[0]))\n",
    "    \n",
    "vol_tsa['participant_id'] = participants"
   ]
  },
  {
   "cell_type": "code",
   "execution_count": 138,
   "id": "4e354cee",
   "metadata": {},
   "outputs": [],
   "source": [
    "TSA_volume = vol_tsa.merge(new, on = 'participant_id')"
   ]
  },
  {
   "cell_type": "code",
   "execution_count": 139,
   "id": "d1c1221a",
   "metadata": {},
   "outputs": [],
   "source": [
    "df_both = pd.concat([TSA_volume, df_TCA])"
   ]
  },
  {
   "cell_type": "code",
   "execution_count": 140,
   "id": "494748b5",
   "metadata": {},
   "outputs": [],
   "source": [
    "df_both.columns = df_both.columns.str.replace('-', '_')"
   ]
  },
  {
   "cell_type": "code",
   "execution_count": 141,
   "id": "1ad2fb20",
   "metadata": {},
   "outputs": [],
   "source": [
    "df_both.to_csv(os.path.join(data_dir, 'Outputs/df_both.csv'), index = False)"
   ]
  },
  {
   "cell_type": "markdown",
   "id": "a7861b39",
   "metadata": {},
   "source": [
    "Surface area"
   ]
  },
  {
   "cell_type": "code",
   "execution_count": 142,
   "id": "611402ad",
   "metadata": {},
   "outputs": [],
   "source": [
    "rh_area_iso = pd.read_csv(os.path.join(data_dir, 'TSA_vol/fs-7.2.0-iso.rh.area.csv'), sep = '\\t')\n",
    "lh_area_iso = pd.read_csv(os.path.join(data_dir, 'TSA_vol/fs-7.2.0-iso.lh.area.csv'), sep = '\\t')\n",
    "rh_area_tfe = pd.read_csv(os.path.join(data_dir, 'TSA_vol/fs-7.2.0-tfe.rh.area.csv'), sep = '\\t')\n",
    "lh_area_tfe = pd.read_csv(os.path.join(data_dir, 'TSA_vol/fs-7.2.0-tfe.lh.area.csv'), sep = '\\t')"
   ]
  },
  {
   "cell_type": "code",
   "execution_count": 143,
   "id": "8dbf0187",
   "metadata": {},
   "outputs": [],
   "source": [
    "area_iso = lh_area_iso.merge(rh_area_iso.rename(columns={'rh.aparc.area': 'lh.aparc.area'}), on ='lh.aparc.area')"
   ]
  },
  {
   "cell_type": "code",
   "execution_count": 144,
   "id": "c9e3cf79",
   "metadata": {},
   "outputs": [],
   "source": [
    "area_tfe = lh_area_tfe.merge(rh_area_tfe.rename(columns={'rh.aparc.area': 'lh.aparc.area'}), on ='lh.aparc.area')"
   ]
  },
  {
   "cell_type": "code",
   "execution_count": 145,
   "id": "d6e7e50b",
   "metadata": {},
   "outputs": [],
   "source": [
    "area = pd.concat([area_iso, area_tfe])\n",
    "area = area.rename(columns={'lh.aparc.area' : 'Subject'})"
   ]
  },
  {
   "cell_type": "code",
   "execution_count": 146,
   "id": "3707817b",
   "metadata": {},
   "outputs": [],
   "source": [
    "area = area.drop_duplicates(subset='Subject')"
   ]
  },
  {
   "cell_type": "markdown",
   "id": "7b6ca2f1",
   "metadata": {},
   "source": [
    "Cortical thickness"
   ]
  },
  {
   "cell_type": "code",
   "execution_count": 147,
   "id": "62db0f65",
   "metadata": {},
   "outputs": [],
   "source": [
    "rh_ct_iso = pd.read_csv(os.path.join(data_dir, 'TSA_vol/fs-7.2.0-iso.rh.thickness.csv'), sep = '\\t')\n",
    "lh_ct_iso = pd.read_csv(os.path.join(data_dir, 'TSA_vol/fs-7.2.0-iso.lh.thickness.csv'), sep = '\\t')\n",
    "rh_ct_tfe = pd.read_csv(os.path.join(data_dir, 'TSA_vol/fs-7.2.0-tfe.rh.thickness.csv'), sep = '\\t')\n",
    "lh_ct_tfe = pd.read_csv(os.path.join(data_dir, 'TSA_vol/fs-7.2.0-tfe.lh.thickness.csv'), sep = '\\t')"
   ]
  },
  {
   "cell_type": "code",
   "execution_count": 148,
   "id": "20b5c1cc",
   "metadata": {},
   "outputs": [],
   "source": [
    "ct_iso = lh_ct_iso.merge(rh_ct_iso.rename(columns={'rh.aparc.thickness': 'lh.aparc.thickness'}), on ='lh.aparc.thickness')"
   ]
  },
  {
   "cell_type": "code",
   "execution_count": 149,
   "id": "30ffdec3",
   "metadata": {},
   "outputs": [],
   "source": [
    "ct_tfe = lh_ct_tfe.merge(rh_ct_tfe.rename(columns={'rh.aparc.thickness': 'lh.aparc.thickness'}), on ='lh.aparc.thickness')"
   ]
  },
  {
   "cell_type": "code",
   "execution_count": 150,
   "id": "b8a7ba71",
   "metadata": {},
   "outputs": [],
   "source": [
    "ct = pd.concat([ct_iso, ct_tfe])"
   ]
  },
  {
   "cell_type": "code",
   "execution_count": 151,
   "id": "21b7fe92",
   "metadata": {},
   "outputs": [],
   "source": [
    "ct = ct.rename(columns={'lh.aparc.thickness' : 'Subject'})"
   ]
  },
  {
   "cell_type": "code",
   "execution_count": 152,
   "id": "3bbcb791",
   "metadata": {},
   "outputs": [],
   "source": [
    "ct = ct.drop_duplicates(subset='Subject')"
   ]
  },
  {
   "cell_type": "code",
   "execution_count": null,
   "id": "2c7d9a0f",
   "metadata": {},
   "outputs": [],
   "source": []
  },
  {
   "cell_type": "code",
   "execution_count": 160,
   "id": "0d35a604",
   "metadata": {},
   "outputs": [
    {
     "data": {
      "text/html": [
       "<div>\n",
       "<style scoped>\n",
       "    .dataframe tbody tr th:only-of-type {\n",
       "        vertical-align: middle;\n",
       "    }\n",
       "\n",
       "    .dataframe tbody tr th {\n",
       "        vertical-align: top;\n",
       "    }\n",
       "\n",
       "    .dataframe thead th {\n",
       "        text-align: right;\n",
       "    }\n",
       "</style>\n",
       "<table border=\"1\" class=\"dataframe\">\n",
       "  <thead>\n",
       "    <tr style=\"text-align: right;\">\n",
       "      <th></th>\n",
       "      <th>subject_id</th>\n",
       "      <th>session_id</th>\n",
       "      <th>Sex</th>\n",
       "      <th>Group</th>\n",
       "      <th>FamilyStatus_x</th>\n",
       "      <th>Control</th>\n",
       "      <th>ASD</th>\n",
       "      <th>acq_time</th>\n",
       "      <th>age_at_scan</th>\n",
       "      <th>machine</th>\n",
       "      <th>...</th>\n",
       "      <th>IQ_Instrument</th>\n",
       "      <th>cognitive_level</th>\n",
       "      <th>Max_IQ</th>\n",
       "      <th>Performance_IQ</th>\n",
       "      <th>Verbal_IQ</th>\n",
       "      <th>Total_IQ</th>\n",
       "      <th>developmental_quotient</th>\n",
       "      <th>abide2_code</th>\n",
       "      <th>DNA_Fusion_code</th>\n",
       "      <th>MRI_code_old</th>\n",
       "    </tr>\n",
       "  </thead>\n",
       "  <tbody>\n",
       "    <tr>\n",
       "      <th>0</th>\n",
       "      <td>3</td>\n",
       "      <td>1</td>\n",
       "      <td>Female</td>\n",
       "      <td>Patient</td>\n",
       "      <td>Proband</td>\n",
       "      <td>No</td>\n",
       "      <td>Yes</td>\n",
       "      <td>2006-02-16T19:18:00</td>\n",
       "      <td>9.4</td>\n",
       "      <td>Intera</td>\n",
       "      <td>...</td>\n",
       "      <td>WIS4</td>\n",
       "      <td>1.0</td>\n",
       "      <td>130.0</td>\n",
       "      <td>130.0</td>\n",
       "      <td>103.0</td>\n",
       "      <td>110.0</td>\n",
       "      <td>NaN</td>\n",
       "      <td>29603.0</td>\n",
       "      <td>C0733-011-301-001</td>\n",
       "      <td>MRIPasteur-413</td>\n",
       "    </tr>\n",
       "    <tr>\n",
       "      <th>1</th>\n",
       "      <td>25</td>\n",
       "      <td>1</td>\n",
       "      <td>Male</td>\n",
       "      <td>Patient</td>\n",
       "      <td>Proband</td>\n",
       "      <td>No</td>\n",
       "      <td>Yes</td>\n",
       "      <td>2007-01-22T10:49:05</td>\n",
       "      <td>6.4</td>\n",
       "      <td>Intera</td>\n",
       "      <td>...</td>\n",
       "      <td>RAVEN</td>\n",
       "      <td>3.0</td>\n",
       "      <td>66.0</td>\n",
       "      <td>66.0</td>\n",
       "      <td>NaN</td>\n",
       "      <td>NaN</td>\n",
       "      <td>22</td>\n",
       "      <td>NaN</td>\n",
       "      <td>20496</td>\n",
       "      <td>MRIPasteur-068</td>\n",
       "    </tr>\n",
       "    <tr>\n",
       "      <th>2</th>\n",
       "      <td>70</td>\n",
       "      <td>3</td>\n",
       "      <td>Male</td>\n",
       "      <td>Patient</td>\n",
       "      <td>Proband</td>\n",
       "      <td>No</td>\n",
       "      <td>Yes</td>\n",
       "      <td>2014-12-06T10:35:48</td>\n",
       "      <td>11.3</td>\n",
       "      <td>Ingenia</td>\n",
       "      <td>...</td>\n",
       "      <td>WIS4</td>\n",
       "      <td>1.0</td>\n",
       "      <td>103.0</td>\n",
       "      <td>96.0</td>\n",
       "      <td>83.0</td>\n",
       "      <td>87.0</td>\n",
       "      <td>NaN</td>\n",
       "      <td>NaN</td>\n",
       "      <td>C0733-011-314-001</td>\n",
       "      <td>MRIPasteur-081</td>\n",
       "    </tr>\n",
       "    <tr>\n",
       "      <th>3</th>\n",
       "      <td>95</td>\n",
       "      <td>1</td>\n",
       "      <td>Female</td>\n",
       "      <td>Patient</td>\n",
       "      <td>Proband</td>\n",
       "      <td>No</td>\n",
       "      <td>Yes</td>\n",
       "      <td>2008-05-07T10:50:19</td>\n",
       "      <td>14.5</td>\n",
       "      <td>Intera</td>\n",
       "      <td>...</td>\n",
       "      <td>WAI4</td>\n",
       "      <td>1.0</td>\n",
       "      <td>116.0</td>\n",
       "      <td>90.0</td>\n",
       "      <td>116.0</td>\n",
       "      <td>NaN</td>\n",
       "      <td>NaN</td>\n",
       "      <td>29613.0</td>\n",
       "      <td>C0733-011-305-001</td>\n",
       "      <td>MRIPasteur-128</td>\n",
       "    </tr>\n",
       "    <tr>\n",
       "      <th>4</th>\n",
       "      <td>96</td>\n",
       "      <td>1</td>\n",
       "      <td>Male</td>\n",
       "      <td>Patient</td>\n",
       "      <td>Proband</td>\n",
       "      <td>No</td>\n",
       "      <td>Yes</td>\n",
       "      <td>2008-05-16T13:45:57</td>\n",
       "      <td>4.9</td>\n",
       "      <td>Intera</td>\n",
       "      <td>...</td>\n",
       "      <td>WIP</td>\n",
       "      <td>1.0</td>\n",
       "      <td>94.0</td>\n",
       "      <td>94.0</td>\n",
       "      <td>61.0</td>\n",
       "      <td>NaN</td>\n",
       "      <td>NaN</td>\n",
       "      <td>NaN</td>\n",
       "      <td>AU-RD-GAR-293-004</td>\n",
       "      <td>MRIPasteur-046</td>\n",
       "    </tr>\n",
       "    <tr>\n",
       "      <th>...</th>\n",
       "      <td>...</td>\n",
       "      <td>...</td>\n",
       "      <td>...</td>\n",
       "      <td>...</td>\n",
       "      <td>...</td>\n",
       "      <td>...</td>\n",
       "      <td>...</td>\n",
       "      <td>...</td>\n",
       "      <td>...</td>\n",
       "      <td>...</td>\n",
       "      <td>...</td>\n",
       "      <td>...</td>\n",
       "      <td>...</td>\n",
       "      <td>...</td>\n",
       "      <td>...</td>\n",
       "      <td>...</td>\n",
       "      <td>...</td>\n",
       "      <td>...</td>\n",
       "      <td>...</td>\n",
       "      <td>...</td>\n",
       "      <td>...</td>\n",
       "    </tr>\n",
       "    <tr>\n",
       "      <th>785</th>\n",
       "      <td>1472</td>\n",
       "      <td>1</td>\n",
       "      <td>Female</td>\n",
       "      <td>Patient</td>\n",
       "      <td>Proband</td>\n",
       "      <td>No</td>\n",
       "      <td>Yes</td>\n",
       "      <td>2020-01-23T13:59:53</td>\n",
       "      <td>4.1</td>\n",
       "      <td>Ingenia_3T</td>\n",
       "      <td>...</td>\n",
       "      <td>NaN</td>\n",
       "      <td>NaN</td>\n",
       "      <td>NaN</td>\n",
       "      <td>NaN</td>\n",
       "      <td>NaN</td>\n",
       "      <td>NaN</td>\n",
       "      <td>NaN</td>\n",
       "      <td>NaN</td>\n",
       "      <td>NaN</td>\n",
       "      <td>NaN</td>\n",
       "    </tr>\n",
       "    <tr>\n",
       "      <th>786</th>\n",
       "      <td>1474</td>\n",
       "      <td>1</td>\n",
       "      <td>Male</td>\n",
       "      <td>Patient</td>\n",
       "      <td>Proband</td>\n",
       "      <td>No</td>\n",
       "      <td>Yes</td>\n",
       "      <td>2020-01-27T08:41:04</td>\n",
       "      <td>7.1</td>\n",
       "      <td>Ingenia_3T</td>\n",
       "      <td>...</td>\n",
       "      <td>NaN</td>\n",
       "      <td>NaN</td>\n",
       "      <td>NaN</td>\n",
       "      <td>NaN</td>\n",
       "      <td>NaN</td>\n",
       "      <td>NaN</td>\n",
       "      <td>NaN</td>\n",
       "      <td>NaN</td>\n",
       "      <td>NaN</td>\n",
       "      <td>NaN</td>\n",
       "    </tr>\n",
       "    <tr>\n",
       "      <th>787</th>\n",
       "      <td>1477</td>\n",
       "      <td>1</td>\n",
       "      <td>Male</td>\n",
       "      <td>Patient</td>\n",
       "      <td>Proband</td>\n",
       "      <td>No</td>\n",
       "      <td>Yes</td>\n",
       "      <td>2020-01-28T15:28:10</td>\n",
       "      <td>5.0</td>\n",
       "      <td>Ingenia_3T</td>\n",
       "      <td>...</td>\n",
       "      <td>NaN</td>\n",
       "      <td>NaN</td>\n",
       "      <td>NaN</td>\n",
       "      <td>NaN</td>\n",
       "      <td>NaN</td>\n",
       "      <td>NaN</td>\n",
       "      <td>NaN</td>\n",
       "      <td>NaN</td>\n",
       "      <td>NaN</td>\n",
       "      <td>NaN</td>\n",
       "    </tr>\n",
       "    <tr>\n",
       "      <th>788</th>\n",
       "      <td>1478</td>\n",
       "      <td>1</td>\n",
       "      <td>Female</td>\n",
       "      <td>Patient</td>\n",
       "      <td>Proband</td>\n",
       "      <td>No</td>\n",
       "      <td>Yes</td>\n",
       "      <td>2020-02-03T08:42:28</td>\n",
       "      <td>8.0</td>\n",
       "      <td>Ingenia_3T</td>\n",
       "      <td>...</td>\n",
       "      <td>NaN</td>\n",
       "      <td>NaN</td>\n",
       "      <td>NaN</td>\n",
       "      <td>NaN</td>\n",
       "      <td>NaN</td>\n",
       "      <td>NaN</td>\n",
       "      <td>NaN</td>\n",
       "      <td>NaN</td>\n",
       "      <td>NaN</td>\n",
       "      <td>NaN</td>\n",
       "    </tr>\n",
       "    <tr>\n",
       "      <th>789</th>\n",
       "      <td>1480</td>\n",
       "      <td>1</td>\n",
       "      <td>Male</td>\n",
       "      <td>Patient</td>\n",
       "      <td>Proband</td>\n",
       "      <td>No</td>\n",
       "      <td>Yes</td>\n",
       "      <td>2020-02-04T08:20:29</td>\n",
       "      <td>11.2</td>\n",
       "      <td>Ingenia_3T</td>\n",
       "      <td>...</td>\n",
       "      <td>WISC-IV</td>\n",
       "      <td>1.0</td>\n",
       "      <td>143.0</td>\n",
       "      <td>NaN</td>\n",
       "      <td>NaN</td>\n",
       "      <td>NaN</td>\n",
       "      <td>NaN</td>\n",
       "      <td>NaN</td>\n",
       "      <td>NaN</td>\n",
       "      <td>NaN</td>\n",
       "    </tr>\n",
       "  </tbody>\n",
       "</table>\n",
       "<p>790 rows × 271 columns</p>\n",
       "</div>"
      ],
      "text/plain": [
       "     subject_id  session_id     Sex    Group FamilyStatus_x Control  ASD  \\\n",
       "0             3           1  Female  Patient        Proband      No  Yes   \n",
       "1            25           1    Male  Patient        Proband      No  Yes   \n",
       "2            70           3    Male  Patient        Proband      No  Yes   \n",
       "3            95           1  Female  Patient        Proband      No  Yes   \n",
       "4            96           1    Male  Patient        Proband      No  Yes   \n",
       "..          ...         ...     ...      ...            ...     ...  ...   \n",
       "785        1472           1  Female  Patient        Proband      No  Yes   \n",
       "786        1474           1    Male  Patient        Proband      No  Yes   \n",
       "787        1477           1    Male  Patient        Proband      No  Yes   \n",
       "788        1478           1  Female  Patient        Proband      No  Yes   \n",
       "789        1480           1    Male  Patient        Proband      No  Yes   \n",
       "\n",
       "                acq_time  age_at_scan     machine  ... IQ_Instrument  \\\n",
       "0    2006-02-16T19:18:00          9.4      Intera  ...          WIS4   \n",
       "1    2007-01-22T10:49:05          6.4      Intera  ...         RAVEN   \n",
       "2    2014-12-06T10:35:48         11.3     Ingenia  ...          WIS4   \n",
       "3    2008-05-07T10:50:19         14.5      Intera  ...          WAI4   \n",
       "4    2008-05-16T13:45:57          4.9      Intera  ...           WIP   \n",
       "..                   ...          ...         ...  ...           ...   \n",
       "785  2020-01-23T13:59:53          4.1  Ingenia_3T  ...           NaN   \n",
       "786  2020-01-27T08:41:04          7.1  Ingenia_3T  ...           NaN   \n",
       "787  2020-01-28T15:28:10          5.0  Ingenia_3T  ...           NaN   \n",
       "788  2020-02-03T08:42:28          8.0  Ingenia_3T  ...           NaN   \n",
       "789  2020-02-04T08:20:29         11.2  Ingenia_3T  ...       WISC-IV   \n",
       "\n",
       "     cognitive_level  Max_IQ  Performance_IQ  Verbal_IQ  Total_IQ  \\\n",
       "0                1.0   130.0           130.0      103.0     110.0   \n",
       "1                3.0    66.0            66.0        NaN       NaN   \n",
       "2                1.0   103.0            96.0       83.0      87.0   \n",
       "3                1.0   116.0            90.0      116.0       NaN   \n",
       "4                1.0    94.0            94.0       61.0       NaN   \n",
       "..               ...     ...             ...        ...       ...   \n",
       "785              NaN     NaN             NaN        NaN       NaN   \n",
       "786              NaN     NaN             NaN        NaN       NaN   \n",
       "787              NaN     NaN             NaN        NaN       NaN   \n",
       "788              NaN     NaN             NaN        NaN       NaN   \n",
       "789              1.0   143.0             NaN        NaN       NaN   \n",
       "\n",
       "     developmental_quotient abide2_code    DNA_Fusion_code    MRI_code_old  \n",
       "0                       NaN     29603.0  C0733-011-301-001  MRIPasteur-413  \n",
       "1                        22         NaN              20496  MRIPasteur-068  \n",
       "2                       NaN         NaN  C0733-011-314-001  MRIPasteur-081  \n",
       "3                       NaN     29613.0  C0733-011-305-001  MRIPasteur-128  \n",
       "4                       NaN         NaN  AU-RD-GAR-293-004  MRIPasteur-046  \n",
       "..                      ...         ...                ...             ...  \n",
       "785                     NaN         NaN                NaN             NaN  \n",
       "786                     NaN         NaN                NaN             NaN  \n",
       "787                     NaN         NaN                NaN             NaN  \n",
       "788                     NaN         NaN                NaN             NaN  \n",
       "789                     NaN         NaN                NaN             NaN  \n",
       "\n",
       "[790 rows x 271 columns]"
      ]
     },
     "execution_count": 160,
     "metadata": {},
     "output_type": "execute_result"
    }
   ],
   "source": [
    "df_RDB = pd.read_csv(os.path.join(data_dir, 'Outputs/df_RDB.csv'))\n",
    "df_RDB"
   ]
  },
  {
   "cell_type": "markdown",
   "id": "aefe99e4",
   "metadata": {},
   "source": [
    "### Merge volume / area / ct"
   ]
  },
  {
   "cell_type": "code",
   "execution_count": 161,
   "id": "521911db",
   "metadata": {},
   "outputs": [],
   "source": [
    "df_tsa = area.merge(ct, on = 'Subject')"
   ]
  },
  {
   "cell_type": "code",
   "execution_count": 162,
   "id": "04fdeebe",
   "metadata": {},
   "outputs": [],
   "source": [
    "df_tsa = df_tsa.merge(vol_tsa, on = 'Subject')"
   ]
  },
  {
   "cell_type": "code",
   "execution_count": 163,
   "id": "d5e39360",
   "metadata": {},
   "outputs": [],
   "source": [
    "participants = []\n",
    "for i in df_tsa['Subject']:\n",
    "    participants.append(int(i.split('-')[1].split('_')[0]))\n",
    "    \n",
    "df_tsa['participant_id'] = participants"
   ]
  },
  {
   "cell_type": "code",
   "execution_count": 164,
   "id": "97cd3738",
   "metadata": {},
   "outputs": [],
   "source": [
    "df_tsa = df_tsa.merge(df_RDB, on = 'participant_id')"
   ]
  },
  {
   "cell_type": "code",
   "execution_count": 165,
   "id": "dc29856b",
   "metadata": {},
   "outputs": [],
   "source": [
    "df_tsa.columns = df_tsa.columns.str.replace('-', '_')"
   ]
  },
  {
   "cell_type": "code",
   "execution_count": 170,
   "id": "ec63ba06",
   "metadata": {},
   "outputs": [],
   "source": [
    "df_tsa = df_tsa.drop_duplicates(subset='participant_id', keep = 'first')"
   ]
  },
  {
   "cell_type": "markdown",
   "id": "3b23a115",
   "metadata": {},
   "source": [
    "## Export TSA"
   ]
  },
  {
   "cell_type": "code",
   "execution_count": 171,
   "id": "437a9d6a",
   "metadata": {},
   "outputs": [],
   "source": [
    "df_tsa.to_csv(os.path.join(data_dir, 'TSA_vol/Outputs/df_TSA.csv'), index = False)"
   ]
  },
  {
   "cell_type": "markdown",
   "id": "f92847fa",
   "metadata": {},
   "source": [
    "## Export TSA + TCA"
   ]
  },
  {
   "cell_type": "code",
   "execution_count": 113,
   "id": "6626c3f4",
   "metadata": {
    "scrolled": false
   },
   "outputs": [
    {
     "data": {
      "text/plain": [
       "'/Users/ltran/Documents/Data/'"
      ]
     },
     "execution_count": 113,
     "metadata": {},
     "output_type": "execute_result"
    }
   ],
   "source": [
    "data_dir"
   ]
  },
  {
   "cell_type": "code",
   "execution_count": 115,
   "id": "6de5077f",
   "metadata": {},
   "outputs": [],
   "source": [
    "df_tsa_tca = pd.concat([df_tsa, df_TCA])\n"
   ]
  },
  {
   "cell_type": "code",
   "execution_count": 771,
   "id": "862bcce6",
   "metadata": {},
   "outputs": [
    {
     "data": {
      "text/plain": [
       "ASD\n",
       "No            135\n",
       "Relative      203\n",
       "TCA           110\n",
       "TCA_Autism      5\n",
       "Yes           437\n",
       "dtype: int64"
      ]
     },
     "execution_count": 771,
     "metadata": {},
     "output_type": "execute_result"
    }
   ],
   "source": [
    "df_tsa_tca.groupby('ASD').size()"
   ]
  },
  {
   "cell_type": "code",
   "execution_count": 121,
   "id": "739952f2",
   "metadata": {},
   "outputs": [],
   "source": [
    "df_tsa_tca = df_tsa_tca.drop_duplicates(subset='participant_id', keep = 'first')"
   ]
  },
  {
   "cell_type": "code",
   "execution_count": 124,
   "id": "57621ad1",
   "metadata": {},
   "outputs": [],
   "source": [
    "df_tsa_tca.to_csv(os.path.join(data_dir, 'Outputs/df_TCA_TSA.csv'), index = False)"
   ]
  },
  {
   "cell_type": "code",
   "execution_count": null,
   "id": "3fd84028",
   "metadata": {},
   "outputs": [],
   "source": []
  }
 ],
 "metadata": {
  "kernelspec": {
   "display_name": "Python 3 (ipykernel)",
   "language": "python",
   "name": "python3"
  },
  "language_info": {
   "codemirror_mode": {
    "name": "ipython",
    "version": 3
   },
   "file_extension": ".py",
   "mimetype": "text/x-python",
   "name": "python",
   "nbconvert_exporter": "python",
   "pygments_lexer": "ipython3",
   "version": "3.9.7"
  }
 },
 "nbformat": 4,
 "nbformat_minor": 5
}
