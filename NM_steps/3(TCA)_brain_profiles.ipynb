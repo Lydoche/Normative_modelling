{
 "cells": [
  {
   "cell_type": "code",
   "execution_count": 1,
   "id": "26020c82",
   "metadata": {},
   "outputs": [],
   "source": [
    "import os\n",
    "os.chdir('/Users/ltran/Documents/TrueData29/CPC_ML_tutorial/')\n",
    "\n",
    "import numpy as np\n",
    "import pandas as pd\n",
    "import pickle\n",
    "from matplotlib import pyplot as plt\n",
    "import seaborn as sns\n",
    "import random\n",
    "import joypy\n",
    "from matplotlib import cm\n",
    "import joypy\n",
    "from matplotlib import cm\n",
    "\n",
    "from scipy.stats import fisher_exact\n",
    "from pcntoolkit.normative import estimate, predict, evaluate\n",
    "from pcntoolkit.util.utils import compute_MSLL, create_design_matrix\n",
    "from nm_utils import calibration_descriptives, remove_bad_subjects, load_2d\n",
    "from sklearn.model_selection import train_test_split\n",
    "\n",
    "# Set working directory\n",
    "root_dir = '/Users/ltran/Documents/TrueData0104/CPC_ML_tutorial/'\n",
    "out_dir = os.path.join(root_dir,'models','test')\n",
    "\n",
    "# create the output directory if it does not already exist\n",
    "os.makedirs(out_dir, exist_ok=True)"
   ]
  },
  {
   "cell_type": "code",
   "execution_count": 2,
   "id": "6053f1ff",
   "metadata": {},
   "outputs": [],
   "source": [
    "data_dir = '/Users/ltran/Documents/Data/'"
   ]
  },
  {
   "cell_type": "code",
   "execution_count": 4,
   "id": "5d9bf7b1",
   "metadata": {},
   "outputs": [],
   "source": [
    "df_tca = pd.read_csv(os.path.join(data_dir, 'TCA_vol/df_tca_matched.csv'))\n",
    "df_asd = pd.read_csv(os.path.join(data_dir, 'TSA_vol/df_asd_matched.csv'))\n",
    "df_td = pd.read_csv(os.path.join(data_dir, 'TSA_vol/df_td_matched.csv'))"
   ]
  },
  {
   "cell_type": "code",
   "execution_count": 8,
   "id": "0ec83c1d",
   "metadata": {},
   "outputs": [
    {
     "data": {
      "text/plain": [
       "0     1.347423e+06\n",
       "1     1.450425e+06\n",
       "2     1.284288e+06\n",
       "3     1.489470e+06\n",
       "4     1.567500e+06\n",
       "          ...     \n",
       "90    1.400259e+06\n",
       "91    1.445848e+06\n",
       "92    1.576802e+06\n",
       "93    1.389950e+06\n",
       "94    1.326934e+06\n",
       "Name: EstimatedTotalIntraCranialVol, Length: 95, dtype: float64"
      ]
     },
     "execution_count": 8,
     "metadata": {},
     "output_type": "execute_result"
    }
   ],
   "source": [
    "df_tca.EstimatedTotalIntraCranialVol"
   ]
  },
  {
   "cell_type": "code",
   "execution_count": 9,
   "id": "99f5141c",
   "metadata": {
    "scrolled": true
   },
   "outputs": [
    {
     "data": {
      "text/plain": [
       "0     1.482861e+06\n",
       "1     1.513245e+06\n",
       "2     1.366710e+06\n",
       "3     1.683211e+06\n",
       "4     1.542727e+06\n",
       "          ...     \n",
       "78    1.298638e+06\n",
       "79    1.289817e+06\n",
       "80    1.289440e+06\n",
       "81    1.186601e+06\n",
       "82    1.347594e+06\n",
       "Name: EstimatedTotalIntraCranialVol, Length: 83, dtype: float64"
      ]
     },
     "execution_count": 9,
     "metadata": {},
     "output_type": "execute_result"
    }
   ],
   "source": [
    "df_asd['EstimatedTotalIntraCranialVol']"
   ]
  },
  {
   "cell_type": "code",
   "execution_count": 10,
   "id": "15a25aaf",
   "metadata": {},
   "outputs": [
    {
     "data": {
      "text/plain": [
       "0     1.554263e+06\n",
       "1     1.655243e+06\n",
       "2     1.422548e+06\n",
       "3     1.569536e+06\n",
       "4     1.711528e+06\n",
       "5     1.371536e+06\n",
       "6     1.373208e+06\n",
       "7     1.306223e+06\n",
       "8     1.443212e+06\n",
       "9     1.363036e+06\n",
       "10    1.361243e+06\n",
       "11    1.338536e+06\n",
       "12    1.620583e+06\n",
       "13    1.547871e+06\n",
       "14    1.496857e+06\n",
       "15    1.422725e+06\n",
       "16    1.483347e+06\n",
       "17    1.389048e+06\n",
       "18    1.463594e+06\n",
       "19    1.388892e+06\n",
       "20    1.548552e+06\n",
       "21    1.505399e+06\n",
       "22    1.368608e+06\n",
       "23    1.315962e+06\n",
       "24    1.360125e+06\n",
       "25    1.288950e+06\n",
       "26    1.497317e+06\n",
       "27    1.409622e+06\n",
       "28    1.543806e+06\n",
       "29    1.457268e+06\n",
       "30    1.701016e+06\n",
       "31    1.221506e+06\n",
       "32    1.137086e+06\n",
       "33    1.695028e+06\n",
       "34    1.613101e+06\n",
       "35    1.364670e+06\n",
       "36    1.299202e+06\n",
       "37    1.218608e+06\n",
       "38    1.243907e+06\n",
       "39    1.371044e+06\n",
       "Name: EstimatedTotalIntraCranialVol, dtype: float64"
      ]
     },
     "execution_count": 10,
     "metadata": {},
     "output_type": "execute_result"
    }
   ],
   "source": [
    "df_td['EstimatedTotalIntraCranialVol']"
   ]
  },
  {
   "cell_type": "code",
   "execution_count": null,
   "id": "487d8ec2",
   "metadata": {},
   "outputs": [],
   "source": [
    "df_3groups= pd.concat([df_asd, d])"
   ]
  }
 ],
 "metadata": {
  "kernelspec": {
   "display_name": "Python 3 (ipykernel)",
   "language": "python",
   "name": "python3"
  },
  "language_info": {
   "codemirror_mode": {
    "name": "ipython",
    "version": 3
   },
   "file_extension": ".py",
   "mimetype": "text/x-python",
   "name": "python",
   "nbconvert_exporter": "python",
   "pygments_lexer": "ipython3",
   "version": "3.9.7"
  }
 },
 "nbformat": 4,
 "nbformat_minor": 5
}
