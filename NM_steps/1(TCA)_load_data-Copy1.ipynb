{
 "cells": [
  {
   "cell_type": "code",
   "execution_count": 1083,
   "id": "1a63a3ab",
   "metadata": {},
   "outputs": [],
   "source": [
    "import os\n",
    "os.chdir('/Users/ltran/Documents/TrueData29/CPC_ML_tutorial/')\n",
    "\n",
    "import numpy as np\n",
    "import pandas as pd\n",
    "import pickle\n",
    "from matplotlib import pyplot as plt\n",
    "import seaborn as sns\n",
    "import random\n",
    "import joypy\n",
    "from matplotlib import cm\n",
    "\n",
    "from scipy.stats import fisher_exact\n",
    "from pcntoolkit.normative import estimate, predict, evaluate\n",
    "from pcntoolkit.util.utils import compute_MSLL, create_design_matrix\n",
    "from nm_utils import calibration_descriptives, remove_bad_subjects, load_2d\n",
    "from sklearn.model_selection import train_test_split\n",
    "\n",
    "# Set working directory\n",
    "root_dir = '/Users/ltran/Documents/TrueData0104/CPC_ML_tutorial/'\n",
    "out_dir = os.path.join(root_dir,'models','test')\n",
    "\n",
    "# create the output directory if it does not already exist\n",
    "os.makedirs(out_dir, exist_ok=True)"
   ]
  },
  {
   "cell_type": "markdown",
   "id": "23d89159",
   "metadata": {},
   "source": [
    "# Load TCA"
   ]
  },
  {
   "cell_type": "code",
   "execution_count": 1084,
   "id": "92a96e96",
   "metadata": {},
   "outputs": [],
   "source": [
    "data_dir = '/Users/ltran/Documents/Data/'\n"
   ]
  },
  {
   "cell_type": "markdown",
   "id": "1cc50e36",
   "metadata": {},
   "source": [
    "## Compute BMI"
   ]
  },
  {
   "cell_type": "code",
   "execution_count": 1377,
   "id": "a7baeb4a",
   "metadata": {},
   "outputs": [],
   "source": [
    "pheno = pd.read_csv(os.path.join(data_dir, 'TCA_vol/MRI_RDB_TCA_20220629_anonym.tsv'), sep = '\\t')"
   ]
  },
  {
   "cell_type": "code",
   "execution_count": 1378,
   "id": "8f308f89",
   "metadata": {},
   "outputs": [],
   "source": [
    "#Format height in meters\n",
    "\n",
    "l_height = []\n",
    "for i in pheno['size_at_scan']:\n",
    "    if (i>100):\n",
    "        l_height.append(i/100)\n",
    "    else:\n",
    "        l_height.append(i)\n",
    "\n",
    "pheno['height_m'] = l_height\n",
    "pheno = pheno.rename(columns={'subject_id' : 'participant_id'})"
   ]
  },
  {
   "cell_type": "code",
   "execution_count": 1379,
   "id": "b3bd827d",
   "metadata": {},
   "outputs": [],
   "source": [
    "# Compute BMI \n",
    "\n",
    "pheno['BMI'] = pheno['weight_at_scan'] / (pheno['height_m'] ** 2)"
   ]
  },
  {
   "cell_type": "markdown",
   "id": "aa18c0e3",
   "metadata": {},
   "source": [
    "# Merge Volume, Area, CT"
   ]
  },
  {
   "cell_type": "code",
   "execution_count": 1561,
   "id": "ca0c5866",
   "metadata": {},
   "outputs": [],
   "source": [
    "# Load ISO volume\n",
    "vol_iso = pd.read_csv(os.path.join(data_dir, 'TCA_vol/volumes-fs-iso.txt'), sep = '\\t')\n",
    "\n",
    "# Load TFE volume\n",
    "vol_tfe = pd.read_csv(os.path.join(data_dir, 'TCA_vol/volumes-fs-tfe.txt'), sep = '\\t')"
   ]
  },
  {
   "cell_type": "code",
   "execution_count": 1562,
   "id": "26c507c8",
   "metadata": {},
   "outputs": [],
   "source": [
    "vol_tca = pd.concat([vol_tfe, vol_iso])"
   ]
  },
  {
   "cell_type": "code",
   "execution_count": 1563,
   "id": "4eac9300",
   "metadata": {},
   "outputs": [],
   "source": [
    "lh_area_iso = pd.read_csv(os.path.join(data_dir, 'TCA_vol/fs-7.2.0-iso.lh.area.csv'), sep = '\\t') \n",
    "rh_area_iso = pd.read_csv(os.path.join(data_dir, 'TCA_vol/fs-7.2.0-iso.rh.area.csv'), sep = '\\t') \n",
    "\n",
    "\n",
    "lh_area_tfe = pd.read_csv(os.path.join(data_dir, 'TCA_vol/fs-7.2.0-tfe.lh.area.csv'), sep = '\\t') \n",
    "rh_area_tfe = pd.read_csv(os.path.join(data_dir, 'TCA_vol/fs-7.2.0-tfe.rh.area.csv'), sep = '\\t') \n",
    "\n",
    "area_iso = lh_area_iso.merge(rh_area_iso.rename(columns={'rh.aparc.area': 'lh.aparc.area'}), on ='lh.aparc.area')\n",
    "\n",
    "area_tfe = lh_area_tfe.merge(rh_area_tfe.rename(columns={'rh.aparc.area': 'lh.aparc.area'}), on ='lh.aparc.area')"
   ]
  },
  {
   "cell_type": "code",
   "execution_count": 1564,
   "id": "45499174",
   "metadata": {},
   "outputs": [],
   "source": [
    "area = pd.concat([area_iso, area_tfe])\n",
    "area = area.rename(columns= {'lh.aparc.area' : 'Subject'})"
   ]
  },
  {
   "cell_type": "code",
   "execution_count": 1565,
   "id": "a13c2302",
   "metadata": {},
   "outputs": [],
   "source": [
    "lh_ct_iso = pd.read_csv(os.path.join(data_dir, 'TCA_vol/fs-7.2.0-iso.lh.thickness.csv'), sep = '\\t') \n",
    "rh_ct_iso = pd.read_csv(os.path.join(data_dir, 'TCA_vol/fs-7.2.0-iso.rh.thickness.csv'), sep = '\\t') \n",
    "\n",
    "ct_iso = lh_ct_iso.merge(rh_ct_iso.rename(columns={'rh.aparc.thickness': 'lh.aparc.thickness'}), \n",
    "               on = 'lh.aparc.thickness')\n",
    "\n",
    "\n",
    "lh_ct_tfe = pd.read_csv(os.path.join(data_dir, 'TCA_vol/fs-7.2.0-tfe.lh.thickness.csv'), sep = '\\t') \n",
    "rh_ct_tfe = pd.read_csv(os.path.join(data_dir, 'TCA_vol/fs-7.2.0-tfe.rh.thickness.csv'), sep = '\\t') \n",
    "\n",
    "ct_tfe = lh_ct_tfe.merge(rh_ct_tfe.rename(columns={'rh.aparc.thickness': 'lh.aparc.thickness'}), \n",
    "               on = 'lh.aparc.thickness')\n",
    "\n",
    "\n",
    "ct = pd.concat([ct_iso, ct_tfe])\n",
    "ct = ct.rename(columns= {'lh.aparc.thickness' : 'Subject'})"
   ]
  },
  {
   "cell_type": "code",
   "execution_count": 1566,
   "id": "1a2b6a8b",
   "metadata": {},
   "outputs": [],
   "source": [
    "df_TCA = area.merge(vol_tca, on = 'Subject').merge(ct, on='Subject')"
   ]
  },
  {
   "cell_type": "code",
   "execution_count": 1567,
   "id": "16e9dc33",
   "metadata": {},
   "outputs": [],
   "source": [
    "l_pi = []\n",
    "for i in df_TCA['Subject']:\n",
    "    l_pi.append(int(i.split('-')[1].split('_')[0]))\n",
    "\n",
    "df_TCA['participant_id'] = l_pi"
   ]
  },
  {
   "cell_type": "code",
   "execution_count": 1568,
   "id": "33e70bdc",
   "metadata": {},
   "outputs": [],
   "source": [
    "df_TCA = df_TCA.merge(pheno.rename(columns={'subject_id':'participant_id'}), on = 'participant_id')"
   ]
  },
  {
   "cell_type": "code",
   "execution_count": 1569,
   "id": "296fe7cd",
   "metadata": {},
   "outputs": [],
   "source": [
    "df_TCA['sex'] = df_TCA['Sex'].replace({'Female' : -1, 'Male' : 1})"
   ]
  },
  {
   "cell_type": "code",
   "execution_count": 1570,
   "id": "2ffb7b1b",
   "metadata": {},
   "outputs": [],
   "source": [
    "# df_TCA = df_TCA.drop_duplicates(subset='participant_id')\n",
    "df_TCA = df_TCA.dropna(subset='Sex')"
   ]
  },
  {
   "cell_type": "code",
   "execution_count": 1571,
   "id": "b85a72c9",
   "metadata": {},
   "outputs": [],
   "source": [
    "df_TCA.columns = df_TCA.columns.str.replace('-', '_')"
   ]
  },
  {
   "cell_type": "code",
   "execution_count": 1572,
   "id": "b3c9c9f2",
   "metadata": {},
   "outputs": [],
   "source": [
    "df_TCA['ASD'] = 'TCA'\n",
    "df_TCA.loc[df_TCA[df_TCA.TSA == 1].index, 'ASD'] = 'TCA_Autism'"
   ]
  },
  {
   "cell_type": "code",
   "execution_count": 1573,
   "id": "c9af9f07",
   "metadata": {},
   "outputs": [],
   "source": [
    "df_TCA = df_TCA.drop_duplicates(subset='Subject', keep = 'first')"
   ]
  },
  {
   "cell_type": "code",
   "execution_count": 1574,
   "id": "68dd55fc",
   "metadata": {},
   "outputs": [],
   "source": [
    "df_TCA['participant_id'] = df_TCA['participant_id'].astype(str)+'_TCA'"
   ]
  },
  {
   "cell_type": "code",
   "execution_count": 1575,
   "id": "05e647d4",
   "metadata": {},
   "outputs": [],
   "source": [
    "df_TCA['size_at_scan'] = df_TCA['size_at_scan'].replace(0.92, 92)"
   ]
  },
  {
   "cell_type": "code",
   "execution_count": 1576,
   "id": "991b00c3",
   "metadata": {},
   "outputs": [],
   "source": [
    "df_TCA = df_TCA.dropna(subset='BMI')"
   ]
  },
  {
   "cell_type": "code",
   "execution_count": 1577,
   "id": "11b226ef",
   "metadata": {},
   "outputs": [],
   "source": [
    "df_TCA['Month'] = df_TCA['age_at_scan']*12"
   ]
  },
  {
   "cell_type": "code",
   "execution_count": 1578,
   "id": "e55c0437",
   "metadata": {},
   "outputs": [],
   "source": [
    "df_TCA.sex = df_TCA.sex.replace(-1, 2)"
   ]
  },
  {
   "cell_type": "markdown",
   "id": "bfec4648",
   "metadata": {},
   "source": [
    "### Export dataframe"
   ]
  },
  {
   "cell_type": "code",
   "execution_count": 1579,
   "id": "9174b868",
   "metadata": {},
   "outputs": [
    {
     "data": {
      "text/plain": [
       "'/Users/ltran/Documents/Data/'"
      ]
     },
     "execution_count": 1579,
     "metadata": {},
     "output_type": "execute_result"
    }
   ],
   "source": [
    "data_dir"
   ]
  },
  {
   "cell_type": "code",
   "execution_count": 1580,
   "id": "bdec05ba",
   "metadata": {},
   "outputs": [],
   "source": [
    "df_TCA.to_csv(os.path.join(data_dir, 'TCA_vol/Outputs/df_TCA.csv'), index = False)"
   ]
  },
  {
   "cell_type": "markdown",
   "id": "94f335d0",
   "metadata": {},
   "source": [
    "________________"
   ]
  },
  {
   "cell_type": "markdown",
   "id": "1b7e9e28",
   "metadata": {},
   "source": [
    "# Load TSA"
   ]
  },
  {
   "cell_type": "code",
   "execution_count": 1581,
   "id": "dbff2a3e",
   "metadata": {
    "scrolled": true
   },
   "outputs": [
    {
     "data": {
      "text/plain": [
       "'/Users/ltran/Documents/Data/'"
      ]
     },
     "execution_count": 1581,
     "metadata": {},
     "output_type": "execute_result"
    }
   ],
   "source": [
    "data_dir"
   ]
  },
  {
   "cell_type": "markdown",
   "id": "e0e04188",
   "metadata": {},
   "source": [
    "## Load infos"
   ]
  },
  {
   "cell_type": "code",
   "execution_count": 1582,
   "id": "a63a261e",
   "metadata": {},
   "outputs": [],
   "source": [
    "infos = pd.read_csv(os.path.join(data_dir, 'TSA_vol/participants.tsv'), sep = '\\t')"
   ]
  },
  {
   "cell_type": "code",
   "execution_count": 1583,
   "id": "882ba863",
   "metadata": {},
   "outputs": [],
   "source": [
    "infos_TSA = pd.read_csv(os.path.join(data_dir, 'TSA_vol/TSA_cohort_dcm_info_anonymized_1.csv'), sep = ';')\n",
    "infos_TSA = infos_TSA.rename(columns={'SubCode BIDS' : 'participant_id'})"
   ]
  },
  {
   "cell_type": "code",
   "execution_count": 1584,
   "id": "7e5c3ed2",
   "metadata": {},
   "outputs": [],
   "source": [
    "infos_TSA =infos_TSA.drop_duplicates(subset='participant_id', keep = 'first')"
   ]
  },
  {
   "cell_type": "code",
   "execution_count": 1585,
   "id": "c35a177f",
   "metadata": {},
   "outputs": [],
   "source": [
    "infos_TSA['participant_id'] = infos_TSA['participant_id'].astype(str)+'_ses01'\n",
    "\n"
   ]
  },
  {
   "cell_type": "code",
   "execution_count": 1586,
   "id": "cbfd90a4",
   "metadata": {
    "scrolled": true
   },
   "outputs": [],
   "source": [
    "l_dup = infos_TSA[infos_TSA.duplicated(subset='participant_id')].participant_id\n"
   ]
  },
  {
   "cell_type": "code",
   "execution_count": 1587,
   "id": "d41a2893",
   "metadata": {
    "scrolled": true
   },
   "outputs": [
    {
     "ename": "ValueError",
     "evalue": "No objects to concatenate",
     "output_type": "error",
     "traceback": [
      "\u001b[0;31m---------------------------------------------------------------------------\u001b[0m",
      "\u001b[0;31mValueError\u001b[0m                                Traceback (most recent call last)",
      "\u001b[0;32m/var/folders/p5/qymxnxk12156bhtw2jlf3sb40000gr/T/ipykernel_4125/3113515247.py\u001b[0m in \u001b[0;36m<module>\u001b[0;34m\u001b[0m\n\u001b[1;32m      9\u001b[0m     \u001b[0mall_ses02\u001b[0m\u001b[0;34m.\u001b[0m\u001b[0mappend\u001b[0m\u001b[0;34m(\u001b[0m\u001b[0mtemp\u001b[0m\u001b[0;34m)\u001b[0m\u001b[0;34m\u001b[0m\u001b[0;34m\u001b[0m\u001b[0m\n\u001b[1;32m     10\u001b[0m \u001b[0;34m\u001b[0m\u001b[0m\n\u001b[0;32m---> 11\u001b[0;31m \u001b[0mdf_ses02\u001b[0m \u001b[0;34m=\u001b[0m \u001b[0mpd\u001b[0m\u001b[0;34m.\u001b[0m\u001b[0mconcat\u001b[0m\u001b[0;34m(\u001b[0m\u001b[0mall_ses02\u001b[0m\u001b[0;34m)\u001b[0m\u001b[0;34m\u001b[0m\u001b[0;34m\u001b[0m\u001b[0m\n\u001b[0m",
      "\u001b[0;32m~/opt/anaconda3/lib/python3.9/site-packages/pandas/util/_decorators.py\u001b[0m in \u001b[0;36mwrapper\u001b[0;34m(*args, **kwargs)\u001b[0m\n\u001b[1;32m    309\u001b[0m                     \u001b[0mstacklevel\u001b[0m\u001b[0;34m=\u001b[0m\u001b[0mstacklevel\u001b[0m\u001b[0;34m,\u001b[0m\u001b[0;34m\u001b[0m\u001b[0;34m\u001b[0m\u001b[0m\n\u001b[1;32m    310\u001b[0m                 )\n\u001b[0;32m--> 311\u001b[0;31m             \u001b[0;32mreturn\u001b[0m \u001b[0mfunc\u001b[0m\u001b[0;34m(\u001b[0m\u001b[0;34m*\u001b[0m\u001b[0margs\u001b[0m\u001b[0;34m,\u001b[0m \u001b[0;34m**\u001b[0m\u001b[0mkwargs\u001b[0m\u001b[0;34m)\u001b[0m\u001b[0;34m\u001b[0m\u001b[0;34m\u001b[0m\u001b[0m\n\u001b[0m\u001b[1;32m    312\u001b[0m \u001b[0;34m\u001b[0m\u001b[0m\n\u001b[1;32m    313\u001b[0m         \u001b[0;32mreturn\u001b[0m \u001b[0mwrapper\u001b[0m\u001b[0;34m\u001b[0m\u001b[0;34m\u001b[0m\u001b[0m\n",
      "\u001b[0;32m~/opt/anaconda3/lib/python3.9/site-packages/pandas/core/reshape/concat.py\u001b[0m in \u001b[0;36mconcat\u001b[0;34m(objs, axis, join, ignore_index, keys, levels, names, verify_integrity, sort, copy)\u001b[0m\n\u001b[1;32m    345\u001b[0m     \u001b[0mValueError\u001b[0m\u001b[0;34m:\u001b[0m \u001b[0mIndexes\u001b[0m \u001b[0mhave\u001b[0m \u001b[0moverlapping\u001b[0m \u001b[0mvalues\u001b[0m\u001b[0;34m:\u001b[0m \u001b[0;34m[\u001b[0m\u001b[0;34m'a'\u001b[0m\u001b[0;34m]\u001b[0m\u001b[0;34m\u001b[0m\u001b[0;34m\u001b[0m\u001b[0m\n\u001b[1;32m    346\u001b[0m     \"\"\"\n\u001b[0;32m--> 347\u001b[0;31m     op = _Concatenator(\n\u001b[0m\u001b[1;32m    348\u001b[0m         \u001b[0mobjs\u001b[0m\u001b[0;34m,\u001b[0m\u001b[0;34m\u001b[0m\u001b[0;34m\u001b[0m\u001b[0m\n\u001b[1;32m    349\u001b[0m         \u001b[0maxis\u001b[0m\u001b[0;34m=\u001b[0m\u001b[0maxis\u001b[0m\u001b[0;34m,\u001b[0m\u001b[0;34m\u001b[0m\u001b[0;34m\u001b[0m\u001b[0m\n",
      "\u001b[0;32m~/opt/anaconda3/lib/python3.9/site-packages/pandas/core/reshape/concat.py\u001b[0m in \u001b[0;36m__init__\u001b[0;34m(self, objs, axis, join, keys, levels, names, ignore_index, verify_integrity, copy, sort)\u001b[0m\n\u001b[1;32m    402\u001b[0m \u001b[0;34m\u001b[0m\u001b[0m\n\u001b[1;32m    403\u001b[0m         \u001b[0;32mif\u001b[0m \u001b[0mlen\u001b[0m\u001b[0;34m(\u001b[0m\u001b[0mobjs\u001b[0m\u001b[0;34m)\u001b[0m \u001b[0;34m==\u001b[0m \u001b[0;36m0\u001b[0m\u001b[0;34m:\u001b[0m\u001b[0;34m\u001b[0m\u001b[0;34m\u001b[0m\u001b[0m\n\u001b[0;32m--> 404\u001b[0;31m             \u001b[0;32mraise\u001b[0m \u001b[0mValueError\u001b[0m\u001b[0;34m(\u001b[0m\u001b[0;34m\"No objects to concatenate\"\u001b[0m\u001b[0;34m)\u001b[0m\u001b[0;34m\u001b[0m\u001b[0;34m\u001b[0m\u001b[0m\n\u001b[0m\u001b[1;32m    405\u001b[0m \u001b[0;34m\u001b[0m\u001b[0m\n\u001b[1;32m    406\u001b[0m         \u001b[0;32mif\u001b[0m \u001b[0mkeys\u001b[0m \u001b[0;32mis\u001b[0m \u001b[0;32mNone\u001b[0m\u001b[0;34m:\u001b[0m\u001b[0;34m\u001b[0m\u001b[0;34m\u001b[0m\u001b[0m\n",
      "\u001b[0;31mValueError\u001b[0m: No objects to concatenate"
     ]
    }
   ],
   "source": [
    "\n",
    "all_ses02 = []\n",
    "for i in l_dup: \n",
    "    temp = infos_TSA[infos_TSA.participant_id == i].reset_index(drop = True)\n",
    "    if temp.loc[0,'acquisition_date'] > temp.loc[1,'acquisition_date']:\n",
    "        temp.loc[0, 'participant_id'] = temp.loc[0, 'participant_id'].replace('_ses01', '_ses02')\n",
    "    elif temp.loc[0,'acquisition_date'] < temp.loc[1,'acquisition_date']:\n",
    "        temp.loc[1, 'participant_id'] = temp.loc[1, 'participant_id'].replace('_ses01', '_ses02')\n",
    "\n",
    "    all_ses02.append(temp)\n",
    "    \n",
    "df_ses02 = pd.concat(all_ses02)"
   ]
  },
  {
   "cell_type": "code",
   "execution_count": 1588,
   "id": "90edfc7b",
   "metadata": {},
   "outputs": [],
   "source": [
    "infos_TSA = df_ses02.merge(infos_TSA, on = ['patient_birth_date', 'patient_sex', 'patient_weight',\n",
    "       'acquisition_date', 'manufacturer', 'manufacturer_model_name',\n",
    "       'magnetic_field_strength'], how = 'left', suffixes=('', 'y')).drop(columns='participant_idy')"
   ]
  },
  {
   "cell_type": "markdown",
   "id": "23a586ed",
   "metadata": {},
   "source": [
    "## Load QC"
   ]
  },
  {
   "cell_type": "code",
   "execution_count": 1589,
   "id": "d4769e13",
   "metadata": {},
   "outputs": [],
   "source": [
    "QCtrio = pd.read_csv(os.path.join(data_dir, 'QC_trio.csv'), sep = ',')"
   ]
  },
  {
   "cell_type": "code",
   "execution_count": 1590,
   "id": "3ddc4ffc",
   "metadata": {},
   "outputs": [],
   "source": [
    "# Remove missing scans\n",
    "QC_trio = QCtrio.dropna(subset = ['QC'], how = 'all')"
   ]
  },
  {
   "cell_type": "code",
   "execution_count": 1591,
   "id": "109bf695",
   "metadata": {
    "scrolled": false
   },
   "outputs": [
    {
     "name": "stderr",
     "output_type": "stream",
     "text": [
      "/var/folders/p5/qymxnxk12156bhtw2jlf3sb40000gr/T/ipykernel_4125/1125475520.py:1: SettingWithCopyWarning: \n",
      "A value is trying to be set on a copy of a slice from a DataFrame.\n",
      "Try using .loc[row_indexer,col_indexer] = value instead\n",
      "\n",
      "See the caveats in the documentation: https://pandas.pydata.org/pandas-docs/stable/user_guide/indexing.html#returning-a-view-versus-a-copy\n",
      "  QC_trio['Protocole'] = QC_trio['Protocole'].replace({'isotrope' : 'ISO', 'tfe' : 'TFE'})\n"
     ]
    }
   ],
   "source": [
    "QC_trio['Protocole'] = QC_trio['Protocole'].replace({'isotrope' : 'ISO', 'tfe' : 'TFE'})"
   ]
  },
  {
   "cell_type": "code",
   "execution_count": 1592,
   "id": "0b1e2288",
   "metadata": {},
   "outputs": [],
   "source": [
    "QC_trio = QC_trio[~((QC_trio.QC == 'g') | (QC_trio.QC == 'F'))]\n",
    "# QC_trio = QC_trio.dropna(subset = 'BIDS')"
   ]
  },
  {
   "cell_type": "code",
   "execution_count": 1593,
   "id": "ac43186a",
   "metadata": {},
   "outputs": [],
   "source": [
    "l_bids_dup = QC_trio[QC_trio.duplicated(subset = 'BIDS')].BIDS.to_list()"
   ]
  },
  {
   "cell_type": "code",
   "execution_count": 1429,
   "id": "45f69573",
   "metadata": {},
   "outputs": [],
   "source": [
    "bestVbrain = []\n",
    "for i in l_bids_dup:\n",
    "    if QC_trio[QC_trio.BIDS == i]['best Vbrain'].isna().all():\n",
    "        temp = QC_trio[(QC_trio.BIDS == i) & (QC_trio['Protocole'] == 'TFE')]\n",
    "    else:\n",
    "        temp = QC_trio[(QC_trio.BIDS == i) & (QC_trio['best Vbrain'] == 1)]\n",
    "        \n",
    "    bestVbrain.append(temp)\n",
    "    \n",
    "bestVbrain = pd.concat(bestVbrain)\n"
   ]
  },
  {
   "cell_type": "code",
   "execution_count": 1434,
   "id": "ad7e0c70",
   "metadata": {},
   "outputs": [],
   "source": [
    "bestVbrain = bestVbrain.drop_duplicates('BIDS', keep = 'first')"
   ]
  },
  {
   "cell_type": "code",
   "execution_count": 1435,
   "id": "68764ed4",
   "metadata": {},
   "outputs": [],
   "source": [
    "QC_trio = QC_trio[~(QC_trio.BIDS.isin(l_bids_dup))]"
   ]
  },
  {
   "cell_type": "code",
   "execution_count": 1550,
   "id": "d96cc77f",
   "metadata": {
    "scrolled": true
   },
   "outputs": [],
   "source": [
    "QC = pd.concat([QC_trio, bestVbrain])\n"
   ]
  },
  {
   "cell_type": "code",
   "execution_count": 1129,
   "id": "056b47b5",
   "metadata": {},
   "outputs": [
    {
     "name": "stderr",
     "output_type": "stream",
     "text": [
      "/var/folders/p5/qymxnxk12156bhtw2jlf3sb40000gr/T/ipykernel_4125/2631966491.py:1: SettingWithCopyWarning: \n",
      "A value is trying to be set on a copy of a slice from a DataFrame.\n",
      "Try using .loc[row_indexer,col_indexer] = value instead\n",
      "\n",
      "See the caveats in the documentation: https://pandas.pydata.org/pandas-docs/stable/user_guide/indexing.html#returning-a-view-versus-a-copy\n",
      "  QC.BIDS = QC.BIDS.str.replace('Sub', 'sub')\n"
     ]
    }
   ],
   "source": [
    "QC.BIDS = QC.BIDS.str.replace('Sub', 'sub')"
   ]
  },
  {
   "cell_type": "code",
   "execution_count": 1440,
   "id": "9dfb12e6",
   "metadata": {},
   "outputs": [],
   "source": [
    "QC_TFE = QC[QC['Protocole'] == 'TFE']"
   ]
  },
  {
   "cell_type": "code",
   "execution_count": 1441,
   "id": "bb512ab0",
   "metadata": {},
   "outputs": [],
   "source": [
    "QC_ISO = QC[QC['Protocole'] == 'ISO']"
   ]
  },
  {
   "cell_type": "markdown",
   "id": "36a57755",
   "metadata": {},
   "source": [
    "Load infos "
   ]
  },
  {
   "cell_type": "code",
   "execution_count": 1594,
   "id": "bfd92c37",
   "metadata": {},
   "outputs": [],
   "source": [
    "data_dir = '/Users/ltran/Documents/Data/'\n",
    "isDir = os.path.isdir('/Users/ltran/Documents/Data/TSA_vol/Outputs/')\n",
    "if isDir:\n",
    "    ! rm -r '/Users/ltran/Documents/Data/TSA_vol/Outputs/'\n",
    "! mkdir '/Users/ltran/Documents/Data/TSA_vol/Outputs/'"
   ]
  },
  {
   "cell_type": "code",
   "execution_count": 1595,
   "id": "64e1d8da",
   "metadata": {},
   "outputs": [],
   "source": [
    "infos_TSA = pd.read_csv(os.path.join(data_dir, 'TSA_vol/TSA_cohort_dcm_info_anonymized_1.csv'), sep = ';')\n",
    "infos_TSA = infos_TSA.rename(columns={'SubCode BIDS' : 'participant_id'})"
   ]
  },
  {
   "cell_type": "code",
   "execution_count": 1596,
   "id": "ca04205b",
   "metadata": {},
   "outputs": [],
   "source": [
    "infos_TSA = infos_TSA.drop_duplicates(subset='participant_id', keep = 'first')"
   ]
  },
  {
   "cell_type": "code",
   "execution_count": 1598,
   "id": "a30adb24",
   "metadata": {},
   "outputs": [],
   "source": [
    "\n",
    "# Load participants infos (age, sex, diagnosis, scores...)\n",
    "new = pd.read_csv(os.path.join(data_dir, 'participants.tsv'), sep = \"\\t\")"
   ]
  },
  {
   "cell_type": "code",
   "execution_count": 1599,
   "id": "2988e367",
   "metadata": {},
   "outputs": [],
   "source": [
    "# Merge instruments with demography\n",
    "new = new.merge(infos_TSA, on = 'participant_id')"
   ]
  },
  {
   "cell_type": "code",
   "execution_count": 1600,
   "id": "f2f95f71",
   "metadata": {},
   "outputs": [],
   "source": [
    "# Drop NA in sex, age, diag\n",
    "new = new[~(new.ASD == '?')].dropna(subset = ['sex', 'age_at_first_scan', 'ASD'])"
   ]
  },
  {
   "cell_type": "code",
   "execution_count": 1601,
   "id": "66854b7f",
   "metadata": {},
   "outputs": [],
   "source": [
    "# Drop duplicates\n",
    "\n",
    "new = new.drop_duplicates(subset = 'participant_id', keep = 'first')"
   ]
  },
  {
   "cell_type": "code",
   "execution_count": 1602,
   "id": "ae92bf0f",
   "metadata": {},
   "outputs": [],
   "source": [
    "new.sex = new.sex.replace({'M' : 1, 'F' : -1})"
   ]
  },
  {
   "cell_type": "code",
   "execution_count": 1603,
   "id": "ee3a5116",
   "metadata": {},
   "outputs": [],
   "source": [
    "new = new.rename(columns={'age_at_first_scan' : 'age_at_scan'}) "
   ]
  },
  {
   "cell_type": "code",
   "execution_count": 1604,
   "id": "fedc2fe2",
   "metadata": {},
   "outputs": [],
   "source": [
    "new.loc[(new.group == 'Relative') & (new.ASD == 'No'), 'ASD'] = 'Relative'"
   ]
  },
  {
   "cell_type": "markdown",
   "id": "5d8ba7bf",
   "metadata": {},
   "source": [
    "Volumes"
   ]
  },
  {
   "cell_type": "code",
   "execution_count": 1605,
   "id": "8338c81d",
   "metadata": {},
   "outputs": [],
   "source": [
    "# Load ISO volume\n",
    "vol_tsa_iso = pd.read_csv(os.path.join(data_dir, 'TSA_vol/volumes-fs-iso.txt'), sep = '\\t')\n",
    "\n",
    "# Load TFE volume\n",
    "vol_tsa_tfe = pd.read_csv(os.path.join(data_dir, 'TSA_vol/volumes-fs-tfe.txt'), sep = '\\t')"
   ]
  },
  {
   "cell_type": "code",
   "execution_count": 1606,
   "id": "9cac9d60",
   "metadata": {},
   "outputs": [],
   "source": [
    "# Convert Subject to BIDS format\n",
    "def fitler_qc_iso_tfe(vol_tsa_iso, vol_tsa_tfe, colname):\n",
    "    bids = []\n",
    "    for i in vol_tsa_iso[colname]:\n",
    "        bids.append(i.split('_')[0])\n",
    "    vol_tsa_iso['BIDS'] = bids\n",
    "\n",
    "\n",
    "    bids = []\n",
    "    for i in vol_tsa_tfe[colname]:\n",
    "        bids.append(i.split('_')[0])\n",
    "    vol_tsa_tfe['BIDS'] = bids\n",
    "\n",
    "\n",
    "    vol_tsa = pd.concat([vol_tsa_iso.merge(QC_ISO, on = 'BIDS'), vol_tsa_tfe.merge(QC_TFE, on = 'BIDS')])\n",
    "    \n",
    "    return vol_tsa"
   ]
  },
  {
   "cell_type": "code",
   "execution_count": 1607,
   "id": "5d02ee94",
   "metadata": {},
   "outputs": [],
   "source": [
    "vol_tsa = fitler_qc_iso_tfe(vol_tsa_iso, vol_tsa_tfe, 'Subject')"
   ]
  },
  {
   "cell_type": "markdown",
   "id": "a7861b39",
   "metadata": {},
   "source": [
    "Surface area"
   ]
  },
  {
   "cell_type": "code",
   "execution_count": 1608,
   "id": "611402ad",
   "metadata": {},
   "outputs": [],
   "source": [
    "rh_area_iso = pd.read_csv(os.path.join(data_dir, 'TSA_vol/fs-7.2.0-iso.rh.area.csv'), sep = '\\t')\n",
    "lh_area_iso = pd.read_csv(os.path.join(data_dir, 'TSA_vol/fs-7.2.0-iso.lh.area.csv'), sep = '\\t')\n",
    "rh_area_tfe = pd.read_csv(os.path.join(data_dir, 'TSA_vol/fs-7.2.0-tfe.rh.area.csv'), sep = '\\t')\n",
    "lh_area_tfe = pd.read_csv(os.path.join(data_dir, 'TSA_vol/fs-7.2.0-tfe.lh.area.csv'), sep = '\\t')"
   ]
  },
  {
   "cell_type": "code",
   "execution_count": 1609,
   "id": "8dbf0187",
   "metadata": {},
   "outputs": [],
   "source": [
    "area_iso = lh_area_iso.merge(rh_area_iso.rename(columns={'rh.aparc.area': 'lh.aparc.area'}), on ='lh.aparc.area')"
   ]
  },
  {
   "cell_type": "code",
   "execution_count": 1610,
   "id": "c9e3cf79",
   "metadata": {},
   "outputs": [],
   "source": [
    "area_tfe = lh_area_tfe.merge(rh_area_tfe.rename(columns={'rh.aparc.area': 'lh.aparc.area'}), on ='lh.aparc.area')"
   ]
  },
  {
   "cell_type": "code",
   "execution_count": 1611,
   "id": "cd6345c5",
   "metadata": {},
   "outputs": [],
   "source": [
    "area = fitler_qc_iso_tfe(area_iso, area_tfe, 'lh.aparc.area').rename(columns = {'lh.aparc.area':'Subject'})"
   ]
  },
  {
   "cell_type": "markdown",
   "id": "7b6ca2f1",
   "metadata": {},
   "source": [
    "Cortical thickness"
   ]
  },
  {
   "cell_type": "code",
   "execution_count": 1612,
   "id": "62db0f65",
   "metadata": {},
   "outputs": [],
   "source": [
    "rh_ct_iso = pd.read_csv(os.path.join(data_dir, 'TSA_vol/fs-7.2.0-iso.rh.thickness.csv'), sep = '\\t')\n",
    "lh_ct_iso = pd.read_csv(os.path.join(data_dir, 'TSA_vol/fs-7.2.0-iso.lh.thickness.csv'), sep = '\\t')\n",
    "rh_ct_tfe = pd.read_csv(os.path.join(data_dir, 'TSA_vol/fs-7.2.0-tfe.rh.thickness.csv'), sep = '\\t')\n",
    "lh_ct_tfe = pd.read_csv(os.path.join(data_dir, 'TSA_vol/fs-7.2.0-tfe.lh.thickness.csv'), sep = '\\t')"
   ]
  },
  {
   "cell_type": "code",
   "execution_count": 1613,
   "id": "20b5c1cc",
   "metadata": {},
   "outputs": [],
   "source": [
    "ct_iso = lh_ct_iso.merge(rh_ct_iso.rename(columns={'rh.aparc.thickness': 'lh.aparc.thickness'}), on ='lh.aparc.thickness')"
   ]
  },
  {
   "cell_type": "code",
   "execution_count": 1614,
   "id": "30ffdec3",
   "metadata": {},
   "outputs": [],
   "source": [
    "ct_tfe = lh_ct_tfe.merge(rh_ct_tfe.rename(columns={'rh.aparc.thickness': 'lh.aparc.thickness'}), on ='lh.aparc.thickness')"
   ]
  },
  {
   "cell_type": "code",
   "execution_count": 1615,
   "id": "89396ab5",
   "metadata": {},
   "outputs": [],
   "source": [
    "ct = fitler_qc_iso_tfe(ct_iso, ct_tfe, 'lh.aparc.thickness').rename(columns = {'lh.aparc.thickness':'Subject'})"
   ]
  },
  {
   "cell_type": "markdown",
   "id": "aefe99e4",
   "metadata": {},
   "source": [
    "### Merge volume / area / ct"
   ]
  },
  {
   "cell_type": "code",
   "execution_count": 1616,
   "id": "521911db",
   "metadata": {},
   "outputs": [],
   "source": [
    "df_tsa = area.merge(ct, on = 'Subject').merge(vol_tsa, on = 'Subject')"
   ]
  },
  {
   "cell_type": "code",
   "execution_count": 1617,
   "id": "9ab8e057",
   "metadata": {},
   "outputs": [],
   "source": [
    "participants = []\n",
    "for i in df_tsa['Subject']:\n",
    "    participants.append(int(i.split('-')[1].split('_')[0]))\n",
    "    \n",
    "df_tsa['participant_id'] = participants"
   ]
  },
  {
   "cell_type": "code",
   "execution_count": 1618,
   "id": "7f05ee48",
   "metadata": {},
   "outputs": [],
   "source": [
    "df_tsa = df_tsa.drop_duplicates(subset = 'participant_id', keep = 'first')"
   ]
  },
  {
   "cell_type": "code",
   "execution_count": 1619,
   "id": "c1f47e14",
   "metadata": {},
   "outputs": [],
   "source": [
    "df_tsa = df_tsa.merge(new, on  = 'participant_id')"
   ]
  },
  {
   "cell_type": "code",
   "execution_count": 1620,
   "id": "dc29856b",
   "metadata": {},
   "outputs": [],
   "source": [
    "df_tsa.columns = df_tsa.columns.str.replace('-', '_')"
   ]
  },
  {
   "cell_type": "markdown",
   "id": "3b23a115",
   "metadata": {},
   "source": [
    "## Export TSA"
   ]
  },
  {
   "cell_type": "code",
   "execution_count": 1621,
   "id": "437a9d6a",
   "metadata": {},
   "outputs": [],
   "source": [
    "df_tsa.to_csv(os.path.join(data_dir, 'TSA_vol/Outputs/df_TSA.csv'), index = False)"
   ]
  },
  {
   "cell_type": "markdown",
   "id": "f92847fa",
   "metadata": {},
   "source": [
    "## Export TSA + TCA"
   ]
  },
  {
   "cell_type": "code",
   "execution_count": 409,
   "id": "6626c3f4",
   "metadata": {
    "scrolled": false
   },
   "outputs": [
    {
     "data": {
      "text/plain": [
       "'/Users/ltran/Documents/Data/'"
      ]
     },
     "execution_count": 409,
     "metadata": {},
     "output_type": "execute_result"
    }
   ],
   "source": [
    "data_dir"
   ]
  },
  {
   "cell_type": "code",
   "execution_count": 413,
   "id": "6de5077f",
   "metadata": {},
   "outputs": [],
   "source": [
    "df_tsa_tca = pd.concat([df_tsa, df_TCA])\n"
   ]
  },
  {
   "cell_type": "code",
   "execution_count": 416,
   "id": "7955facc",
   "metadata": {},
   "outputs": [],
   "source": [
    "df_tsa_tca.participant_id.to_csv(os.path.join(data_dir, 'Outputs/partcipant_id.csv'))"
   ]
  },
  {
   "cell_type": "code",
   "execution_count": 417,
   "id": "34aefd4d",
   "metadata": {},
   "outputs": [
    {
     "data": {
      "text/html": [
       "<div>\n",
       "<style scoped>\n",
       "    .dataframe tbody tr th:only-of-type {\n",
       "        vertical-align: middle;\n",
       "    }\n",
       "\n",
       "    .dataframe tbody tr th {\n",
       "        vertical-align: top;\n",
       "    }\n",
       "\n",
       "    .dataframe thead th {\n",
       "        text-align: right;\n",
       "    }\n",
       "</style>\n",
       "<table border=\"1\" class=\"dataframe\">\n",
       "  <thead>\n",
       "    <tr style=\"text-align: right;\">\n",
       "      <th></th>\n",
       "      <th>Subject</th>\n",
       "      <th>lh_bankssts_area</th>\n",
       "      <th>lh_caudalanteriorcingulate_area</th>\n",
       "      <th>lh_caudalmiddlefrontal_area</th>\n",
       "      <th>lh_cuneus_area</th>\n",
       "      <th>lh_entorhinal_area</th>\n",
       "      <th>lh_fusiform_area</th>\n",
       "      <th>lh_inferiorparietal_area</th>\n",
       "      <th>lh_inferiortemporal_area</th>\n",
       "      <th>lh_isthmuscingulate_area</th>\n",
       "      <th>...</th>\n",
       "      <th>magnetic_field_strength</th>\n",
       "      <th>principal_diag</th>\n",
       "      <th>TSA</th>\n",
       "      <th>delay_before_first_mri</th>\n",
       "      <th>weight_at_scan</th>\n",
       "      <th>size_at_scan</th>\n",
       "      <th>dwi_b1000</th>\n",
       "      <th>dwi_b1500</th>\n",
       "      <th>height_m</th>\n",
       "      <th>BMI</th>\n",
       "    </tr>\n",
       "  </thead>\n",
       "  <tbody>\n",
       "    <tr>\n",
       "      <th>0</th>\n",
       "      <td>sub-0003_ses-01</td>\n",
       "      <td>1226.0</td>\n",
       "      <td>622.0</td>\n",
       "      <td>2909.0</td>\n",
       "      <td>1490.0</td>\n",
       "      <td>442.0</td>\n",
       "      <td>3107.0</td>\n",
       "      <td>4961.0</td>\n",
       "      <td>3823.0</td>\n",
       "      <td>938.0</td>\n",
       "      <td>...</td>\n",
       "      <td>NaN</td>\n",
       "      <td>NaN</td>\n",
       "      <td>NaN</td>\n",
       "      <td>NaN</td>\n",
       "      <td>NaN</td>\n",
       "      <td>NaN</td>\n",
       "      <td>NaN</td>\n",
       "      <td>NaN</td>\n",
       "      <td>NaN</td>\n",
       "      <td>NaN</td>\n",
       "    </tr>\n",
       "    <tr>\n",
       "      <th>2</th>\n",
       "      <td>sub-0025_ses-01</td>\n",
       "      <td>1067.0</td>\n",
       "      <td>526.0</td>\n",
       "      <td>2537.0</td>\n",
       "      <td>1772.0</td>\n",
       "      <td>394.0</td>\n",
       "      <td>3310.0</td>\n",
       "      <td>5077.0</td>\n",
       "      <td>3188.0</td>\n",
       "      <td>1062.0</td>\n",
       "      <td>...</td>\n",
       "      <td>NaN</td>\n",
       "      <td>NaN</td>\n",
       "      <td>NaN</td>\n",
       "      <td>NaN</td>\n",
       "      <td>NaN</td>\n",
       "      <td>NaN</td>\n",
       "      <td>NaN</td>\n",
       "      <td>NaN</td>\n",
       "      <td>NaN</td>\n",
       "      <td>NaN</td>\n",
       "    </tr>\n",
       "    <tr>\n",
       "      <th>4</th>\n",
       "      <td>sub-0070_ses-01</td>\n",
       "      <td>857.0</td>\n",
       "      <td>803.0</td>\n",
       "      <td>2087.0</td>\n",
       "      <td>1713.0</td>\n",
       "      <td>547.0</td>\n",
       "      <td>3153.0</td>\n",
       "      <td>5148.0</td>\n",
       "      <td>3845.0</td>\n",
       "      <td>1115.0</td>\n",
       "      <td>...</td>\n",
       "      <td>NaN</td>\n",
       "      <td>NaN</td>\n",
       "      <td>NaN</td>\n",
       "      <td>NaN</td>\n",
       "      <td>NaN</td>\n",
       "      <td>NaN</td>\n",
       "      <td>NaN</td>\n",
       "      <td>NaN</td>\n",
       "      <td>NaN</td>\n",
       "      <td>NaN</td>\n",
       "    </tr>\n",
       "    <tr>\n",
       "      <th>6</th>\n",
       "      <td>sub-0095_ses-01</td>\n",
       "      <td>1015.0</td>\n",
       "      <td>1071.0</td>\n",
       "      <td>2185.0</td>\n",
       "      <td>1622.0</td>\n",
       "      <td>358.0</td>\n",
       "      <td>3018.0</td>\n",
       "      <td>4830.0</td>\n",
       "      <td>3400.0</td>\n",
       "      <td>1202.0</td>\n",
       "      <td>...</td>\n",
       "      <td>NaN</td>\n",
       "      <td>NaN</td>\n",
       "      <td>NaN</td>\n",
       "      <td>NaN</td>\n",
       "      <td>NaN</td>\n",
       "      <td>NaN</td>\n",
       "      <td>NaN</td>\n",
       "      <td>NaN</td>\n",
       "      <td>NaN</td>\n",
       "      <td>NaN</td>\n",
       "    </tr>\n",
       "    <tr>\n",
       "      <th>8</th>\n",
       "      <td>sub-0096_ses-01</td>\n",
       "      <td>1495.0</td>\n",
       "      <td>550.0</td>\n",
       "      <td>2502.0</td>\n",
       "      <td>1852.0</td>\n",
       "      <td>606.0</td>\n",
       "      <td>4075.0</td>\n",
       "      <td>5700.0</td>\n",
       "      <td>3895.0</td>\n",
       "      <td>1016.0</td>\n",
       "      <td>...</td>\n",
       "      <td>NaN</td>\n",
       "      <td>NaN</td>\n",
       "      <td>NaN</td>\n",
       "      <td>NaN</td>\n",
       "      <td>NaN</td>\n",
       "      <td>NaN</td>\n",
       "      <td>NaN</td>\n",
       "      <td>NaN</td>\n",
       "      <td>NaN</td>\n",
       "      <td>NaN</td>\n",
       "    </tr>\n",
       "    <tr>\n",
       "      <th>...</th>\n",
       "      <td>...</td>\n",
       "      <td>...</td>\n",
       "      <td>...</td>\n",
       "      <td>...</td>\n",
       "      <td>...</td>\n",
       "      <td>...</td>\n",
       "      <td>...</td>\n",
       "      <td>...</td>\n",
       "      <td>...</td>\n",
       "      <td>...</td>\n",
       "      <td>...</td>\n",
       "      <td>...</td>\n",
       "      <td>...</td>\n",
       "      <td>...</td>\n",
       "      <td>...</td>\n",
       "      <td>...</td>\n",
       "      <td>...</td>\n",
       "      <td>...</td>\n",
       "      <td>...</td>\n",
       "      <td>...</td>\n",
       "      <td>...</td>\n",
       "    </tr>\n",
       "    <tr>\n",
       "      <th>112</th>\n",
       "      <td>sub-0182_ses-01</td>\n",
       "      <td>896.0</td>\n",
       "      <td>598.0</td>\n",
       "      <td>2109.0</td>\n",
       "      <td>1482.0</td>\n",
       "      <td>289.0</td>\n",
       "      <td>2859.0</td>\n",
       "      <td>4906.0</td>\n",
       "      <td>3639.0</td>\n",
       "      <td>810.0</td>\n",
       "      <td>...</td>\n",
       "      <td>3</td>\n",
       "      <td>2.0</td>\n",
       "      <td>0.0</td>\n",
       "      <td>NaN</td>\n",
       "      <td>34.6</td>\n",
       "      <td>159.9</td>\n",
       "      <td>0.0</td>\n",
       "      <td>0.0</td>\n",
       "      <td>1.599</td>\n",
       "      <td>13.532535</td>\n",
       "    </tr>\n",
       "    <tr>\n",
       "      <th>113</th>\n",
       "      <td>sub-0183_ses-01</td>\n",
       "      <td>929.0</td>\n",
       "      <td>533.0</td>\n",
       "      <td>2045.0</td>\n",
       "      <td>1174.0</td>\n",
       "      <td>385.0</td>\n",
       "      <td>2513.0</td>\n",
       "      <td>4454.0</td>\n",
       "      <td>3271.0</td>\n",
       "      <td>951.0</td>\n",
       "      <td>...</td>\n",
       "      <td>3</td>\n",
       "      <td>1.0</td>\n",
       "      <td>0.0</td>\n",
       "      <td>NaN</td>\n",
       "      <td>38.6</td>\n",
       "      <td>157.0</td>\n",
       "      <td>0.0</td>\n",
       "      <td>0.0</td>\n",
       "      <td>1.570</td>\n",
       "      <td>15.659864</td>\n",
       "    </tr>\n",
       "    <tr>\n",
       "      <th>114</th>\n",
       "      <td>sub-0184_ses-01</td>\n",
       "      <td>1306.0</td>\n",
       "      <td>555.0</td>\n",
       "      <td>2289.0</td>\n",
       "      <td>1495.0</td>\n",
       "      <td>323.0</td>\n",
       "      <td>3256.0</td>\n",
       "      <td>4454.0</td>\n",
       "      <td>3821.0</td>\n",
       "      <td>1050.0</td>\n",
       "      <td>...</td>\n",
       "      <td>3</td>\n",
       "      <td>1.0</td>\n",
       "      <td>0.0</td>\n",
       "      <td>NaN</td>\n",
       "      <td>24.0</td>\n",
       "      <td>142.0</td>\n",
       "      <td>0.0</td>\n",
       "      <td>0.0</td>\n",
       "      <td>1.420</td>\n",
       "      <td>11.902400</td>\n",
       "    </tr>\n",
       "    <tr>\n",
       "      <th>115</th>\n",
       "      <td>sub-0185_ses-01</td>\n",
       "      <td>1036.0</td>\n",
       "      <td>621.0</td>\n",
       "      <td>2645.0</td>\n",
       "      <td>1450.0</td>\n",
       "      <td>541.0</td>\n",
       "      <td>3349.0</td>\n",
       "      <td>5397.0</td>\n",
       "      <td>4132.0</td>\n",
       "      <td>1139.0</td>\n",
       "      <td>...</td>\n",
       "      <td>3</td>\n",
       "      <td>1.0</td>\n",
       "      <td>0.0</td>\n",
       "      <td>NaN</td>\n",
       "      <td>28.2</td>\n",
       "      <td>140.8</td>\n",
       "      <td>0.0</td>\n",
       "      <td>0.0</td>\n",
       "      <td>1.408</td>\n",
       "      <td>14.224722</td>\n",
       "    </tr>\n",
       "    <tr>\n",
       "      <th>116</th>\n",
       "      <td>sub-0186_ses-01</td>\n",
       "      <td>1115.0</td>\n",
       "      <td>545.0</td>\n",
       "      <td>2190.0</td>\n",
       "      <td>1352.0</td>\n",
       "      <td>558.0</td>\n",
       "      <td>3125.0</td>\n",
       "      <td>4621.0</td>\n",
       "      <td>3770.0</td>\n",
       "      <td>1211.0</td>\n",
       "      <td>...</td>\n",
       "      <td>3</td>\n",
       "      <td>NaN</td>\n",
       "      <td>NaN</td>\n",
       "      <td>NaN</td>\n",
       "      <td>46.9</td>\n",
       "      <td>157.5</td>\n",
       "      <td>0.0</td>\n",
       "      <td>0.0</td>\n",
       "      <td>1.575</td>\n",
       "      <td>18.906526</td>\n",
       "    </tr>\n",
       "  </tbody>\n",
       "</table>\n",
       "<p>898 rows × 566 columns</p>\n",
       "</div>"
      ],
      "text/plain": [
       "             Subject  lh_bankssts_area  lh_caudalanteriorcingulate_area  \\\n",
       "0    sub-0003_ses-01            1226.0                            622.0   \n",
       "2    sub-0025_ses-01            1067.0                            526.0   \n",
       "4    sub-0070_ses-01             857.0                            803.0   \n",
       "6    sub-0095_ses-01            1015.0                           1071.0   \n",
       "8    sub-0096_ses-01            1495.0                            550.0   \n",
       "..               ...               ...                              ...   \n",
       "112  sub-0182_ses-01             896.0                            598.0   \n",
       "113  sub-0183_ses-01             929.0                            533.0   \n",
       "114  sub-0184_ses-01            1306.0                            555.0   \n",
       "115  sub-0185_ses-01            1036.0                            621.0   \n",
       "116  sub-0186_ses-01            1115.0                            545.0   \n",
       "\n",
       "     lh_caudalmiddlefrontal_area  lh_cuneus_area  lh_entorhinal_area  \\\n",
       "0                         2909.0          1490.0               442.0   \n",
       "2                         2537.0          1772.0               394.0   \n",
       "4                         2087.0          1713.0               547.0   \n",
       "6                         2185.0          1622.0               358.0   \n",
       "8                         2502.0          1852.0               606.0   \n",
       "..                           ...             ...                 ...   \n",
       "112                       2109.0          1482.0               289.0   \n",
       "113                       2045.0          1174.0               385.0   \n",
       "114                       2289.0          1495.0               323.0   \n",
       "115                       2645.0          1450.0               541.0   \n",
       "116                       2190.0          1352.0               558.0   \n",
       "\n",
       "     lh_fusiform_area  lh_inferiorparietal_area  lh_inferiortemporal_area  \\\n",
       "0              3107.0                    4961.0                    3823.0   \n",
       "2              3310.0                    5077.0                    3188.0   \n",
       "4              3153.0                    5148.0                    3845.0   \n",
       "6              3018.0                    4830.0                    3400.0   \n",
       "8              4075.0                    5700.0                    3895.0   \n",
       "..                ...                       ...                       ...   \n",
       "112            2859.0                    4906.0                    3639.0   \n",
       "113            2513.0                    4454.0                    3271.0   \n",
       "114            3256.0                    4454.0                    3821.0   \n",
       "115            3349.0                    5397.0                    4132.0   \n",
       "116            3125.0                    4621.0                    3770.0   \n",
       "\n",
       "     lh_isthmuscingulate_area  ...  magnetic_field_strength  principal_diag  \\\n",
       "0                       938.0  ...                      NaN             NaN   \n",
       "2                      1062.0  ...                      NaN             NaN   \n",
       "4                      1115.0  ...                      NaN             NaN   \n",
       "6                      1202.0  ...                      NaN             NaN   \n",
       "8                      1016.0  ...                      NaN             NaN   \n",
       "..                        ...  ...                      ...             ...   \n",
       "112                     810.0  ...                        3             2.0   \n",
       "113                     951.0  ...                        3             1.0   \n",
       "114                    1050.0  ...                        3             1.0   \n",
       "115                    1139.0  ...                        3             1.0   \n",
       "116                    1211.0  ...                        3             NaN   \n",
       "\n",
       "     TSA  delay_before_first_mri  weight_at_scan  size_at_scan  dwi_b1000  \\\n",
       "0    NaN                     NaN             NaN           NaN        NaN   \n",
       "2    NaN                     NaN             NaN           NaN        NaN   \n",
       "4    NaN                     NaN             NaN           NaN        NaN   \n",
       "6    NaN                     NaN             NaN           NaN        NaN   \n",
       "8    NaN                     NaN             NaN           NaN        NaN   \n",
       "..   ...                     ...             ...           ...        ...   \n",
       "112  0.0                     NaN            34.6         159.9        0.0   \n",
       "113  0.0                     NaN            38.6         157.0        0.0   \n",
       "114  0.0                     NaN            24.0         142.0        0.0   \n",
       "115  0.0                     NaN            28.2         140.8        0.0   \n",
       "116  NaN                     NaN            46.9         157.5        0.0   \n",
       "\n",
       "     dwi_b1500  height_m        BMI  \n",
       "0          NaN       NaN        NaN  \n",
       "2          NaN       NaN        NaN  \n",
       "4          NaN       NaN        NaN  \n",
       "6          NaN       NaN        NaN  \n",
       "8          NaN       NaN        NaN  \n",
       "..         ...       ...        ...  \n",
       "112        0.0     1.599  13.532535  \n",
       "113        0.0     1.570  15.659864  \n",
       "114        0.0     1.420  11.902400  \n",
       "115        0.0     1.408  14.224722  \n",
       "116        0.0     1.575  18.906526  \n",
       "\n",
       "[898 rows x 566 columns]"
      ]
     },
     "execution_count": 417,
     "metadata": {},
     "output_type": "execute_result"
    }
   ],
   "source": [
    "df_tsa_tca"
   ]
  },
  {
   "cell_type": "code",
   "execution_count": 412,
   "id": "862bcce6",
   "metadata": {},
   "outputs": [
    {
     "data": {
      "text/plain": [
       "ASD\n",
       "No            337\n",
       "TCA           110\n",
       "TCA_Autism      5\n",
       "Yes           446\n",
       "dtype: int64"
      ]
     },
     "execution_count": 412,
     "metadata": {},
     "output_type": "execute_result"
    }
   ],
   "source": [
    "adf_tsa_tca.groupby('ASD').size()"
   ]
  },
  {
   "cell_type": "code",
   "execution_count": null,
   "id": "3fd84028",
   "metadata": {},
   "outputs": [],
   "source": []
  }
 ],
 "metadata": {
  "kernelspec": {
   "display_name": "Python 3 (ipykernel)",
   "language": "python",
   "name": "python3"
  },
  "language_info": {
   "codemirror_mode": {
    "name": "ipython",
    "version": 3
   },
   "file_extension": ".py",
   "mimetype": "text/x-python",
   "name": "python",
   "nbconvert_exporter": "python",
   "pygments_lexer": "ipython3",
   "version": "3.9.7"
  }
 },
 "nbformat": 4,
 "nbformat_minor": 5
}
