{
 "cells": [
  {
   "cell_type": "code",
   "execution_count": 3,
   "id": "26020c82",
   "metadata": {},
   "outputs": [],
   "source": [
    "import os\n",
    "os.chdir('/Users/ltran/Documents/TrueData29/CPC_ML_tutorial/')\n",
    "\n",
    "import numpy as np\n",
    "import pandas as pd\n",
    "import pickle\n",
    "from matplotlib import pyplot as plt\n",
    "import seaborn as sns\n",
    "import random\n",
    "import joypy\n",
    "from matplotlib import cm\n",
    "import joypy\n",
    "from matplotlib import cm\n",
    "\n",
    "from scipy.stats import fisher_exact\n",
    "from pcntoolkit.normative import estimate, predict, evaluate\n",
    "from pcntoolkit.util.utils import compute_MSLL, create_design_matrix\n",
    "from nm_utils import calibration_descriptives, remove_bad_subjects, load_2d\n",
    "from sklearn.model_selection import train_test_split\n",
    "\n",
    "# Set working directory\n",
    "root_dir = '/Users/ltran/Documents/TrueData0104/CPC_ML_tutorial/'\n",
    "out_dir = os.path.join(root_dir,'models','test')\n",
    "\n",
    "# create the output directory if it does not already exist\n",
    "os.makedirs(out_dir, exist_ok=True)"
   ]
  },
  {
   "cell_type": "code",
   "execution_count": 4,
   "id": "6053f1ff",
   "metadata": {},
   "outputs": [],
   "source": [
    "data_dir = '/Users/ltran/Documents/Data/'"
   ]
  },
  {
   "cell_type": "code",
   "execution_count": 41,
   "id": "c2cbfbae",
   "metadata": {},
   "outputs": [],
   "source": [
    "bmi_charts = pd.read_csv(os.path.join(data_dir, 'TCA_vol/BMI_charts.csv'), sep = ';')\n",
    "\n",
    "bmi_charts['round_age'] = round(bmi_charts['Age (in months)']/12, 1)\n"
   ]
  },
  {
   "cell_type": "code",
   "execution_count": 54,
   "id": "5d9bf7b1",
   "metadata": {},
   "outputs": [],
   "source": [
    "df_tca = pd.read_csv(os.path.join(data_dir, 'TCA_vol/df_tca_matched.csv'))\n",
    "df_asd = pd.read_csv(os.path.join(data_dir, 'TSA_vol/df_asd_matched.csv'))\n",
    "df_td = pd.read_csv(os.path.join(data_dir, 'TSA_vol/df_td_matched.csv'))"
   ]
  },
  {
   "cell_type": "code",
   "execution_count": 43,
   "id": "06fded43",
   "metadata": {},
   "outputs": [],
   "source": [
    "df_tca['round_age'] = round(df_tca.age_at_scan, 1)"
   ]
  },
  {
   "cell_type": "code",
   "execution_count": 44,
   "id": "0d2f2153",
   "metadata": {},
   "outputs": [
    {
     "data": {
      "text/plain": [
       "0       2.0\n",
       "1       2.0\n",
       "2       2.1\n",
       "3       2.2\n",
       "4       2.3\n",
       "       ... \n",
       "214    19.8\n",
       "215    19.9\n",
       "216    20.0\n",
       "217    20.0\n",
       "218    20.0\n",
       "Name: round_age, Length: 219, dtype: float64"
      ]
     },
     "execution_count": 44,
     "metadata": {},
     "output_type": "execute_result"
    }
   ],
   "source": [
    "bmi_charts['round_age']"
   ]
  },
  {
   "cell_type": "code",
   "execution_count": 48,
   "id": "d8622f0a",
   "metadata": {},
   "outputs": [],
   "source": [
    "df_age = bmi_charts.merge(df_tca['round_age'], on = 'round_age')"
   ]
  },
  {
   "cell_type": "code",
   "execution_count": 53,
   "id": "787c0f01",
   "metadata": {},
   "outputs": [
    {
     "data": {
      "text/plain": [
       "11.768421052631586"
      ]
     },
     "execution_count": 53,
     "metadata": {},
     "output_type": "execute_result"
    }
   ],
   "source": [
    "df_tca.round_age.mean()"
   ]
  },
  {
   "cell_type": "code",
   "execution_count": null,
   "id": "0fc05a1b",
   "metadata": {},
   "outputs": [],
   "source": []
  },
  {
   "cell_type": "code",
   "execution_count": 49,
   "id": "801df954",
   "metadata": {},
   "outputs": [
    {
     "data": {
      "text/plain": [
       "0      0.458659\n",
       "1      0.485411\n",
       "2      0.543948\n",
       "3      0.561175\n",
       "4      0.570240\n",
       "         ...   \n",
       "112    0.736559\n",
       "113    0.747829\n",
       "114    0.747829\n",
       "115    0.759167\n",
       "116    0.780535\n",
       "Length: 117, dtype: float64"
      ]
     },
     "execution_count": 49,
     "metadata": {},
     "output_type": "execute_result"
    }
   ],
   "source": [
    "(df_age['round_age'] - df_age['50th Percentile BMI Value'])"
   ]
  }
 ],
 "metadata": {
  "kernelspec": {
   "display_name": "Python 3 (ipykernel)",
   "language": "python",
   "name": "python3"
  },
  "language_info": {
   "codemirror_mode": {
    "name": "ipython",
    "version": 3
   },
   "file_extension": ".py",
   "mimetype": "text/x-python",
   "name": "python",
   "nbconvert_exporter": "python",
   "pygments_lexer": "ipython3",
   "version": "3.9.7"
  }
 },
 "nbformat": 4,
 "nbformat_minor": 5
}
