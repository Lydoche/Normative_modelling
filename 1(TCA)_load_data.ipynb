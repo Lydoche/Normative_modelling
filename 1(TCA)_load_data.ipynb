{
 "cells": [
  {
   "cell_type": "code",
   "execution_count": 102,
   "id": "1a63a3ab",
   "metadata": {},
   "outputs": [],
   "source": [
    "import os\n",
    "os.chdir('/Users/ltran/Documents/TrueData29/CPC_ML_tutorial/')\n",
    "\n",
    "import numpy as np\n",
    "import pandas as pd\n",
    "import pickle\n",
    "from matplotlib import pyplot as plt\n",
    "import seaborn as sns\n",
    "import random\n",
    "import joypy\n",
    "from matplotlib import cm\n",
    "\n",
    "from scipy.stats import fisher_exact\n",
    "from pcntoolkit.normative import estimate, predict, evaluate\n",
    "from pcntoolkit.util.utils import compute_MSLL, create_design_matrix\n",
    "from nm_utils import calibration_descriptives, remove_bad_subjects, load_2d\n",
    "from sklearn.model_selection import train_test_split\n",
    "\n",
    "# Set working directory\n",
    "root_dir = '/Users/ltran/Documents/TrueData0104/CPC_ML_tutorial/'\n",
    "out_dir = os.path.join(root_dir,'models','test')\n",
    "\n",
    "# create the output directory if it does not already exist\n",
    "os.makedirs(out_dir, exist_ok=True)"
   ]
  },
  {
   "cell_type": "markdown",
   "id": "23d89159",
   "metadata": {},
   "source": [
    "# Load TCA"
   ]
  },
  {
   "cell_type": "code",
   "execution_count": 192,
   "id": "92a96e96",
   "metadata": {},
   "outputs": [],
   "source": [
    "data_dir = '/Users/ltran/Documents/Data/'\n"
   ]
  },
  {
   "cell_type": "markdown",
   "id": "1cc50e36",
   "metadata": {},
   "source": [
    "## Compute BMI"
   ]
  },
  {
   "cell_type": "code",
   "execution_count": 193,
   "id": "a7baeb4a",
   "metadata": {},
   "outputs": [],
   "source": [
    "pheno = pd.read_csv(os.path.join(data_dir, 'TCA_vol/MRI_RDB_TCA_20220629_anonym.tsv'), sep = '\\t')"
   ]
  },
  {
   "cell_type": "code",
   "execution_count": 194,
   "id": "e192dd64",
   "metadata": {},
   "outputs": [],
   "source": [
    "# Problème pour la taille (m -> cm)\n",
    "pheno['size_at_scan'] = pheno['size_at_scan'].replace(0.92, 92)"
   ]
  },
  {
   "cell_type": "code",
   "execution_count": 195,
   "id": "f447fdc4",
   "metadata": {},
   "outputs": [],
   "source": [
    "# Rajouter suffixe à participant_id\n",
    "pheno['participant_id'] = pheno['subject_id'].astype(str)+'_tca'"
   ]
  },
  {
   "cell_type": "code",
   "execution_count": 196,
   "id": "e7311d52",
   "metadata": {},
   "outputs": [],
   "source": [
    "S = []\n",
    "for i in pheno.subject_id:\n",
    "    S.append('sub-'+str(i).zfill(4))\n",
    "    \n",
    "pheno['Subject'] = S"
   ]
  },
  {
   "cell_type": "markdown",
   "id": "4cb9252e",
   "metadata": {},
   "source": [
    "## Remove failed"
   ]
  },
  {
   "cell_type": "code",
   "execution_count": 197,
   "id": "de85211a",
   "metadata": {},
   "outputs": [],
   "source": [
    "list_fail = [8, 12, 18, 152, 26]"
   ]
  },
  {
   "cell_type": "code",
   "execution_count": 198,
   "id": "61682386",
   "metadata": {},
   "outputs": [],
   "source": [
    "pheno = pheno[~(pheno.subject_id.isin(list_fail))]"
   ]
  },
  {
   "cell_type": "markdown",
   "id": "aa18c0e3",
   "metadata": {},
   "source": [
    "# Merge Volume, Area, CT"
   ]
  },
  {
   "cell_type": "code",
   "execution_count": 199,
   "id": "ca0c5866",
   "metadata": {},
   "outputs": [],
   "source": [
    "# Load ISO volume\n",
    "vol_iso = pd.read_csv(os.path.join(data_dir, 'TCA_vol/volumes-fs-iso.txt'), sep = '\\t')\n",
    "\n",
    "# Load TFE volume\n",
    "vol_tfe = pd.read_csv(os.path.join(data_dir, 'TCA_vol/volumes-fs-tfe.txt'), sep = '\\t')"
   ]
  },
  {
   "cell_type": "code",
   "execution_count": 200,
   "id": "26c507c8",
   "metadata": {},
   "outputs": [],
   "source": [
    "# Merge volume ISO + TFE \n",
    "\n",
    "vol_tca = pd.concat([vol_tfe, vol_iso])"
   ]
  },
  {
   "cell_type": "code",
   "execution_count": 201,
   "id": "4eac9300",
   "metadata": {},
   "outputs": [],
   "source": [
    "lh_area_iso = pd.read_csv(os.path.join(data_dir, 'TCA_vol/fs-7.2.0-iso.lh.area.csv'), sep = '\\t') \n",
    "rh_area_iso = pd.read_csv(os.path.join(data_dir, 'TCA_vol/fs-7.2.0-iso.rh.area.csv'), sep = '\\t') \n",
    "\n",
    "\n",
    "lh_area_tfe = pd.read_csv(os.path.join(data_dir, 'TCA_vol/fs-7.2.0-tfe.lh.area.csv'), sep = '\\t') \n",
    "rh_area_tfe = pd.read_csv(os.path.join(data_dir, 'TCA_vol/fs-7.2.0-tfe.rh.area.csv'), sep = '\\t') \n",
    "\n",
    "area_iso = lh_area_iso.merge(rh_area_iso.rename(columns={'rh.aparc.area': 'lh.aparc.area'}), on ='lh.aparc.area')\n",
    "\n",
    "area_tfe = lh_area_tfe.merge(rh_area_tfe.rename(columns={'rh.aparc.area': 'lh.aparc.area'}), on ='lh.aparc.area')"
   ]
  },
  {
   "cell_type": "code",
   "execution_count": 202,
   "id": "45499174",
   "metadata": {},
   "outputs": [],
   "source": [
    "area = pd.concat([area_iso, area_tfe])\n",
    "area = area.rename(columns= {'lh.aparc.area' : 'Subject'})"
   ]
  },
  {
   "cell_type": "code",
   "execution_count": 217,
   "id": "a13c2302",
   "metadata": {},
   "outputs": [],
   "source": [
    "lh_ct_iso = pd.read_csv(os.path.join(data_dir, 'TCA_vol/fs-7.2.0-iso.lh.thickness.csv'), sep = '\\t') \n",
    "rh_ct_iso = pd.read_csv(os.path.join(data_dir, 'TCA_vol/fs-7.2.0-iso.rh.thickness.csv'), sep = '\\t') \n",
    "\n",
    "ct_iso = lh_ct_iso.merge(rh_ct_iso.rename(columns={'rh.aparc.thickness': 'lh.aparc.thickness'}), \n",
    "               on = 'lh.aparc.thickness')\n",
    "\n",
    "\n",
    "lh_ct_tfe = pd.read_csv(os.path.join(data_dir, 'TCA_vol/fs-7.2.0-tfe.lh.thickness.csv'), sep = '\\t') \n",
    "rh_ct_tfe = pd.read_csv(os.path.join(data_dir, 'TCA_vol/fs-7.2.0-tfe.rh.thickness.csv'), sep = '\\t') \n",
    "\n",
    "ct_tfe = lh_ct_tfe.merge(rh_ct_tfe.rename(columns={'rh.aparc.thickness': 'lh.aparc.thickness'}), \n",
    "               on = 'lh.aparc.thickness')\n",
    "\n",
    "\n",
    "ct = pd.concat([ct_iso, ct_tfe])\n",
    "ct = ct.rename(columns= {'lh.aparc.thickness' : 'Subject'})"
   ]
  },
  {
   "cell_type": "code",
   "execution_count": 218,
   "id": "1a2b6a8b",
   "metadata": {},
   "outputs": [],
   "source": [
    "df_TCA = area.merge(vol_tca, on = 'Subject').merge(ct, on='Subject')"
   ]
  },
  {
   "cell_type": "code",
   "execution_count": 219,
   "id": "16e9dc33",
   "metadata": {},
   "outputs": [],
   "source": [
    "l_pi = []\n",
    "for i in df_TCA['Subject']:\n",
    "    l_pi.append(int(i.split('-')[1].split('_')[0]))\n",
    "\n",
    "df_TCA['participant_id'] = l_pi"
   ]
  },
  {
   "cell_type": "code",
   "execution_count": 220,
   "id": "fb72da31",
   "metadata": {},
   "outputs": [],
   "source": [
    "df_TCA['participant_id'] = df_TCA['participant_id'].astype(str)+'_tca'"
   ]
  },
  {
   "cell_type": "code",
   "execution_count": 221,
   "id": "33e70bdc",
   "metadata": {},
   "outputs": [],
   "source": [
    "df_TCA = df_TCA.merge(pheno, on = 'participant_id')"
   ]
  },
  {
   "cell_type": "code",
   "execution_count": 222,
   "id": "296fe7cd",
   "metadata": {},
   "outputs": [],
   "source": [
    "df_TCA['sex'] = df_TCA['Sex'].replace({'Female' : 2, 'Male' : 1})"
   ]
  },
  {
   "cell_type": "code",
   "execution_count": 223,
   "id": "2ffb7b1b",
   "metadata": {},
   "outputs": [],
   "source": [
    "# df_TCA = df_TCA.drop_duplicates(subset='participant_id')\n",
    "df_TCA = df_TCA.dropna(subset='Sex')"
   ]
  },
  {
   "cell_type": "code",
   "execution_count": 224,
   "id": "b85a72c9",
   "metadata": {},
   "outputs": [],
   "source": [
    "df_TCA.columns = df_TCA.columns.str.replace('-', '_')"
   ]
  },
  {
   "cell_type": "code",
   "execution_count": 225,
   "id": "b3c9c9f2",
   "metadata": {},
   "outputs": [],
   "source": [
    "df_TCA['ASD'] = 'TCA'\n",
    "df_TCA.loc[df_TCA[df_TCA.TSA == 1].index, 'ASD'] = 'TCA_Autism'"
   ]
  },
  {
   "cell_type": "code",
   "execution_count": 226,
   "id": "dc2fcbe6",
   "metadata": {},
   "outputs": [],
   "source": [
    "# df_TCA = df_TCA[~(df_TCA['magnetic_field_strength'] == '3')]"
   ]
  },
  {
   "cell_type": "code",
   "execution_count": 227,
   "id": "c9af9f07",
   "metadata": {},
   "outputs": [],
   "source": [
    "df_TCA = df_TCA.drop_duplicates(subset='participant_id', keep = 'first')"
   ]
  },
  {
   "cell_type": "code",
   "execution_count": 228,
   "id": "05e647d4",
   "metadata": {},
   "outputs": [],
   "source": [
    "df_TCA['size_at_scan'] = df_TCA['size_at_scan'].replace(0.92, 92)"
   ]
  },
  {
   "cell_type": "code",
   "execution_count": 229,
   "id": "11b226ef",
   "metadata": {},
   "outputs": [],
   "source": [
    "df_TCA['Month'] = df_TCA['age_at_scan']*12"
   ]
  },
  {
   "cell_type": "code",
   "execution_count": 230,
   "id": "d71d9964",
   "metadata": {},
   "outputs": [],
   "source": [
    "df_TCA['scanner'] = df_TCA['manufacturer_model_name']"
   ]
  },
  {
   "cell_type": "code",
   "execution_count": 231,
   "id": "381fe99d",
   "metadata": {},
   "outputs": [],
   "source": [
    "df_TCA = df_TCA.rename(columns= {'3rd_Ventricle' : 'third_Ventricle',\n",
    "                       '4th_Ventricle' : 'fourth_Ventricle',\n",
    "                        '5th_Ventricle' : 'fifth_Ventricle'})"
   ]
  },
  {
   "cell_type": "markdown",
   "id": "bfec4648",
   "metadata": {},
   "source": [
    "### Export dataframe"
   ]
  },
  {
   "cell_type": "code",
   "execution_count": 232,
   "id": "9174b868",
   "metadata": {},
   "outputs": [
    {
     "data": {
      "text/plain": [
       "'/Users/ltran/Documents/Data/'"
      ]
     },
     "execution_count": 232,
     "metadata": {},
     "output_type": "execute_result"
    }
   ],
   "source": [
    "data_dir"
   ]
  },
  {
   "cell_type": "code",
   "execution_count": 233,
   "id": "bdec05ba",
   "metadata": {},
   "outputs": [],
   "source": [
    "df_TCA.to_csv(os.path.join(data_dir, 'TCA_vol/Outputs/df_TCA.csv'), index = False)"
   ]
  },
  {
   "cell_type": "markdown",
   "id": "94f335d0",
   "metadata": {},
   "source": [
    "________________"
   ]
  },
  {
   "cell_type": "markdown",
   "id": "1b7e9e28",
   "metadata": {},
   "source": [
    "# Load TSA"
   ]
  },
  {
   "cell_type": "markdown",
   "id": "36a57755",
   "metadata": {},
   "source": [
    "Load infos "
   ]
  },
  {
   "cell_type": "code",
   "execution_count": 234,
   "id": "7e874d65",
   "metadata": {},
   "outputs": [],
   "source": [
    "def is_duplicated(df, col):\n",
    "    return df[df.duplicated(subset = col, keep = False)]\n",
    "    "
   ]
  },
  {
   "cell_type": "code",
   "execution_count": 235,
   "id": "62f490d6",
   "metadata": {},
   "outputs": [],
   "source": [
    "infos_TSA = pd.read_csv(os.path.join(data_dir, 'TSA_vol/MRI_RDB_20220928_anonym.tsv'), sep = '\\t')"
   ]
  },
  {
   "cell_type": "code",
   "execution_count": 236,
   "id": "f42b4110",
   "metadata": {},
   "outputs": [],
   "source": [
    "infos_TSA['Subject'] = 'sub-'+infos_TSA['subject_id'].astype(str).str.zfill(4)+'_ses-0'+infos_TSA['session_id'].astype(str\n",
    "                                                                    )"
   ]
  },
  {
   "cell_type": "code",
   "execution_count": 237,
   "id": "06f95c88",
   "metadata": {},
   "outputs": [],
   "source": [
    "# Enleve les NA dans sex, ASD, age\n",
    "infos_TSA = infos_TSA.dropna(subset = ['Sex', 'age_at_scan', 'ASD'])\n",
    "infos_TSA = infos_TSA[~(infos_TSA.ASD == '?')]"
   ]
  },
  {
   "cell_type": "code",
   "execution_count": 238,
   "id": "ae92bf0f",
   "metadata": {},
   "outputs": [],
   "source": [
    "infos_TSA['sex'] = infos_TSA.Sex.replace({'Male' : 1, 'Female' : 2})"
   ]
  },
  {
   "cell_type": "code",
   "execution_count": 239,
   "id": "fedc2fe2",
   "metadata": {},
   "outputs": [],
   "source": [
    "infos_TSA.loc[(infos_TSA.Group == 'Relative') & (infos_TSA.ASD == 'No'), 'ASD'] = 'Relative'"
   ]
  },
  {
   "cell_type": "markdown",
   "id": "e0b2a75d",
   "metadata": {},
   "source": [
    "Load QC"
   ]
  },
  {
   "cell_type": "code",
   "execution_count": 240,
   "id": "d4769e13",
   "metadata": {},
   "outputs": [],
   "source": [
    "QC = pd.read_csv(os.path.join(data_dir, 'QC_trio.csv'), sep = ',')"
   ]
  },
  {
   "cell_type": "code",
   "execution_count": 241,
   "id": "a1c682c3",
   "metadata": {},
   "outputs": [],
   "source": [
    "bids_f = QC[(QC.QC == 'F') | (QC.QC == 'g')][['BIDS', 'session']]"
   ]
  },
  {
   "cell_type": "code",
   "execution_count": 242,
   "id": "20f773a2",
   "metadata": {},
   "outputs": [],
   "source": [
    "p = []\n",
    "\n",
    "for i in bids_f.BIDS:\n",
    "    if (type(i) == str):\n",
    "        p.append(int(i.split('-')[1]))\n",
    "    else:\n",
    "        p.append(i)\n",
    "bids_f['subject_id'] = p\n",
    "\n"
   ]
  },
  {
   "cell_type": "code",
   "execution_count": 243,
   "id": "79e04ea6",
   "metadata": {},
   "outputs": [],
   "source": [
    "bids_f = bids_f.rename(columns={'session' : 'session_id'})"
   ]
  },
  {
   "cell_type": "code",
   "execution_count": 244,
   "id": "d64c81e2",
   "metadata": {},
   "outputs": [],
   "source": [
    "infos_TSA = infos_TSA[~(infos_TSA.subject_id.isin(bids_f.subject_id))]"
   ]
  },
  {
   "cell_type": "code",
   "execution_count": 245,
   "id": "46a49b3c",
   "metadata": {},
   "outputs": [],
   "source": [
    "# Enlever les duplicata sur les sujets\n",
    "\n",
    "infos_TSA = infos_TSA.drop_duplicates(subset='subject_id', keep  = 'first')"
   ]
  },
  {
   "cell_type": "markdown",
   "id": "5d8ba7bf",
   "metadata": {},
   "source": [
    "Volumes"
   ]
  },
  {
   "cell_type": "code",
   "execution_count": 246,
   "id": "8338c81d",
   "metadata": {},
   "outputs": [],
   "source": [
    "# Load ISO volume\n",
    "vol_tsa_iso = pd.read_csv(os.path.join(data_dir, 'TSA_vol/volumes-fs-iso.txt'), sep = '\\t')\n",
    "\n",
    "# Load TFE volume\n",
    "vol_tsa_tfe = pd.read_csv(os.path.join(data_dir, 'TSA_vol/volumes-fs-tfe.txt'), sep = '\\t')"
   ]
  },
  {
   "cell_type": "code",
   "execution_count": 247,
   "id": "88c42292",
   "metadata": {},
   "outputs": [],
   "source": [
    "vol_tsa = pd.concat([vol_tsa_iso, vol_tsa_tfe])"
   ]
  },
  {
   "cell_type": "code",
   "execution_count": 248,
   "id": "a20818c5",
   "metadata": {},
   "outputs": [],
   "source": [
    "vol_tsa = vol_tsa.drop_duplicates(subset= 'Subject')"
   ]
  },
  {
   "cell_type": "markdown",
   "id": "a7861b39",
   "metadata": {},
   "source": [
    "Surface area"
   ]
  },
  {
   "cell_type": "code",
   "execution_count": 249,
   "id": "611402ad",
   "metadata": {},
   "outputs": [],
   "source": [
    "rh_area_iso = pd.read_csv(os.path.join(data_dir, 'TSA_vol/fs-7.2.0-iso.rh.area.csv'), sep = '\\t')\n",
    "lh_area_iso = pd.read_csv(os.path.join(data_dir, 'TSA_vol/fs-7.2.0-iso.lh.area.csv'), sep = '\\t')\n",
    "rh_area_tfe = pd.read_csv(os.path.join(data_dir, 'TSA_vol/fs-7.2.0-tfe.rh.area.csv'), sep = '\\t')\n",
    "lh_area_tfe = pd.read_csv(os.path.join(data_dir, 'TSA_vol/fs-7.2.0-tfe.lh.area.csv'), sep = '\\t')"
   ]
  },
  {
   "cell_type": "code",
   "execution_count": 250,
   "id": "8dbf0187",
   "metadata": {},
   "outputs": [],
   "source": [
    "area_iso = lh_area_iso.merge(rh_area_iso.rename(columns={'rh.aparc.area': 'lh.aparc.area'}), on ='lh.aparc.area')"
   ]
  },
  {
   "cell_type": "code",
   "execution_count": 251,
   "id": "c9e3cf79",
   "metadata": {},
   "outputs": [],
   "source": [
    "area_tfe = lh_area_tfe.merge(rh_area_tfe.rename(columns={'rh.aparc.area': 'lh.aparc.area'}), on ='lh.aparc.area')"
   ]
  },
  {
   "cell_type": "code",
   "execution_count": 252,
   "id": "c3075b34",
   "metadata": {},
   "outputs": [],
   "source": [
    "area_iso = area_iso.rename(columns={'lh.aparc.area':'Subject'})\n",
    "area_tfe = area_tfe.rename(columns={'lh.aparc.area':'Subject'})"
   ]
  },
  {
   "cell_type": "code",
   "execution_count": 253,
   "id": "3f1fa744",
   "metadata": {},
   "outputs": [],
   "source": [
    "area = pd.concat([area_iso,area_tfe])"
   ]
  },
  {
   "cell_type": "code",
   "execution_count": 254,
   "id": "7bf4db3e",
   "metadata": {},
   "outputs": [],
   "source": [
    "area = area.drop_duplicates(subset= 'Subject')"
   ]
  },
  {
   "cell_type": "markdown",
   "id": "7b6ca2f1",
   "metadata": {},
   "source": [
    "Cortical thickness"
   ]
  },
  {
   "cell_type": "code",
   "execution_count": 255,
   "id": "62db0f65",
   "metadata": {},
   "outputs": [],
   "source": [
    "rh_ct_iso = pd.read_csv(os.path.join(data_dir, 'TSA_vol/fs-7.2.0-iso.rh.thickness.csv'), sep = '\\t')\n",
    "lh_ct_iso = pd.read_csv(os.path.join(data_dir, 'TSA_vol/fs-7.2.0-iso.lh.thickness.csv'), sep = '\\t')\n",
    "rh_ct_tfe = pd.read_csv(os.path.join(data_dir, 'TSA_vol/fs-7.2.0-tfe.rh.thickness.csv'), sep = '\\t')\n",
    "lh_ct_tfe = pd.read_csv(os.path.join(data_dir, 'TSA_vol/fs-7.2.0-tfe.lh.thickness.csv'), sep = '\\t')"
   ]
  },
  {
   "cell_type": "code",
   "execution_count": 256,
   "id": "20b5c1cc",
   "metadata": {},
   "outputs": [],
   "source": [
    "ct_iso = lh_ct_iso.merge(rh_ct_iso.rename(columns={'rh.aparc.thickness': 'lh.aparc.thickness'}), on ='lh.aparc.thickness')"
   ]
  },
  {
   "cell_type": "code",
   "execution_count": 257,
   "id": "30ffdec3",
   "metadata": {},
   "outputs": [],
   "source": [
    "ct_tfe = lh_ct_tfe.merge(rh_ct_tfe.rename(columns={'rh.aparc.thickness': 'lh.aparc.thickness'}), on ='lh.aparc.thickness')"
   ]
  },
  {
   "cell_type": "code",
   "execution_count": 258,
   "id": "cf2d66bb",
   "metadata": {},
   "outputs": [],
   "source": [
    "ct_iso = ct_iso.rename(columns={'lh.aparc.thickness':'Subject'})\n",
    "ct_tfe = ct_tfe.rename(columns={'lh.aparc.thickness':'Subject'})"
   ]
  },
  {
   "cell_type": "code",
   "execution_count": 259,
   "id": "d3deb641",
   "metadata": {},
   "outputs": [],
   "source": [
    "ct_tsa = pd.concat([ct_iso, ct_tfe])"
   ]
  },
  {
   "cell_type": "code",
   "execution_count": 260,
   "id": "48462f3f",
   "metadata": {},
   "outputs": [],
   "source": [
    "ct_tsa = ct_tsa.drop_duplicates(subset= 'Subject')"
   ]
  },
  {
   "cell_type": "markdown",
   "id": "aefe99e4",
   "metadata": {},
   "source": [
    "### Merge volume / area / ct"
   ]
  },
  {
   "cell_type": "code",
   "execution_count": 268,
   "id": "521911db",
   "metadata": {},
   "outputs": [],
   "source": [
    "df_tsa = area.merge(ct_tsa, on = 'Subject').merge(vol_tsa, on = 'Subject')"
   ]
  },
  {
   "cell_type": "code",
   "execution_count": 269,
   "id": "9ab8e057",
   "metadata": {},
   "outputs": [],
   "source": [
    "participants = []\n",
    "for i in df_tsa['Subject']:\n",
    "    participants.append(int(i.split('-')[1].split('_')[0]))\n",
    "    \n",
    "df_tsa['participant_id'] = participants\n",
    "df_tsa['participant_id'] = df_tsa['participant_id'].astype(str)+'_tsa'"
   ]
  },
  {
   "cell_type": "code",
   "execution_count": 270,
   "id": "8267ae1e",
   "metadata": {},
   "outputs": [],
   "source": [
    "infos_TSA['participant_id'] = infos_TSA['subject_id'].astype(str)+'_tsa'"
   ]
  },
  {
   "cell_type": "code",
   "execution_count": 271,
   "id": "c1f47e14",
   "metadata": {},
   "outputs": [],
   "source": [
    "df_tsa = df_tsa.merge(infos_TSA,\n",
    "                                   on  = 'participant_id')"
   ]
  },
  {
   "cell_type": "code",
   "execution_count": 272,
   "id": "7f05ee48",
   "metadata": {},
   "outputs": [],
   "source": [
    "df_tsa = df_tsa.drop_duplicates(subset = 'participant_id', keep = 'first')"
   ]
  },
  {
   "cell_type": "code",
   "execution_count": 273,
   "id": "dc29856b",
   "metadata": {},
   "outputs": [],
   "source": [
    "df_tsa.columns = df_tsa.columns.str.replace('-', '_')"
   ]
  },
  {
   "cell_type": "code",
   "execution_count": 274,
   "id": "150b86ea",
   "metadata": {},
   "outputs": [],
   "source": [
    "df_tsa['scanner'] = df_tsa['machine'].str.upper()"
   ]
  },
  {
   "cell_type": "code",
   "execution_count": 275,
   "id": "3d613855",
   "metadata": {},
   "outputs": [],
   "source": [
    "df_tsa = df_tsa.rename(columns= {'3rd_Ventricle' : 'third_Ventricle',\n",
    "                       '4th_Ventricle' : 'fourth_Ventricle',\n",
    "                        '5th_Ventricle' : 'fifth_Ventricle'})"
   ]
  },
  {
   "cell_type": "markdown",
   "id": "3b23a115",
   "metadata": {},
   "source": [
    "## Export TSA"
   ]
  },
  {
   "cell_type": "code",
   "execution_count": 276,
   "id": "437a9d6a",
   "metadata": {},
   "outputs": [],
   "source": [
    "df_tsa.to_csv(os.path.join(data_dir, 'TSA_vol/Outputs/df_TSA.csv'), index = False)"
   ]
  },
  {
   "cell_type": "markdown",
   "id": "7a7a049d",
   "metadata": {},
   "source": [
    "# TCA + TSA"
   ]
  },
  {
   "cell_type": "code",
   "execution_count": 277,
   "id": "6de5077f",
   "metadata": {},
   "outputs": [],
   "source": [
    "df_tsa_tca = pd.concat([df_tsa, df_TCA])\n"
   ]
  },
  {
   "cell_type": "code",
   "execution_count": 176,
   "id": "754769da",
   "metadata": {},
   "outputs": [
    {
     "data": {
      "text/html": [
       "<div>\n",
       "<style scoped>\n",
       "    .dataframe tbody tr th:only-of-type {\n",
       "        vertical-align: middle;\n",
       "    }\n",
       "\n",
       "    .dataframe tbody tr th {\n",
       "        vertical-align: top;\n",
       "    }\n",
       "\n",
       "    .dataframe thead th {\n",
       "        text-align: right;\n",
       "    }\n",
       "</style>\n",
       "<table border=\"1\" class=\"dataframe\">\n",
       "  <thead>\n",
       "    <tr style=\"text-align: right;\">\n",
       "      <th></th>\n",
       "      <th>Diag</th>\n",
       "      <th>Count</th>\n",
       "    </tr>\n",
       "  </thead>\n",
       "  <tbody>\n",
       "    <tr>\n",
       "      <th>0</th>\n",
       "      <td>No</td>\n",
       "      <td>190</td>\n",
       "    </tr>\n",
       "    <tr>\n",
       "      <th>1</th>\n",
       "      <td>Relative</td>\n",
       "      <td>205</td>\n",
       "    </tr>\n",
       "    <tr>\n",
       "      <th>2</th>\n",
       "      <td>TCA</td>\n",
       "      <td>105</td>\n",
       "    </tr>\n",
       "    <tr>\n",
       "      <th>3</th>\n",
       "      <td>TCA_Autism</td>\n",
       "      <td>4</td>\n",
       "    </tr>\n",
       "    <tr>\n",
       "      <th>4</th>\n",
       "      <td>Yes</td>\n",
       "      <td>608</td>\n",
       "    </tr>\n",
       "  </tbody>\n",
       "</table>\n",
       "</div>"
      ],
      "text/plain": [
       "         Diag  Count\n",
       "0          No    190\n",
       "1    Relative    205\n",
       "2         TCA    105\n",
       "3  TCA_Autism      4\n",
       "4         Yes    608"
      ]
     },
     "execution_count": 176,
     "metadata": {},
     "output_type": "execute_result"
    }
   ],
   "source": [
    "df_tsa_tca.groupby('ASD').size().to_frame('Count').reset_index().rename(columns = {'ASD': 'Diag'})"
   ]
  },
  {
   "cell_type": "markdown",
   "id": "d5c8b2b2",
   "metadata": {},
   "source": [
    "## Clean datasets for linear regression"
   ]
  },
  {
   "cell_type": "code",
   "execution_count": 177,
   "id": "ef7ac754",
   "metadata": {},
   "outputs": [],
   "source": [
    "df_tsa_tca = df_tsa_tca[~((df_tsa_tca['magnetic_field_strength'] == '3')|(df_tsa_tca['machine'] == 'Ingenia_3T'))]"
   ]
  },
  {
   "cell_type": "code",
   "execution_count": 178,
   "id": "537fd544",
   "metadata": {},
   "outputs": [],
   "source": [
    "df_tsa_tca = df_tsa_tca.rename(columns={'3rd_Ventricle':'third_Ventricle',\n",
    "                           '4th_Ventricle' : 'fourth_Ventricle',\n",
    "                           '5th_Ventricle' : 'fifth_Ventricle'\n",
    "    \n",
    "})"
   ]
  },
  {
   "cell_type": "code",
   "execution_count": 179,
   "id": "862bcce6",
   "metadata": {},
   "outputs": [
    {
     "data": {
      "text/html": [
       "<div>\n",
       "<style scoped>\n",
       "    .dataframe tbody tr th:only-of-type {\n",
       "        vertical-align: middle;\n",
       "    }\n",
       "\n",
       "    .dataframe tbody tr th {\n",
       "        vertical-align: top;\n",
       "    }\n",
       "\n",
       "    .dataframe thead th {\n",
       "        text-align: right;\n",
       "    }\n",
       "</style>\n",
       "<table border=\"1\" class=\"dataframe\">\n",
       "  <thead>\n",
       "    <tr style=\"text-align: right;\">\n",
       "      <th></th>\n",
       "      <th>Diag</th>\n",
       "      <th>Count</th>\n",
       "    </tr>\n",
       "  </thead>\n",
       "  <tbody>\n",
       "    <tr>\n",
       "      <th>0</th>\n",
       "      <td>No</td>\n",
       "      <td>190</td>\n",
       "    </tr>\n",
       "    <tr>\n",
       "      <th>1</th>\n",
       "      <td>Relative</td>\n",
       "      <td>205</td>\n",
       "    </tr>\n",
       "    <tr>\n",
       "      <th>2</th>\n",
       "      <td>TCA</td>\n",
       "      <td>89</td>\n",
       "    </tr>\n",
       "    <tr>\n",
       "      <th>3</th>\n",
       "      <td>TCA_Autism</td>\n",
       "      <td>3</td>\n",
       "    </tr>\n",
       "    <tr>\n",
       "      <th>4</th>\n",
       "      <td>Yes</td>\n",
       "      <td>552</td>\n",
       "    </tr>\n",
       "  </tbody>\n",
       "</table>\n",
       "</div>"
      ],
      "text/plain": [
       "         Diag  Count\n",
       "0          No    190\n",
       "1    Relative    205\n",
       "2         TCA     89\n",
       "3  TCA_Autism      3\n",
       "4         Yes    552"
      ]
     },
     "execution_count": 179,
     "metadata": {},
     "output_type": "execute_result"
    }
   ],
   "source": [
    "df_tsa_tca.groupby('ASD').size().to_frame('Count').reset_index().rename(columns = {'ASD': 'Diag'})"
   ]
  },
  {
   "cell_type": "code",
   "execution_count": 180,
   "id": "474a845a",
   "metadata": {},
   "outputs": [
    {
     "data": {
      "text/plain": [
       "68"
      ]
     },
     "execution_count": 180,
     "metadata": {},
     "output_type": "execute_result"
    }
   ],
   "source": [
    "thick = [col for col in df_tsa_tca.columns if '_thickness' in col]\n",
    "thick.remove('lh_MeanThickness_thickness')\n",
    "thick.remove('rh_MeanThickness_thickness')\n",
    "len(thick)"
   ]
  },
  {
   "cell_type": "code",
   "execution_count": 181,
   "id": "7ee64b58",
   "metadata": {},
   "outputs": [],
   "source": [
    "df_tsa_tca['meanCT'] = df_tsa_tca[['lh_MeanThickness_thickness', 'rh_MeanThickness_thickness']].mean(axis=1)"
   ]
  },
  {
   "cell_type": "code",
   "execution_count": 182,
   "id": "59f7212f",
   "metadata": {},
   "outputs": [],
   "source": [
    "area  = [col for col in df_tsa_tca.columns if '_area' in col]\n",
    "area.remove('rh_WhiteSurfArea_area')\n",
    "area.remove('lh_WhiteSurfArea_area')\n",
    "area.remove('Left_Accumbens_area'),\n",
    "area.remove('Right_Accumbens_area')"
   ]
  },
  {
   "cell_type": "code",
   "execution_count": 183,
   "id": "e67ed356",
   "metadata": {},
   "outputs": [],
   "source": [
    "df_tsa_tca['TotalSA'] = df_tsa_tca[area].sum(axis =1)"
   ]
  },
  {
   "cell_type": "markdown",
   "id": "57cac2fa",
   "metadata": {},
   "source": [
    "## Export TSA + TCA"
   ]
  },
  {
   "cell_type": "code",
   "execution_count": 185,
   "id": "7955facc",
   "metadata": {},
   "outputs": [],
   "source": [
    "df_tsa_tca.to_csv(os.path.join(data_dir, 'Outputs/df_tsa_tca.csv'))"
   ]
  },
  {
   "cell_type": "code",
   "execution_count": 96,
   "id": "ebb11311",
   "metadata": {},
   "outputs": [
    {
     "name": "stdout",
     "output_type": "stream",
     "text": [
      "lh_bankssts_thickness,\n",
      "lh_caudalanteriorcingulate_thickness,\n",
      "lh_caudalmiddlefrontal_thickness,\n",
      "lh_cuneus_thickness,\n",
      "lh_entorhinal_thickness,\n",
      "lh_fusiform_thickness,\n",
      "lh_inferiorparietal_thickness,\n",
      "lh_inferiortemporal_thickness,\n",
      "lh_isthmuscingulate_thickness,\n",
      "lh_lateraloccipital_thickness,\n",
      "lh_lateralorbitofrontal_thickness,\n",
      "lh_lingual_thickness,\n",
      "lh_medialorbitofrontal_thickness,\n",
      "lh_middletemporal_thickness,\n",
      "lh_parahippocampal_thickness,\n",
      "lh_paracentral_thickness,\n",
      "lh_parsopercularis_thickness,\n",
      "lh_parsorbitalis_thickness,\n",
      "lh_parstriangularis_thickness,\n",
      "lh_pericalcarine_thickness,\n",
      "lh_postcentral_thickness,\n",
      "lh_posteriorcingulate_thickness,\n",
      "lh_precentral_thickness,\n",
      "lh_precuneus_thickness,\n",
      "lh_rostralanteriorcingulate_thickness,\n",
      "lh_rostralmiddlefrontal_thickness,\n",
      "lh_superiorfrontal_thickness,\n",
      "lh_superiorparietal_thickness,\n",
      "lh_superiortemporal_thickness,\n",
      "lh_supramarginal_thickness,\n",
      "lh_frontalpole_thickness,\n",
      "lh_temporalpole_thickness,\n",
      "lh_transversetemporal_thickness,\n",
      "lh_insula_thickness,\n",
      "rh_bankssts_thickness,\n",
      "rh_caudalanteriorcingulate_thickness,\n",
      "rh_caudalmiddlefrontal_thickness,\n",
      "rh_cuneus_thickness,\n",
      "rh_entorhinal_thickness,\n",
      "rh_fusiform_thickness,\n",
      "rh_inferiorparietal_thickness,\n",
      "rh_inferiortemporal_thickness,\n",
      "rh_isthmuscingulate_thickness,\n",
      "rh_lateraloccipital_thickness,\n",
      "rh_lateralorbitofrontal_thickness,\n",
      "rh_lingual_thickness,\n",
      "rh_medialorbitofrontal_thickness,\n",
      "rh_middletemporal_thickness,\n",
      "rh_parahippocampal_thickness,\n",
      "rh_paracentral_thickness,\n",
      "rh_parsopercularis_thickness,\n",
      "rh_parsorbitalis_thickness,\n",
      "rh_parstriangularis_thickness,\n",
      "rh_pericalcarine_thickness,\n",
      "rh_postcentral_thickness,\n",
      "rh_posteriorcingulate_thickness,\n",
      "rh_precentral_thickness,\n",
      "rh_precuneus_thickness,\n",
      "rh_rostralanteriorcingulate_thickness,\n",
      "rh_rostralmiddlefrontal_thickness,\n",
      "rh_superiorfrontal_thickness,\n",
      "rh_superiorparietal_thickness,\n",
      "rh_superiortemporal_thickness,\n",
      "rh_supramarginal_thickness,\n",
      "rh_frontalpole_thickness,\n",
      "rh_temporalpole_thickness,\n",
      "rh_transversetemporal_thickness,\n",
      "rh_insula_thickness,\n"
     ]
    }
   ],
   "source": [
    "for i in thick:\n",
    "    print(i+',')"
   ]
  },
  {
   "cell_type": "code",
   "execution_count": 97,
   "id": "d00db6ac",
   "metadata": {},
   "outputs": [
    {
     "data": {
      "text/plain": [
       "['lh_bankssts_thickness',\n",
       " 'lh_caudalanteriorcingulate_thickness',\n",
       " 'lh_caudalmiddlefrontal_thickness',\n",
       " 'lh_cuneus_thickness',\n",
       " 'lh_entorhinal_thickness',\n",
       " 'lh_fusiform_thickness',\n",
       " 'lh_inferiorparietal_thickness',\n",
       " 'lh_inferiortemporal_thickness',\n",
       " 'lh_isthmuscingulate_thickness',\n",
       " 'lh_lateraloccipital_thickness',\n",
       " 'lh_lateralorbitofrontal_thickness',\n",
       " 'lh_lingual_thickness',\n",
       " 'lh_medialorbitofrontal_thickness',\n",
       " 'lh_middletemporal_thickness',\n",
       " 'lh_parahippocampal_thickness',\n",
       " 'lh_paracentral_thickness',\n",
       " 'lh_parsopercularis_thickness',\n",
       " 'lh_parsorbitalis_thickness',\n",
       " 'lh_parstriangularis_thickness',\n",
       " 'lh_pericalcarine_thickness',\n",
       " 'lh_postcentral_thickness',\n",
       " 'lh_posteriorcingulate_thickness',\n",
       " 'lh_precentral_thickness',\n",
       " 'lh_precuneus_thickness',\n",
       " 'lh_rostralanteriorcingulate_thickness',\n",
       " 'lh_rostralmiddlefrontal_thickness',\n",
       " 'lh_superiorfrontal_thickness',\n",
       " 'lh_superiorparietal_thickness',\n",
       " 'lh_superiortemporal_thickness',\n",
       " 'lh_supramarginal_thickness',\n",
       " 'lh_frontalpole_thickness',\n",
       " 'lh_temporalpole_thickness',\n",
       " 'lh_transversetemporal_thickness',\n",
       " 'lh_insula_thickness',\n",
       " 'rh_bankssts_thickness',\n",
       " 'rh_caudalanteriorcingulate_thickness',\n",
       " 'rh_caudalmiddlefrontal_thickness',\n",
       " 'rh_cuneus_thickness',\n",
       " 'rh_entorhinal_thickness',\n",
       " 'rh_fusiform_thickness',\n",
       " 'rh_inferiorparietal_thickness',\n",
       " 'rh_inferiortemporal_thickness',\n",
       " 'rh_isthmuscingulate_thickness',\n",
       " 'rh_lateraloccipital_thickness',\n",
       " 'rh_lateralorbitofrontal_thickness',\n",
       " 'rh_lingual_thickness',\n",
       " 'rh_medialorbitofrontal_thickness',\n",
       " 'rh_middletemporal_thickness',\n",
       " 'rh_parahippocampal_thickness',\n",
       " 'rh_paracentral_thickness',\n",
       " 'rh_parsopercularis_thickness',\n",
       " 'rh_parsorbitalis_thickness',\n",
       " 'rh_parstriangularis_thickness',\n",
       " 'rh_pericalcarine_thickness',\n",
       " 'rh_postcentral_thickness',\n",
       " 'rh_posteriorcingulate_thickness',\n",
       " 'rh_precentral_thickness',\n",
       " 'rh_precuneus_thickness',\n",
       " 'rh_rostralanteriorcingulate_thickness',\n",
       " 'rh_rostralmiddlefrontal_thickness',\n",
       " 'rh_superiorfrontal_thickness',\n",
       " 'rh_superiorparietal_thickness',\n",
       " 'rh_superiortemporal_thickness',\n",
       " 'rh_supramarginal_thickness',\n",
       " 'rh_frontalpole_thickness',\n",
       " 'rh_temporalpole_thickness',\n",
       " 'rh_transversetemporal_thickness',\n",
       " 'rh_insula_thickness']"
      ]
     },
     "execution_count": 97,
     "metadata": {},
     "output_type": "execute_result"
    }
   ],
   "source": [
    "thick"
   ]
  },
  {
   "cell_type": "code",
   "execution_count": 98,
   "id": "8690af2d",
   "metadata": {},
   "outputs": [],
   "source": [
    "vol = ['Left_Lateral_Ventricle', 'Left_Inf_Lat_Vent',\n",
    "       'Left_Cerebellum_White_Matter', 'Left_Cerebellum_Cortex',\n",
    "       'Left_Thalamus', 'Left_Caudate', 'Left_Putamen', 'Left_Pallidum',\n",
    "       'third_Ventricle', 'fourth_Ventricle', 'Brain_Stem', 'Left_Hippocampus',\n",
    "       'Left_Amygdala', 'CSF', 'Left_Accumbens_area', 'Left_VentralDC',\n",
    "       'Left_vessel', 'Left_choroid_plexus', 'Right_Lateral_Ventricle',\n",
    "       'Right_Inf_Lat_Vent', 'Right_Cerebellum_White_Matter',\n",
    "       'Right_Cerebellum_Cortex', 'Right_Thalamus', 'Right_Caudate',\n",
    "       'Right_Putamen', 'Right_Pallidum', 'Right_Hippocampus',\n",
    "       'Right_Amygdala', 'Right_Accumbens_area', 'Right_VentralDC',\n",
    "       'Right_vessel', 'Right_choroid_plexus', 'fifth_Ventricle']"
   ]
  },
  {
   "cell_type": "code",
   "execution_count": 99,
   "id": "e9dd8e62",
   "metadata": {},
   "outputs": [
    {
     "data": {
      "text/html": [
       "<div>\n",
       "<style scoped>\n",
       "    .dataframe tbody tr th:only-of-type {\n",
       "        vertical-align: middle;\n",
       "    }\n",
       "\n",
       "    .dataframe tbody tr th {\n",
       "        vertical-align: top;\n",
       "    }\n",
       "\n",
       "    .dataframe thead th {\n",
       "        text-align: right;\n",
       "    }\n",
       "</style>\n",
       "<table border=\"1\" class=\"dataframe\">\n",
       "  <thead>\n",
       "    <tr style=\"text-align: right;\">\n",
       "      <th></th>\n",
       "      <th>Left_Lateral_Ventricle</th>\n",
       "      <th>Left_Inf_Lat_Vent</th>\n",
       "      <th>Left_Cerebellum_White_Matter</th>\n",
       "      <th>Left_Cerebellum_Cortex</th>\n",
       "      <th>Left_Thalamus</th>\n",
       "      <th>Left_Caudate</th>\n",
       "      <th>Left_Putamen</th>\n",
       "      <th>Left_Pallidum</th>\n",
       "      <th>third_Ventricle</th>\n",
       "      <th>fourth_Ventricle</th>\n",
       "      <th>...</th>\n",
       "      <th>Right_Caudate</th>\n",
       "      <th>Right_Putamen</th>\n",
       "      <th>Right_Pallidum</th>\n",
       "      <th>Right_Hippocampus</th>\n",
       "      <th>Right_Amygdala</th>\n",
       "      <th>Right_Accumbens_area</th>\n",
       "      <th>Right_VentralDC</th>\n",
       "      <th>Right_vessel</th>\n",
       "      <th>Right_choroid_plexus</th>\n",
       "      <th>fifth_Ventricle</th>\n",
       "    </tr>\n",
       "  </thead>\n",
       "  <tbody>\n",
       "    <tr>\n",
       "      <th>0</th>\n",
       "      <td>5600.0</td>\n",
       "      <td>261.3</td>\n",
       "      <td>13449.9</td>\n",
       "      <td>51571.3</td>\n",
       "      <td>8303.4</td>\n",
       "      <td>2889.7</td>\n",
       "      <td>4512.3</td>\n",
       "      <td>2171.8</td>\n",
       "      <td>628.3</td>\n",
       "      <td>1708.8</td>\n",
       "      <td>...</td>\n",
       "      <td>3000.6</td>\n",
       "      <td>4983.5</td>\n",
       "      <td>1926.1</td>\n",
       "      <td>4106.4</td>\n",
       "      <td>1899.0</td>\n",
       "      <td>534.8</td>\n",
       "      <td>3494.1</td>\n",
       "      <td>14.5</td>\n",
       "      <td>449.3</td>\n",
       "      <td>0.0</td>\n",
       "    </tr>\n",
       "    <tr>\n",
       "      <th>1</th>\n",
       "      <td>3671.9</td>\n",
       "      <td>143.0</td>\n",
       "      <td>12312.3</td>\n",
       "      <td>56378.2</td>\n",
       "      <td>7775.8</td>\n",
       "      <td>3912.7</td>\n",
       "      <td>5582.6</td>\n",
       "      <td>2489.1</td>\n",
       "      <td>507.4</td>\n",
       "      <td>1125.9</td>\n",
       "      <td>...</td>\n",
       "      <td>4533.7</td>\n",
       "      <td>5509.2</td>\n",
       "      <td>2528.8</td>\n",
       "      <td>4099.9</td>\n",
       "      <td>1759.1</td>\n",
       "      <td>557.7</td>\n",
       "      <td>4384.3</td>\n",
       "      <td>171.6</td>\n",
       "      <td>388.8</td>\n",
       "      <td>3.6</td>\n",
       "    </tr>\n",
       "    <tr>\n",
       "      <th>2</th>\n",
       "      <td>3924.3</td>\n",
       "      <td>176.8</td>\n",
       "      <td>13970.7</td>\n",
       "      <td>66288.8</td>\n",
       "      <td>8257.7</td>\n",
       "      <td>4309.3</td>\n",
       "      <td>5652.9</td>\n",
       "      <td>2163.5</td>\n",
       "      <td>803.3</td>\n",
       "      <td>1803.6</td>\n",
       "      <td>...</td>\n",
       "      <td>4513.2</td>\n",
       "      <td>5696.5</td>\n",
       "      <td>2144.2</td>\n",
       "      <td>4450.4</td>\n",
       "      <td>1491.9</td>\n",
       "      <td>496.7</td>\n",
       "      <td>3567.2</td>\n",
       "      <td>20.9</td>\n",
       "      <td>367.1</td>\n",
       "      <td>0.0</td>\n",
       "    </tr>\n",
       "    <tr>\n",
       "      <th>4</th>\n",
       "      <td>19052.9</td>\n",
       "      <td>318.6</td>\n",
       "      <td>14572.6</td>\n",
       "      <td>63181.6</td>\n",
       "      <td>8647.0</td>\n",
       "      <td>3971.6</td>\n",
       "      <td>6025.6</td>\n",
       "      <td>2202.8</td>\n",
       "      <td>922.3</td>\n",
       "      <td>3682.3</td>\n",
       "      <td>...</td>\n",
       "      <td>4023.1</td>\n",
       "      <td>5887.9</td>\n",
       "      <td>2374.2</td>\n",
       "      <td>5078.5</td>\n",
       "      <td>1996.3</td>\n",
       "      <td>603.4</td>\n",
       "      <td>4140.0</td>\n",
       "      <td>10.0</td>\n",
       "      <td>723.2</td>\n",
       "      <td>0.0</td>\n",
       "    </tr>\n",
       "    <tr>\n",
       "      <th>5</th>\n",
       "      <td>2686.4</td>\n",
       "      <td>0.0</td>\n",
       "      <td>20251.6</td>\n",
       "      <td>47612.1</td>\n",
       "      <td>7666.1</td>\n",
       "      <td>1397.2</td>\n",
       "      <td>6193.3</td>\n",
       "      <td>2753.1</td>\n",
       "      <td>602.3</td>\n",
       "      <td>600.1</td>\n",
       "      <td>...</td>\n",
       "      <td>2399.2</td>\n",
       "      <td>3426.8</td>\n",
       "      <td>2402.9</td>\n",
       "      <td>2269.2</td>\n",
       "      <td>1004.5</td>\n",
       "      <td>224.4</td>\n",
       "      <td>3455.3</td>\n",
       "      <td>23.0</td>\n",
       "      <td>673.9</td>\n",
       "      <td>0.0</td>\n",
       "    </tr>\n",
       "    <tr>\n",
       "      <th>...</th>\n",
       "      <td>...</td>\n",
       "      <td>...</td>\n",
       "      <td>...</td>\n",
       "      <td>...</td>\n",
       "      <td>...</td>\n",
       "      <td>...</td>\n",
       "      <td>...</td>\n",
       "      <td>...</td>\n",
       "      <td>...</td>\n",
       "      <td>...</td>\n",
       "      <td>...</td>\n",
       "      <td>...</td>\n",
       "      <td>...</td>\n",
       "      <td>...</td>\n",
       "      <td>...</td>\n",
       "      <td>...</td>\n",
       "      <td>...</td>\n",
       "      <td>...</td>\n",
       "      <td>...</td>\n",
       "      <td>...</td>\n",
       "      <td>...</td>\n",
       "    </tr>\n",
       "    <tr>\n",
       "      <th>94</th>\n",
       "      <td>3515.1</td>\n",
       "      <td>327.6</td>\n",
       "      <td>11938.0</td>\n",
       "      <td>56824.1</td>\n",
       "      <td>7121.7</td>\n",
       "      <td>4005.6</td>\n",
       "      <td>5425.3</td>\n",
       "      <td>2111.2</td>\n",
       "      <td>888.6</td>\n",
       "      <td>1870.1</td>\n",
       "      <td>...</td>\n",
       "      <td>4167.2</td>\n",
       "      <td>5634.2</td>\n",
       "      <td>1985.5</td>\n",
       "      <td>3891.4</td>\n",
       "      <td>1491.2</td>\n",
       "      <td>540.2</td>\n",
       "      <td>3674.3</td>\n",
       "      <td>32.2</td>\n",
       "      <td>624.3</td>\n",
       "      <td>0.0</td>\n",
       "    </tr>\n",
       "    <tr>\n",
       "      <th>95</th>\n",
       "      <td>7597.2</td>\n",
       "      <td>373.2</td>\n",
       "      <td>13533.3</td>\n",
       "      <td>54702.4</td>\n",
       "      <td>8500.2</td>\n",
       "      <td>3808.9</td>\n",
       "      <td>6660.2</td>\n",
       "      <td>2263.9</td>\n",
       "      <td>609.3</td>\n",
       "      <td>1438.0</td>\n",
       "      <td>...</td>\n",
       "      <td>3963.7</td>\n",
       "      <td>6723.5</td>\n",
       "      <td>2233.0</td>\n",
       "      <td>4015.0</td>\n",
       "      <td>1394.5</td>\n",
       "      <td>737.2</td>\n",
       "      <td>4415.4</td>\n",
       "      <td>46.8</td>\n",
       "      <td>738.5</td>\n",
       "      <td>0.0</td>\n",
       "    </tr>\n",
       "    <tr>\n",
       "      <th>98</th>\n",
       "      <td>10699.5</td>\n",
       "      <td>596.0</td>\n",
       "      <td>13603.5</td>\n",
       "      <td>62036.7</td>\n",
       "      <td>8018.7</td>\n",
       "      <td>4094.8</td>\n",
       "      <td>5563.5</td>\n",
       "      <td>1996.1</td>\n",
       "      <td>2014.0</td>\n",
       "      <td>1839.7</td>\n",
       "      <td>...</td>\n",
       "      <td>4262.8</td>\n",
       "      <td>5545.9</td>\n",
       "      <td>1886.7</td>\n",
       "      <td>3928.8</td>\n",
       "      <td>1664.6</td>\n",
       "      <td>634.4</td>\n",
       "      <td>4313.3</td>\n",
       "      <td>17.1</td>\n",
       "      <td>512.0</td>\n",
       "      <td>0.0</td>\n",
       "    </tr>\n",
       "    <tr>\n",
       "      <th>99</th>\n",
       "      <td>6714.4</td>\n",
       "      <td>441.1</td>\n",
       "      <td>15091.2</td>\n",
       "      <td>64797.6</td>\n",
       "      <td>7398.6</td>\n",
       "      <td>3833.8</td>\n",
       "      <td>6148.5</td>\n",
       "      <td>1977.8</td>\n",
       "      <td>1106.3</td>\n",
       "      <td>3020.5</td>\n",
       "      <td>...</td>\n",
       "      <td>3970.0</td>\n",
       "      <td>6273.7</td>\n",
       "      <td>2053.4</td>\n",
       "      <td>4159.6</td>\n",
       "      <td>1808.4</td>\n",
       "      <td>596.5</td>\n",
       "      <td>3944.8</td>\n",
       "      <td>23.7</td>\n",
       "      <td>606.5</td>\n",
       "      <td>0.0</td>\n",
       "    </tr>\n",
       "    <tr>\n",
       "      <th>110</th>\n",
       "      <td>8520.1</td>\n",
       "      <td>134.4</td>\n",
       "      <td>12977.9</td>\n",
       "      <td>54534.2</td>\n",
       "      <td>7350.9</td>\n",
       "      <td>3827.6</td>\n",
       "      <td>4815.5</td>\n",
       "      <td>1938.8</td>\n",
       "      <td>1378.8</td>\n",
       "      <td>1381.9</td>\n",
       "      <td>...</td>\n",
       "      <td>3985.4</td>\n",
       "      <td>4938.4</td>\n",
       "      <td>1987.1</td>\n",
       "      <td>4076.4</td>\n",
       "      <td>1292.0</td>\n",
       "      <td>605.2</td>\n",
       "      <td>3801.4</td>\n",
       "      <td>20.1</td>\n",
       "      <td>592.7</td>\n",
       "      <td>0.0</td>\n",
       "    </tr>\n",
       "  </tbody>\n",
       "</table>\n",
       "<p>1042 rows × 33 columns</p>\n",
       "</div>"
      ],
      "text/plain": [
       "     Left_Lateral_Ventricle  Left_Inf_Lat_Vent  Left_Cerebellum_White_Matter  \\\n",
       "0                    5600.0              261.3                       13449.9   \n",
       "1                    3671.9              143.0                       12312.3   \n",
       "2                    3924.3              176.8                       13970.7   \n",
       "4                   19052.9              318.6                       14572.6   \n",
       "5                    2686.4                0.0                       20251.6   \n",
       "..                      ...                ...                           ...   \n",
       "94                   3515.1              327.6                       11938.0   \n",
       "95                   7597.2              373.2                       13533.3   \n",
       "98                  10699.5              596.0                       13603.5   \n",
       "99                   6714.4              441.1                       15091.2   \n",
       "110                  8520.1              134.4                       12977.9   \n",
       "\n",
       "     Left_Cerebellum_Cortex  Left_Thalamus  Left_Caudate  Left_Putamen  \\\n",
       "0                   51571.3         8303.4        2889.7        4512.3   \n",
       "1                   56378.2         7775.8        3912.7        5582.6   \n",
       "2                   66288.8         8257.7        4309.3        5652.9   \n",
       "4                   63181.6         8647.0        3971.6        6025.6   \n",
       "5                   47612.1         7666.1        1397.2        6193.3   \n",
       "..                      ...            ...           ...           ...   \n",
       "94                  56824.1         7121.7        4005.6        5425.3   \n",
       "95                  54702.4         8500.2        3808.9        6660.2   \n",
       "98                  62036.7         8018.7        4094.8        5563.5   \n",
       "99                  64797.6         7398.6        3833.8        6148.5   \n",
       "110                 54534.2         7350.9        3827.6        4815.5   \n",
       "\n",
       "     Left_Pallidum  third_Ventricle  fourth_Ventricle  ...  Right_Caudate  \\\n",
       "0           2171.8            628.3            1708.8  ...         3000.6   \n",
       "1           2489.1            507.4            1125.9  ...         4533.7   \n",
       "2           2163.5            803.3            1803.6  ...         4513.2   \n",
       "4           2202.8            922.3            3682.3  ...         4023.1   \n",
       "5           2753.1            602.3             600.1  ...         2399.2   \n",
       "..             ...              ...               ...  ...            ...   \n",
       "94          2111.2            888.6            1870.1  ...         4167.2   \n",
       "95          2263.9            609.3            1438.0  ...         3963.7   \n",
       "98          1996.1           2014.0            1839.7  ...         4262.8   \n",
       "99          1977.8           1106.3            3020.5  ...         3970.0   \n",
       "110         1938.8           1378.8            1381.9  ...         3985.4   \n",
       "\n",
       "     Right_Putamen  Right_Pallidum  Right_Hippocampus  Right_Amygdala  \\\n",
       "0           4983.5          1926.1             4106.4          1899.0   \n",
       "1           5509.2          2528.8             4099.9          1759.1   \n",
       "2           5696.5          2144.2             4450.4          1491.9   \n",
       "4           5887.9          2374.2             5078.5          1996.3   \n",
       "5           3426.8          2402.9             2269.2          1004.5   \n",
       "..             ...             ...                ...             ...   \n",
       "94          5634.2          1985.5             3891.4          1491.2   \n",
       "95          6723.5          2233.0             4015.0          1394.5   \n",
       "98          5545.9          1886.7             3928.8          1664.6   \n",
       "99          6273.7          2053.4             4159.6          1808.4   \n",
       "110         4938.4          1987.1             4076.4          1292.0   \n",
       "\n",
       "     Right_Accumbens_area  Right_VentralDC  Right_vessel  \\\n",
       "0                   534.8           3494.1          14.5   \n",
       "1                   557.7           4384.3         171.6   \n",
       "2                   496.7           3567.2          20.9   \n",
       "4                   603.4           4140.0          10.0   \n",
       "5                   224.4           3455.3          23.0   \n",
       "..                    ...              ...           ...   \n",
       "94                  540.2           3674.3          32.2   \n",
       "95                  737.2           4415.4          46.8   \n",
       "98                  634.4           4313.3          17.1   \n",
       "99                  596.5           3944.8          23.7   \n",
       "110                 605.2           3801.4          20.1   \n",
       "\n",
       "     Right_choroid_plexus  fifth_Ventricle  \n",
       "0                   449.3              0.0  \n",
       "1                   388.8              3.6  \n",
       "2                   367.1              0.0  \n",
       "4                   723.2              0.0  \n",
       "5                   673.9              0.0  \n",
       "..                    ...              ...  \n",
       "94                  624.3              0.0  \n",
       "95                  738.5              0.0  \n",
       "98                  512.0              0.0  \n",
       "99                  606.5              0.0  \n",
       "110                 592.7              0.0  \n",
       "\n",
       "[1042 rows x 33 columns]"
      ]
     },
     "execution_count": 99,
     "metadata": {},
     "output_type": "execute_result"
    }
   ],
   "source": [
    "df_tsa_tca[vol]"
   ]
  },
  {
   "cell_type": "code",
   "execution_count": 100,
   "id": "8052ce1a",
   "metadata": {},
   "outputs": [
    {
     "name": "stdout",
     "output_type": "stream",
     "text": [
      "Left_Lateral_Ventricle,\n",
      "Left_Inf_Lat_Vent,\n",
      "Left_Cerebellum_White_Matter,\n",
      "Left_Cerebellum_Cortex,\n",
      "Left_Thalamus,\n",
      "Left_Caudate,\n",
      "Left_Putamen,\n",
      "Left_Pallidum,\n",
      "third_Ventricle,\n",
      "fourth_Ventricle,\n",
      "Brain_Stem,\n",
      "Left_Hippocampus,\n",
      "Left_Amygdala,\n",
      "CSF,\n",
      "Left_Accumbens_area,\n",
      "Left_VentralDC,\n",
      "Left_vessel,\n",
      "Left_choroid_plexus,\n",
      "Right_Lateral_Ventricle,\n",
      "Right_Inf_Lat_Vent,\n",
      "Right_Cerebellum_White_Matter,\n",
      "Right_Cerebellum_Cortex,\n",
      "Right_Thalamus,\n",
      "Right_Caudate,\n",
      "Right_Putamen,\n",
      "Right_Pallidum,\n",
      "Right_Hippocampus,\n",
      "Right_Amygdala,\n",
      "Right_Accumbens_area,\n",
      "Right_VentralDC,\n",
      "Right_vessel,\n",
      "Right_choroid_plexus,\n",
      "fifth_Ventricle,\n"
     ]
    }
   ],
   "source": [
    "for i in vol:\n",
    "    print(i+',')"
   ]
  },
  {
   "cell_type": "code",
   "execution_count": 101,
   "id": "e9ece3f3",
   "metadata": {},
   "outputs": [
    {
     "data": {
      "text/plain": [
       "Index(['Subject', 'BrainSeg', 'BrainSegNotVent', 'VentricleChoroidVol',\n",
       "       'lhCortex', 'rhCortex', 'Cortex', 'lhCerebralWhiteMatter',\n",
       "       'rhCerebralWhiteMatter', 'CerebralWhiteMatter', 'SubCortGray',\n",
       "       'TotalGray', 'SupraTentorial', 'SupraTentorialNotVent', 'Mask',\n",
       "       'BrainSegVol_to_eTIV', 'MaskVol_to_eTIV', 'lhSurfaceHoles',\n",
       "       'rhSurfaceHoles', 'SurfaceHoles', 'EstimatedTotalIntraCranialVol',\n",
       "       'Left_Lateral_Ventricle', 'Left_Inf_Lat_Vent',\n",
       "       'Left_Cerebellum_White_Matter', 'Left_Cerebellum_Cortex',\n",
       "       'Left_Thalamus', 'Left_Caudate', 'Left_Putamen', 'Left_Pallidum',\n",
       "       '3rd_Ventricle', '4th_Ventricle', 'Brain_Stem', 'Left_Hippocampus',\n",
       "       'Left_Amygdala', 'CSF', 'Left_Accumbens_area', 'Left_VentralDC',\n",
       "       'Left_vessel', 'Left_choroid_plexus', 'Right_Lateral_Ventricle',\n",
       "       'Right_Inf_Lat_Vent', 'Right_Cerebellum_White_Matter',\n",
       "       'Right_Cerebellum_Cortex', 'Right_Thalamus', 'Right_Caudate',\n",
       "       'Right_Putamen', 'Right_Pallidum', 'Right_Hippocampus',\n",
       "       'Right_Amygdala', 'Right_Accumbens_area', 'Right_VentralDC',\n",
       "       'Right_vessel', 'Right_choroid_plexus', '5th_Ventricle',\n",
       "       'WM_hypointensities', 'Left_WM_hypointensities',\n",
       "       'Right_WM_hypointensities', 'non_WM_hypointensities',\n",
       "       'Left_non_WM_hypointensities', 'Right_non_WM_hypointensities',\n",
       "       'Optic_Chiasm', 'CC_Posterior', 'CC_Mid_Posterior', 'CC_Central',\n",
       "       'CC_Mid_Anterior', 'CC_Anterior'],\n",
       "      dtype='object')"
      ]
     },
     "execution_count": 101,
     "metadata": {},
     "output_type": "execute_result"
    }
   ],
   "source": [
    "vol_tsa.columns.str.replace('-','_')"
   ]
  },
  {
   "cell_type": "code",
   "execution_count": null,
   "id": "940c0b5f",
   "metadata": {},
   "outputs": [],
   "source": []
  }
 ],
 "metadata": {
  "kernelspec": {
   "display_name": "Python 3 (ipykernel)",
   "language": "python",
   "name": "python3"
  },
  "language_info": {
   "codemirror_mode": {
    "name": "ipython",
    "version": 3
   },
   "file_extension": ".py",
   "mimetype": "text/x-python",
   "name": "python",
   "nbconvert_exporter": "python",
   "pygments_lexer": "ipython3",
   "version": "3.9.7"
  }
 },
 "nbformat": 4,
 "nbformat_minor": 5
}
