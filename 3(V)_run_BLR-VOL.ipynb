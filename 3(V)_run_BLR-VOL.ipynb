{
 "cells": [
  {
   "cell_type": "code",
   "execution_count": 121,
   "id": "c23aab42",
   "metadata": {
    "scrolled": false
   },
   "outputs": [
    {
     "name": "stdout",
     "output_type": "stream",
     "text": [
      "Once deleted, variables cannot be recovered. Proceed (y/[n])? y\n"
     ]
    }
   ],
   "source": [
    "%reset"
   ]
  },
  {
   "cell_type": "markdown",
   "id": "835a12fb",
   "metadata": {},
   "source": [
    "# RUN BLR"
   ]
  },
  {
   "cell_type": "code",
   "execution_count": 1,
   "id": "38a0c74e",
   "metadata": {},
   "outputs": [],
   "source": [
    "! rm -r '/Users/ltran/Documents/TrueData0104/CPC_ML_tutorial/models/test/'\n",
    "! mkdir '/Users/ltran/Documents/TrueData0104/CPC_ML_tutorial/models/test/'"
   ]
  },
  {
   "cell_type": "code",
   "execution_count": 3,
   "id": "d9b10679",
   "metadata": {},
   "outputs": [],
   "source": [
    "import os\n",
    "os.chdir('/Users/ltran/Documents/TrueData29/CPC_ML_tutorial/')\n",
    "\n",
    "import numpy as np\n",
    "import pandas as pd\n",
    "import pickle\n",
    "from matplotlib import pyplot as plt\n",
    "import seaborn as sns\n",
    "import random\n",
    "\n",
    "from scipy.stats import fisher_exact\n",
    "from pcntoolkit.normative import estimate, predict, evaluate\n",
    "from pcntoolkit.util.utils import compute_MSLL, create_design_matrix\n",
    "from nm_utils import calibration_descriptives, remove_bad_subjects, load_2d\n",
    "from sklearn.model_selection import train_test_split\n",
    "# Set data directory\n",
    "data_dir = '/Users/ltran/Documents/Data/'\n",
    "\n",
    "# Set working directory\n",
    "root_dir = '/Users/ltran/Documents/TrueData0104/CPC_ML_tutorial/'\n",
    "out_dir = os.path.join(root_dir,'models','test')\n",
    "\n",
    "# create the output directory if it does not already exist\n",
    "os.makedirs(out_dir, exist_ok=True)"
   ]
  },
  {
   "cell_type": "markdown",
   "id": "4e9d2562",
   "metadata": {},
   "source": [
    "## Load DF_ALL"
   ]
  },
  {
   "cell_type": "code",
   "execution_count": 32,
   "id": "64afd213",
   "metadata": {},
   "outputs": [],
   "source": [
    "df_tca = pd.read_csv(os.path.join(data_dir, 'Outputs/df_tca_age.csv'))"
   ]
  },
  {
   "cell_type": "code",
   "execution_count": 33,
   "id": "716dfaab",
   "metadata": {},
   "outputs": [],
   "source": [
    "df_tsa = pd.read_csv(os.path.join(data_dir, 'Outputs/df_tsa_age.csv'))"
   ]
  },
  {
   "cell_type": "code",
   "execution_count": 34,
   "id": "25ee615e",
   "metadata": {},
   "outputs": [],
   "source": [
    "df_td = pd.read_csv(os.path.join(data_dir, 'Outputs/df_td_age.csv'))"
   ]
  },
  {
   "cell_type": "markdown",
   "id": "594b89a3",
   "metadata": {},
   "source": [
    "### Define ROI"
   ]
  },
  {
   "cell_type": "code",
   "execution_count": 35,
   "id": "bc0b78d2",
   "metadata": {},
   "outputs": [],
   "source": [
    "df_tca = df_tca[df_tca.ASD != 'TCA_Autism']"
   ]
  },
  {
   "cell_type": "code",
   "execution_count": 65,
   "id": "04df4678",
   "metadata": {},
   "outputs": [],
   "source": [
    "all_cols = ['EstimatedTotalIntraCranialVol', 'Left-Lateral-Ventricle']\n",
    "idp_ids = all_cols"
   ]
  },
  {
   "cell_type": "code",
   "execution_count": 37,
   "id": "8dc50f60",
   "metadata": {},
   "outputs": [],
   "source": [
    "all_cols = [col for col in df_tca.columns if '_thickness' in col]\n"
   ]
  },
  {
   "cell_type": "code",
   "execution_count": 41,
   "id": "15cfbbb0",
   "metadata": {},
   "outputs": [],
   "source": [
    "all_cols.remove('rh_MeanThickness_thickness')\n",
    "all_cols.remove('lh_MeanThickness_thickness')"
   ]
  },
  {
   "cell_type": "code",
   "execution_count": 42,
   "id": "69c073e3",
   "metadata": {
    "scrolled": true
   },
   "outputs": [
    {
     "data": {
      "text/plain": [
       "68"
      ]
     },
     "execution_count": 42,
     "metadata": {},
     "output_type": "execute_result"
    }
   ],
   "source": [
    "len(all_cols)"
   ]
  },
  {
   "cell_type": "markdown",
   "id": "30078419",
   "metadata": {},
   "source": [
    "## Plot data"
   ]
  },
  {
   "cell_type": "markdown",
   "id": "bd53ea7e",
   "metadata": {},
   "source": [
    "# Run BLR"
   ]
  },
  {
   "cell_type": "code",
   "execution_count": 48,
   "id": "3f6bb977",
   "metadata": {
    "scrolled": false
   },
   "outputs": [
    {
     "name": "stdout",
     "output_type": "stream",
     "text": [
      "Prediction on TD + ASD : 1 \n",
      "Prediction on ASD only : 2\n",
      "2\n"
     ]
    }
   ],
   "source": [
    "pred_bool = input(\"Prediction on TD + ASD : 1 \\nPrediction on ASD only : 2\\n\")"
   ]
  },
  {
   "cell_type": "code",
   "execution_count": 74,
   "id": "845aa45a",
   "metadata": {},
   "outputs": [],
   "source": [
    "# Metric DataFrame\n",
    "metric_analysis = pd.DataFrame(columns = ['ROIs', 'EV mean', 'EV max', 'MSLL mean', 'MSLL min', 'Covs', 'Fixed effect', 'xmin', 'xmax', 'Outlier Thresh'])\n",
    "\n"
   ]
  },
  {
   "cell_type": "code",
   "execution_count": 75,
   "id": "72ea6839",
   "metadata": {},
   "outputs": [],
   "source": [
    "# Choosing covariates\n",
    "cols_cov = ['age_at_first_scan','sex']\n",
    "\n",
    "fixed_effect = 'NA'\n",
    "\n",
    "# Type of Warping \n",
    "warp =  'WarpSinArcsinh'\n",
    "\n",
    "\n",
    "# B-Spline limits\n",
    "xmin = round(df_all['age_at_first_scan'].min() - 5) # ~ age min - 5 \n",
    "xmax = round(df_all['age_at_first_scan'].max() + 5) # ~ age max + 5\n",
    "\n",
    "force_refit = True \n",
    "\n",
    "# Threshold for outliers\n",
    "outlier_thresh = 5"
   ]
  },
  {
   "cell_type": "code",
   "execution_count": 76,
   "id": "65581298",
   "metadata": {},
   "outputs": [],
   "source": [
    "# DataFrame with only TD\n",
    "df_td = df_all.loc[df_all.ASD == 'No']\n",
    "df_asd = df_all.loc[df_all.ASD == 'Yes']\n",
    "df_relatives = df_all.loc[df_all.ASD == 'Relative']\n",
    "\n",
    "strat = ['age_at_first_scan', 'sex', 'site']\n",
    "if (pred_bool == '1'):\n",
    "    \n",
    "    \n",
    "\n",
    "    #Split train & test, stratified by site\n",
    "    df_sx, df_tex1, df_sy, df_tey1 = train_test_split(df_td[strat], df_td[idp_ids], \n",
    "                                                        test_size=0.33, \n",
    "                                                        random_state=42,\n",
    "                                                       stratify = df_td[ 'site'])\n",
    "\n",
    "    df_trx, df_tex2, df_try, df_tey2 = train_test_split(df_sx, df_sy, \n",
    "                                                       test_size = 0.5, random_state=42, \n",
    "                                                      stratify = df_sx[ 'site'])\n",
    "\n",
    "    df_te1 = df_tex1.join(df_tey1)\n",
    "#     df_te2 = df_tex2.join(df_tey2)\n",
    "#     df_te2 = df_te2.join(df_all, how = 'left', lsuffix = '', rsuffix='r')\n",
    "    df_te2 = df_tex2.join(df_tey2).join(df_all[['ASD', 'participant_id']])\n",
    "    df_te3 = pd.concat([df_te2, df_asd, df_relatives])\n",
    "    df_tr = df_trx.join(df_try)\n",
    "#     df_te3 = pd.concat([df_te2, df_asd, df_relatives])\n",
    "elif (pred_bool == '2'):\n",
    "    \n",
    "    df_sx, df_tex1, df_sy, df_tey1 = train_test_split(df_td[strat], df_td[idp_ids], \n",
    "                                                    test_size=0.5, \n",
    "                                                    random_state=42,\n",
    "                                                   stratify = df_td['site'])\n",
    "    df_tr = df_sx.join(df_sy)\n",
    "    df_te1 = df_tex1.join(df_tey1)\n",
    "    df_te3 = df_asd.copy()"
   ]
  },
  {
   "cell_type": "code",
   "execution_count": 78,
   "id": "70510423",
   "metadata": {},
   "outputs": [
    {
     "name": "stdout",
     "output_type": "stream",
     "text": [
      "Running IDP 0 EstimatedTotalIntraCranialVol :\n",
      "Estimating the normative model...\n",
      "Processing data in /Users/ltran/Documents/TrueData0104/CPC_ML_tutorial/models/test/EstimatedTotalIntraCranialVol/resp_tr.txt\n",
      "Estimating model  1 of 1\n",
      "configuring BLR ( order 1 )\n",
      "Using default hyperparameters\n",
      "Warning: Estimation of posterior distribution failed\n",
      "Warning: Estimation of posterior distribution failed\n",
      "Warning: Estimation of posterior distribution failed\n",
      "Warning: Estimation of posterior distribution failed\n",
      "Warning: Estimation of posterior distribution failed\n",
      "Saving model meta-data...\n",
      "Evaluating the model ...\n",
      "Writing outputs ...\n",
      "Running IDP 1 Left-Lateral-Ventricle :\n",
      "Estimating the normative model...\n",
      "Processing data in /Users/ltran/Documents/TrueData0104/CPC_ML_tutorial/models/test/Left-Lateral-Ventricle/resp_tr.txt\n",
      "Estimating model  1 of 1\n",
      "configuring BLR ( order 1 )\n",
      "Using default hyperparameters\n",
      "Warning: Estimation of posterior distribution failed\n",
      "Warning: Estimation of posterior distribution failed\n",
      "Warning: Estimation of posterior distribution failed\n",
      "Warning: Estimation of posterior distribution failed\n",
      "Warning: Estimation of posterior distribution failed\n",
      "Saving model meta-data...\n",
      "Evaluating the model ...\n",
      "Writing outputs ...\n"
     ]
    },
    {
     "name": "stderr",
     "output_type": "stream",
     "text": [
      "/Users/ltran/opt/anaconda3/lib/python3.9/site-packages/pcntoolkit/model/bayesreg.py:187: LinAlgWarning: Ill-conditioned matrix (rcond=1.14299e-22): result may not be accurate.\n",
      "  invAXt = linalg.solve(self.A, X.T, check_finite=False)\n",
      "/Users/ltran/opt/anaconda3/lib/python3.9/site-packages/pcntoolkit/model/bayesreg.py:187: LinAlgWarning: Ill-conditioned matrix (rcond=3.56769e-21): result may not be accurate.\n",
      "  invAXt = linalg.solve(self.A, X.T, check_finite=False)\n",
      "/Users/ltran/opt/anaconda3/lib/python3.9/site-packages/pcntoolkit/model/bayesreg.py:187: LinAlgWarning: Ill-conditioned matrix (rcond=1.40787e-20): result may not be accurate.\n",
      "  invAXt = linalg.solve(self.A, X.T, check_finite=False)\n",
      "/Users/ltran/opt/anaconda3/lib/python3.9/site-packages/pcntoolkit/model/bayesreg.py:187: LinAlgWarning: Ill-conditioned matrix (rcond=1.50731e-20): result may not be accurate.\n",
      "  invAXt = linalg.solve(self.A, X.T, check_finite=False)\n",
      "/Users/ltran/opt/anaconda3/lib/python3.9/site-packages/pcntoolkit/model/bayesreg.py:187: LinAlgWarning: Ill-conditioned matrix (rcond=1.53116e-20): result may not be accurate.\n",
      "  invAXt = linalg.solve(self.A, X.T, check_finite=False)\n",
      "/Users/ltran/opt/anaconda3/lib/python3.9/site-packages/pcntoolkit/model/bayesreg.py:187: LinAlgWarning: Ill-conditioned matrix (rcond=1.83566e-21): result may not be accurate.\n",
      "  invAXt = linalg.solve(self.A, X.T, check_finite=False)\n"
     ]
    },
    {
     "data": {
      "text/html": [
       "<div>\n",
       "<style scoped>\n",
       "    .dataframe tbody tr th:only-of-type {\n",
       "        vertical-align: middle;\n",
       "    }\n",
       "\n",
       "    .dataframe tbody tr th {\n",
       "        vertical-align: top;\n",
       "    }\n",
       "\n",
       "    .dataframe thead th {\n",
       "        text-align: right;\n",
       "    }\n",
       "</style>\n",
       "<table border=\"1\" class=\"dataframe\">\n",
       "  <thead>\n",
       "    <tr style=\"text-align: right;\">\n",
       "      <th></th>\n",
       "      <th>eid</th>\n",
       "      <th>NLL</th>\n",
       "      <th>EV</th>\n",
       "      <th>MSLL</th>\n",
       "      <th>BIC</th>\n",
       "      <th>Skew</th>\n",
       "      <th>Kurtosis</th>\n",
       "    </tr>\n",
       "  </thead>\n",
       "  <tbody>\n",
       "    <tr>\n",
       "      <th>0</th>\n",
       "      <td>EstimatedTotalIntraCranialVol</td>\n",
       "      <td>1584.351627</td>\n",
       "      <td>0.117673</td>\n",
       "      <td>-149.271982</td>\n",
       "      <td>3187.751949</td>\n",
       "      <td>-0.221507</td>\n",
       "      <td>-0.109868</td>\n",
       "    </tr>\n",
       "    <tr>\n",
       "      <th>1</th>\n",
       "      <td>Left-Lateral-Ventricle</td>\n",
       "      <td>1148.112651</td>\n",
       "      <td>0.194000</td>\n",
       "      <td>-0.109559</td>\n",
       "      <td>2315.273997</td>\n",
       "      <td>0.574108</td>\n",
       "      <td>0.925140</td>\n",
       "    </tr>\n",
       "  </tbody>\n",
       "</table>\n",
       "</div>"
      ],
      "text/plain": [
       "                             eid          NLL        EV        MSLL  \\\n",
       "0  EstimatedTotalIntraCranialVol  1584.351627  0.117673 -149.271982   \n",
       "1         Left-Lateral-Ventricle  1148.112651  0.194000   -0.109559   \n",
       "\n",
       "           BIC      Skew  Kurtosis  \n",
       "0  3187.751949 -0.221507 -0.109868  \n",
       "1  2315.273997  0.574108  0.925140  "
      ]
     },
     "metadata": {},
     "output_type": "display_data"
    },
    {
     "name": "stderr",
     "output_type": "stream",
     "text": [
      "/var/folders/p5/qymxnxk12156bhtw2jlf3sb40000gr/T/ipykernel_7315/2667643027.py:119: FutureWarning: The frame.append method is deprecated and will be removed from pandas in a future version. Use pandas.concat instead.\n",
      "  metric_analysis = metric_analysis.append(new_row, ignore_index=True)\n"
     ]
    }
   ],
   "source": [
    "site_ids = set(df_all['site'])\n",
    "site_ids_tr = set(df_tr['site'])\n",
    "site_ids_te = set(df_te1['site'])\n",
    "\n",
    "\n",
    "for idp_num, idp in enumerate(idp_ids): \n",
    "    print('Running IDP', idp_num, idp, ':')\n",
    "\n",
    "    # set output dir \n",
    "    idp_dir = os.path.join(out_dir, idp)\n",
    "    os.makedirs(os.path.join(idp_dir), exist_ok=True)\n",
    "    os.chdir(idp_dir)\n",
    "\n",
    "    # extract the response variables for training and test set\n",
    "    y_tr = df_tr[idp].to_numpy() \n",
    "    y_te = df_te1[idp].to_numpy()\n",
    "\n",
    "    # remove gross outliers and implausible values\n",
    "    yz_tr = (y_tr - np.mean(y_tr)) / np.std(y_tr)\n",
    "    yz_te = (y_te - np.mean(y_te)) / np.std(y_te)\n",
    "    nz_tr = np.bitwise_and(np.abs(yz_tr) < outlier_thresh, y_tr > 0)\n",
    "    nz_te = np.bitwise_and(np.abs(yz_te) < outlier_thresh, y_te > 0)\n",
    "    y_tr = y_tr[nz_tr]\n",
    "    y_te = y_te[nz_te]\n",
    "\n",
    "    # write out the response variables for training and test\n",
    "    resp_file_tr = os.path.join(idp_dir, 'resp_tr.txt')\n",
    "    resp_file_te = os.path.join(idp_dir, 'resp_te.txt') \n",
    "    np.savetxt(resp_file_tr, y_tr)\n",
    "    np.savetxt(resp_file_te, y_te)\n",
    "\n",
    "    # configure the design matrix\n",
    "    X_tr = create_design_matrix(df_tr[cols_cov].loc[nz_tr], \n",
    "                                site_ids = df_tr['site'].loc[nz_tr],\n",
    "                                basis = 'bspline', \n",
    "                                xmin = xmin, \n",
    "                                xmax = xmax)\n",
    "    X_te = create_design_matrix(df_te1[cols_cov].loc[nz_te], \n",
    "                                site_ids = df_te1['site'].loc[nz_te], \n",
    "                                all_sites=site_ids,\n",
    "                                basis = 'bspline', \n",
    "                                xmin = xmin, \n",
    "                                xmax = xmax)\n",
    "\n",
    "    # configure and save the covariates\n",
    "    cov_file_tr = os.path.join(idp_dir, 'cov_bspline_tr.txt')\n",
    "    cov_file_te = os.path.join(idp_dir, 'cov_bspline_te.txt')\n",
    "    np.savetxt(cov_file_tr, X_tr)\n",
    "    np.savetxt(cov_file_te, X_te)\n",
    "\n",
    "    if not force_refit and os.path.exists(os.path.join(idp_dir, 'Models', 'NM_0_0_estimate.pkl')):\n",
    "        print('Making predictions using a pre-existing model...')\n",
    "        suffix = 'predict'\n",
    "\n",
    "        # Make prdictsion with test data\n",
    "        predict(cov_file_te, \n",
    "                alg='blr', \n",
    "                respfile=resp_file_te, \n",
    "                model_path=os.path.join(idp_dir,'Models'),\n",
    "                outputsuffix=suffix)\n",
    "    else:\n",
    "        print('Estimating the normative model...')\n",
    "        estimate(cov_file_tr, resp_file_tr, testresp=resp_file_te, \n",
    "                 testcov=cov_file_te, alg='blr', optimizer = 'l-bfgs-b', \n",
    "                 savemodel=True, warp=warp, warp_reparam=True)\n",
    "        suffix = 'estimate'\n",
    "blr_metrics = pd.DataFrame(columns = ['eid', 'NLL', 'EV', 'MSLL', 'BIC','Skew','Kurtosis'])\n",
    "\n",
    "for idp_num, idp in enumerate(idp_ids): \n",
    "    idp_dir = os.path.join(out_dir, idp)\n",
    "\n",
    "    # load the predictions and true data. We use a custom function that ensures 2d arrays\n",
    "    # equivalent to: y = np.loadtxt(filename); y = y[:, np.newaxis]\n",
    "    yhat_te = load_2d(os.path.join(idp_dir, 'yhat_' + suffix + '.txt'))\n",
    "    s2_te = load_2d(os.path.join(idp_dir, 'ys2_' + suffix + '.txt'))\n",
    "    y_te = load_2d(os.path.join(idp_dir, 'resp_te.txt'))\n",
    "\n",
    "    with open(os.path.join(idp_dir,'Models', 'NM_0_0_estimate.pkl'), 'rb') as handle:\n",
    "        nm = pickle.load(handle) \n",
    "\n",
    "    # compute error metrics\n",
    "    if warp is None:\n",
    "        metrics = evaluate(y_te, yhat_te)  \n",
    "\n",
    "        # compute MSLL manually as a sanity check\n",
    "        y_tr_mean = np.array( [[np.mean(y_tr)]] )\n",
    "        y_tr_var = np.array( [[np.var(y_tr)]] )\n",
    "        MSLL = compute_MSLL(y_te, yhat_te, s2_te, y_tr_mean, y_tr_var)         \n",
    "    else:\n",
    "        warp_param = nm.blr.hyp[1:nm.blr.warp.get_n_params()+1] \n",
    "        W = nm.blr.warp\n",
    "\n",
    "        # warp predictions\n",
    "        med_te = W.warp_predictions(np.squeeze(yhat_te), np.squeeze(s2_te), warp_param)[0]\n",
    "        med_te = med_te[:, np.newaxis]\n",
    "\n",
    "        # evaluation metrics\n",
    "        metrics = evaluate(y_te, med_te)\n",
    "\n",
    "        # compute MSLL manually\n",
    "        y_te_w = W.f(y_te, warp_param)\n",
    "        y_tr_w = W.f(y_tr, warp_param)\n",
    "        y_tr_mean = np.array( [[np.mean(y_tr_w)]] )\n",
    "        y_tr_var = np.array( [[np.var(y_tr_w)]] )\n",
    "        MSLL = compute_MSLL(y_te_w, yhat_te, s2_te, y_tr_mean, y_tr_var)     \n",
    "\n",
    "    Z = np.loadtxt(os.path.join(idp_dir, 'Z_' + suffix + '.txt'))\n",
    "    [skew, sdskew, kurtosis, sdkurtfddfosis, semean, sesd] = calibration_descriptives(Z)\n",
    "\n",
    "    BIC = len(nm.blr.hyp) * np.log(y_tr.shape[0]) + 2 * nm.neg_log_lik\n",
    "\n",
    "    blr_metrics.loc[len(blr_metrics)] = [idp, nm.neg_log_lik, metrics['EXPV'][0], \n",
    "                                         MSLL[0], BIC, skew, kurtosis]\n",
    "\n",
    "display(blr_metrics)\n",
    "\n",
    "blr_metrics.to_csv(os.path.join(out_dir,'blr_metrics.csv'))\n",
    "new_row = {'ROIs' : len(idp_ids) , 'EV mean': blr_metrics['EV'].mean(), 'EV max' : blr_metrics['EV'].max() , 'MSLL mean': blr_metrics['MSLL'].mean(), 'MSLL min' : blr_metrics['MSLL'].min(), 'Covs' : cols_cov, 'Fixed effect' : fixed_effect , 'xmin' : xmin, 'xmax' : xmax, 'Outlier Thresh' : outlier_thresh}\n",
    "metric_analysis = metric_analysis.append(new_row, ignore_index=True)"
   ]
  },
  {
   "cell_type": "code",
   "execution_count": 79,
   "id": "d90a31a4",
   "metadata": {
    "scrolled": true
   },
   "outputs": [
    {
     "data": {
      "text/plain": [
       "0.15583619245434482"
      ]
     },
     "execution_count": 79,
     "metadata": {},
     "output_type": "execute_result"
    }
   ],
   "source": [
    "blr_metrics.EV.mean()"
   ]
  },
  {
   "cell_type": "code",
   "execution_count": 80,
   "id": "e314ea09",
   "metadata": {},
   "outputs": [
    {
     "data": {
      "text/html": [
       "<div>\n",
       "<style scoped>\n",
       "    .dataframe tbody tr th:only-of-type {\n",
       "        vertical-align: middle;\n",
       "    }\n",
       "\n",
       "    .dataframe tbody tr th {\n",
       "        vertical-align: top;\n",
       "    }\n",
       "\n",
       "    .dataframe thead th {\n",
       "        text-align: right;\n",
       "    }\n",
       "</style>\n",
       "<table border=\"1\" class=\"dataframe\">\n",
       "  <thead>\n",
       "    <tr style=\"text-align: right;\">\n",
       "      <th></th>\n",
       "      <th>NLL</th>\n",
       "      <th>EV</th>\n",
       "      <th>MSLL</th>\n",
       "      <th>BIC</th>\n",
       "      <th>Skew</th>\n",
       "      <th>Kurtosis</th>\n",
       "    </tr>\n",
       "  </thead>\n",
       "  <tbody>\n",
       "    <tr>\n",
       "      <th>count</th>\n",
       "      <td>2.000000</td>\n",
       "      <td>2.000000</td>\n",
       "      <td>2.000000</td>\n",
       "      <td>2.000000</td>\n",
       "      <td>2.000000</td>\n",
       "      <td>2.000000</td>\n",
       "    </tr>\n",
       "    <tr>\n",
       "      <th>mean</th>\n",
       "      <td>1366.232139</td>\n",
       "      <td>0.155836</td>\n",
       "      <td>-74.690771</td>\n",
       "      <td>2751.512973</td>\n",
       "      <td>0.176300</td>\n",
       "      <td>0.407636</td>\n",
       "    </tr>\n",
       "    <tr>\n",
       "      <th>std</th>\n",
       "      <td>308.467538</td>\n",
       "      <td>0.053971</td>\n",
       "      <td>105.473761</td>\n",
       "      <td>616.935077</td>\n",
       "      <td>0.562585</td>\n",
       "      <td>0.731862</td>\n",
       "    </tr>\n",
       "    <tr>\n",
       "      <th>min</th>\n",
       "      <td>1148.112651</td>\n",
       "      <td>0.117673</td>\n",
       "      <td>-149.271982</td>\n",
       "      <td>2315.273997</td>\n",
       "      <td>-0.221507</td>\n",
       "      <td>-0.109868</td>\n",
       "    </tr>\n",
       "    <tr>\n",
       "      <th>25%</th>\n",
       "      <td>1257.172395</td>\n",
       "      <td>0.136755</td>\n",
       "      <td>-111.981376</td>\n",
       "      <td>2533.393485</td>\n",
       "      <td>-0.022604</td>\n",
       "      <td>0.148884</td>\n",
       "    </tr>\n",
       "    <tr>\n",
       "      <th>50%</th>\n",
       "      <td>1366.232139</td>\n",
       "      <td>0.155836</td>\n",
       "      <td>-74.690771</td>\n",
       "      <td>2751.512973</td>\n",
       "      <td>0.176300</td>\n",
       "      <td>0.407636</td>\n",
       "    </tr>\n",
       "    <tr>\n",
       "      <th>75%</th>\n",
       "      <td>1475.291883</td>\n",
       "      <td>0.174918</td>\n",
       "      <td>-37.400165</td>\n",
       "      <td>2969.632461</td>\n",
       "      <td>0.375204</td>\n",
       "      <td>0.666388</td>\n",
       "    </tr>\n",
       "    <tr>\n",
       "      <th>max</th>\n",
       "      <td>1584.351627</td>\n",
       "      <td>0.194000</td>\n",
       "      <td>-0.109559</td>\n",
       "      <td>3187.751949</td>\n",
       "      <td>0.574108</td>\n",
       "      <td>0.925140</td>\n",
       "    </tr>\n",
       "  </tbody>\n",
       "</table>\n",
       "</div>"
      ],
      "text/plain": [
       "               NLL        EV        MSLL          BIC      Skew  Kurtosis\n",
       "count     2.000000  2.000000    2.000000     2.000000  2.000000  2.000000\n",
       "mean   1366.232139  0.155836  -74.690771  2751.512973  0.176300  0.407636\n",
       "std     308.467538  0.053971  105.473761   616.935077  0.562585  0.731862\n",
       "min    1148.112651  0.117673 -149.271982  2315.273997 -0.221507 -0.109868\n",
       "25%    1257.172395  0.136755 -111.981376  2533.393485 -0.022604  0.148884\n",
       "50%    1366.232139  0.155836  -74.690771  2751.512973  0.176300  0.407636\n",
       "75%    1475.291883  0.174918  -37.400165  2969.632461  0.375204  0.666388\n",
       "max    1584.351627  0.194000   -0.109559  3187.751949  0.574108  0.925140"
      ]
     },
     "execution_count": 80,
     "metadata": {},
     "output_type": "execute_result"
    }
   ],
   "source": [
    "blr_metrics.describe()"
   ]
  },
  {
   "cell_type": "code",
   "execution_count": 81,
   "id": "9192cdd1",
   "metadata": {},
   "outputs": [],
   "source": [
    "#blr_metrics.loc[~(blr_metrics.eid == 'rh_caudalmiddlefrontal_thickness')].min()"
   ]
  },
  {
   "cell_type": "code",
   "execution_count": 83,
   "id": "1ba3fa2d",
   "metadata": {},
   "outputs": [
    {
     "data": {
      "text/html": [
       "<div>\n",
       "<style scoped>\n",
       "    .dataframe tbody tr th:only-of-type {\n",
       "        vertical-align: middle;\n",
       "    }\n",
       "\n",
       "    .dataframe tbody tr th {\n",
       "        vertical-align: top;\n",
       "    }\n",
       "\n",
       "    .dataframe thead th {\n",
       "        text-align: right;\n",
       "    }\n",
       "</style>\n",
       "<table border=\"1\" class=\"dataframe\">\n",
       "  <thead>\n",
       "    <tr style=\"text-align: right;\">\n",
       "      <th></th>\n",
       "      <th>ROIs</th>\n",
       "      <th>EV mean</th>\n",
       "      <th>EV max</th>\n",
       "      <th>MSLL mean</th>\n",
       "      <th>MSLL min</th>\n",
       "      <th>Covs</th>\n",
       "      <th>Fixed effect</th>\n",
       "      <th>xmin</th>\n",
       "      <th>xmax</th>\n",
       "      <th>Outlier Thresh</th>\n",
       "    </tr>\n",
       "  </thead>\n",
       "  <tbody>\n",
       "    <tr>\n",
       "      <th>0</th>\n",
       "      <td>2</td>\n",
       "      <td>0.155836</td>\n",
       "      <td>0.194</td>\n",
       "      <td>-74.690771</td>\n",
       "      <td>-149.271982</td>\n",
       "      <td>[age_at_first_scan, sex]</td>\n",
       "      <td>NA</td>\n",
       "      <td>-3</td>\n",
       "      <td>83</td>\n",
       "      <td>5</td>\n",
       "    </tr>\n",
       "  </tbody>\n",
       "</table>\n",
       "</div>"
      ],
      "text/plain": [
       "  ROIs   EV mean  EV max  MSLL mean    MSLL min                      Covs  \\\n",
       "0    2  0.155836   0.194 -74.690771 -149.271982  [age_at_first_scan, sex]   \n",
       "\n",
       "  Fixed effect xmin xmax Outlier Thresh  \n",
       "0           NA   -3   83              5  "
      ]
     },
     "execution_count": 83,
     "metadata": {},
     "output_type": "execute_result"
    }
   ],
   "source": [
    "# Metrics for each boostrap iteration\n",
    "metric_analysis"
   ]
  },
  {
   "cell_type": "markdown",
   "id": "c360b2a5",
   "metadata": {},
   "source": [
    "## Predict Z-Scores"
   ]
  },
  {
   "cell_type": "code",
   "execution_count": 84,
   "id": "f88b3b7a",
   "metadata": {},
   "outputs": [
    {
     "name": "stdout",
     "output_type": "stream",
     "text": [
      "Running IDP 0 EstimatedTotalIntraCranialVol :\n",
      "All sites are present in the training data\n",
      "Loading data ...\n",
      "Prediction by model  1 of 1\n",
      "Evaluating the model ...\n",
      "Evaluations Writing outputs ...\n",
      "Writing outputs ...\n",
      "Running IDP 1 Left-Lateral-Ventricle :\n",
      "All sites are present in the training data\n",
      "Loading data ...\n",
      "Prediction by model  1 of 1\n",
      "Evaluating the model ...\n",
      "Evaluations Writing outputs ...\n",
      "Writing outputs ...\n"
     ]
    }
   ],
   "source": [
    "\n",
    "for idp_num, idp in enumerate(idp_ids): \n",
    "    print('Running IDP', idp_num, idp, ':')\n",
    "    idp_dir = os.path.join(out_dir, idp)\n",
    "    os.chdir(idp_dir)\n",
    "\n",
    "    # extract and save the response variables for the test set\n",
    "    y_te = df_te3[idp].to_numpy()\n",
    "\n",
    "    # save the variables\n",
    "    resp_file_te = os.path.join(idp_dir, 'resp_te.txt') \n",
    "    np.savetxt(resp_file_te, y_te)\n",
    "\n",
    "    # configure and save the design matrix\n",
    "    cov_file_te = os.path.join(idp_dir, 'cov_bspline_te.txt')\n",
    "    X_te = create_design_matrix(df_te3[cols_cov], \n",
    "                                site_ids = df_te3['site'],\n",
    "                                all_sites = site_ids_tr,\n",
    "                                basis = 'bspline', \n",
    "                                xmin = xmin, \n",
    "                                xmax = xmax)\n",
    "    np.savetxt(cov_file_te, X_te)\n",
    "\n",
    "    # check whether all sites in the test set are represented in the training set\n",
    "    if all(elem in site_ids_tr for elem in site_ids_te):\n",
    "        print('All sites are present in the training data')\n",
    "\n",
    "        # just make predictions\n",
    "        yhat_te, s2_te, Z = predict(cov_file_te, \n",
    "                                    alg='blr', \n",
    "                                    respfile=resp_file_te, \n",
    "                                    model_path=os.path.join(idp_dir,'Models'))\n",
    "    else:\n",
    "        print('Some sites missing from the training data. Adapting model')\n",
    "\n",
    "        # save the covariates for the adaptation data\n",
    "        X_ad = create_design_matrix(df_ad[cols_cov], \n",
    "                                    site_ids = df_ad['site'],\n",
    "                                    all_sites = site_ids_tr,\n",
    "                                    basis = 'bspline', \n",
    "                                    xmin = xmin, \n",
    "                                    xmax = xmax)\n",
    "        cov_file_ad = os.path.join(idp_dir, 'cov_bspline_ad.txt')          \n",
    "        np.savetxt(cov_file_ad, X_ad)\n",
    "\n",
    "        # save the responses for the adaptation data\n",
    "        resp_file_ad = os.path.join(idp_dir, 'resp_ad.txt') \n",
    "        y_ad = df_ad[idp].to_numpy()\n",
    "        np.savetxt(resp_file_ad, y_ad)\n",
    "\n",
    "        # save the site ids for the adaptation data\n",
    "        sitenum_file_ad = os.path.join(idp_dir, 'sitenum_ad.txt') \n",
    "        site_num_ad = df_ad['sitenum'].to_numpy(dtype=int)\n",
    "        np.savetxt(sitenum_file_ad, site_num_ad)\n",
    "\n",
    "        # save the site ids for the test data \n",
    "        sitenum_file_te = os.path.join(idp_dir, 'sitenum_te.txt')\n",
    "        site_num_te = df_te['sitenum'].to_numpy(dtype=int)\n",
    "        np.savetxt(sitenum_file_te, site_num_te)\n",
    "\n",
    "        yhat_te, s2_te, Z = predict(cov_file_te, \n",
    "                                    alg = 'blr', \n",
    "                                    respfile = resp_file_te, \n",
    "                                    model_path = os.path.join(idp_dir,'Models'),\n",
    "                                    adaptrespfile = resp_file_ad,\n",
    "                                    adaptcovfile = cov_file_ad,\n",
    "                                    adaptvargroupfile = sitenum_file_ad,\n",
    "                                    testvargroupfile = sitenum_file_te)"
   ]
  },
  {
   "cell_type": "markdown",
   "id": "1feebacb",
   "metadata": {},
   "source": [
    "# Export train and test sets"
   ]
  },
  {
   "cell_type": "code",
   "execution_count": 85,
   "id": "559aaa23",
   "metadata": {},
   "outputs": [],
   "source": [
    "df_tr.to_csv(os.path.join(data_dir, 'Outputs/df_tr.csv'), index = False)\n",
    "df_te1.to_csv(os.path.join(data_dir, 'Outputs/df_te1.csv'), index = False)\n",
    "df_te3.to_csv(os.path.join(data_dir, 'Outputs/df_te3.csv'), index = False)"
   ]
  },
  {
   "cell_type": "markdown",
   "id": "eab7a97d",
   "metadata": {},
   "source": [
    "## Export EV"
   ]
  },
  {
   "cell_type": "code",
   "execution_count": 86,
   "id": "fd2e3cb9",
   "metadata": {},
   "outputs": [
    {
     "data": {
      "text/plain": [
       "eid         Left-Lateral-Ventricle\n",
       "NLL                    1584.351627\n",
       "EV                           0.194\n",
       "MSLL                     -0.109559\n",
       "BIC                    3187.751949\n",
       "Skew                      0.574108\n",
       "Kurtosis                   0.92514\n",
       "dtype: object"
      ]
     },
     "execution_count": 86,
     "metadata": {},
     "output_type": "execute_result"
    }
   ],
   "source": [
    "blr_metrics.max()"
   ]
  },
  {
   "cell_type": "code",
   "execution_count": 87,
   "id": "9ad190ca",
   "metadata": {},
   "outputs": [],
   "source": [
    "blr_metrics.to_csv(os.path.join(data_dir, 'Outputs/blr_metrics.csv'), index = False)"
   ]
  },
  {
   "cell_type": "markdown",
   "id": "a5aefade",
   "metadata": {},
   "source": [
    "## Plot trajectories"
   ]
  },
  {
   "cell_type": "code",
   "execution_count": 98,
   "id": "c079ac0b",
   "metadata": {},
   "outputs": [
    {
     "data": {
      "text/plain": [
       "count    8.260000e+02\n",
       "mean     1.422619e+06\n",
       "std      1.682703e+05\n",
       "min      7.780953e+05\n",
       "25%      1.308923e+06\n",
       "50%      1.421683e+06\n",
       "75%      1.530683e+06\n",
       "max      1.971102e+06\n",
       "Name: EstimatedTotalIntraCranialVol, dtype: float64"
      ]
     },
     "execution_count": 98,
     "metadata": {},
     "output_type": "execute_result"
    }
   ],
   "source": [
    "df_all['EstimatedTotalIntraCranialVol'].describe()"
   ]
  },
  {
   "cell_type": "code",
   "execution_count": 109,
   "id": "9ae1d8f9",
   "metadata": {},
   "outputs": [
    {
     "data": {
      "text/plain": [
       "Index(['Measure:volume', 'Left-Lateral-Ventricle', 'Left-Inf-Lat-Vent',\n",
       "       'Left-Cerebellum-White-Matter', 'Left-Cerebellum-Cortex',\n",
       "       'Left-Thalamus', 'Left-Caudate', 'Left-Putamen', 'Left-Pallidum',\n",
       "       '3rd-Ventricle', '4th-Ventricle', 'Brain-Stem', 'Left-Hippocampus',\n",
       "       'Left-Amygdala', 'CSF', 'Left-Accumbens-area', 'Left-VentralDC',\n",
       "       'Left-vessel', 'Left-choroid-plexus', 'Right-Lateral-Ventricle',\n",
       "       'Right-Inf-Lat-Vent', 'Right-Cerebellum-White-Matter',\n",
       "       'Right-Cerebellum-Cortex', 'Right-Thalamus', 'Right-Caudate',\n",
       "       'Right-Putamen', 'Right-Pallidum', 'Right-Hippocampus',\n",
       "       'Right-Amygdala', 'Right-Accumbens-area', 'Right-VentralDC',\n",
       "       'Right-vessel', 'Right-choroid-plexus', '5th-Ventricle',\n",
       "       'WM-hypointensities', 'Left-WM-hypointensities',\n",
       "       'Right-WM-hypointensities', 'non-WM-hypointensities',\n",
       "       'Left-non-WM-hypointensities', 'Right-non-WM-hypointensities',\n",
       "       'Optic-Chiasm', 'CC_Posterior', 'CC_Mid_Posterior', 'CC_Central',\n",
       "       'CC_Mid_Anterior', 'CC_Anterior', 'BrainSegVol', 'BrainSegVolNotVent',\n",
       "       'lhCortexVol', 'rhCortexVol', 'CortexVol', 'lhCerebralWhiteMatterVol',\n",
       "       'rhCerebralWhiteMatterVol', 'CerebralWhiteMatterVol', 'SubCortGrayVol',\n",
       "       'TotalGrayVol', 'SupraTentorialVol', 'SupraTentorialVolNotVent',\n",
       "       'MaskVol', 'BrainSegVol-to-eTIV', 'MaskVol-to-eTIV', 'lhSurfaceHoles',\n",
       "       'rhSurfaceHoles', 'SurfaceHoles', 'EstimatedTotalIntraCranialVol',\n",
       "       'participant_id', 'sex', 'age_at_first_scan', 'FamilyStatus', 'ASD',\n",
       "       'group', 'IQ_Instrument', 'cognitive_level', 'Max_IQ', 'Performance_IQ',\n",
       "       'Verbal_IQ', 'Total_IQ', 'developmental_quotient', 'abide2_code',\n",
       "       'DNA_Fusion_code', 'MRI_code_old', 'patient_birth_date', 'patient_sex',\n",
       "       'patient_weight', 'acquisition_date', 'manufacturer',\n",
       "       'manufacturer_model_name', 'magnetic_field_strength', 'site',\n",
       "       't1_site'],\n",
       "      dtype='object')"
      ]
     },
     "execution_count": 109,
     "metadata": {},
     "output_type": "execute_result"
    }
   ],
   "source": [
    "df_all.columns"
   ]
  },
  {
   "cell_type": "code",
   "execution_count": 88,
   "id": "c4fd8f9a",
   "metadata": {},
   "outputs": [],
   "source": [
    "sex = 1"
   ]
  },
  {
   "cell_type": "code",
   "execution_count": 106,
   "id": "38265424",
   "metadata": {
    "scrolled": false
   },
   "outputs": [
    {
     "name": "stdout",
     "output_type": "stream",
     "text": [
      "configuring dummy data ...\n",
      "Running IDP 0 EstimatedTotalIntraCranialVol :\n",
      "Making predictions with dummy covariates (for visualisation)\n",
      "Loading data ...\n",
      "Prediction by model  1 of 1\n",
      "Writing outputs ...\n",
      "metrics: {'RMSE': array([157450.7274167]), 'Rho': array([0.54489184]), 'pRho': array([7.69333272e-50]), 'SMSE': array([0.85699898]), 'EXPV': array([0.23738387])}\n"
     ]
    },
    {
     "data": {
      "image/png": "[encoded data removed]",
      "text/plain": [
       "<Figure size 432x288 with 1 Axes>"
      ]
     },
     "metadata": {},
     "output_type": "display_data"
    },
    {
     "name": "stdout",
     "output_type": "stream",
     "text": [
      "Running IDP 1 Left-Lateral-Ventricle :\n",
      "Making predictions with dummy covariates (for visualisation)\n",
      "Loading data ...\n",
      "Prediction by model  1 of 1\n",
      "Writing outputs ...\n",
      "metrics: {'RMSE': array([3568.877058]), 'Rho': array([0.25180816]), 'pRho': array([4.08286751e-10]), 'SMSE': array([0.99548785]), 'EXPV': array([0.03436098])}\n"
     ]
    },
    {
     "data": {
      "image/png": "[encoded data removed]",
      "text/plain": [
       "<Figure size 432x288 with 1 Axes>"
      ]
     },
     "metadata": {},
     "output_type": "display_data"
    }
   ],
   "source": [
    "if (sex == 1): \n",
    "    clr = 'brown';\n",
    "else:\n",
    "    clr = 'red'\n",
    "\n",
    "# create dummy data for visualisation\n",
    "print('configuring dummy data ...')\n",
    "xx = np.arange(xmin, xmax, 0.5)\n",
    "X0_dummy = np.zeros((len(xx), len(cols_cov)))\n",
    "X0_dummy[:,0] = xx\n",
    "X0_dummy[:,1] = sex\n",
    "\n",
    "# create the design matrix\n",
    "X_dummy = create_design_matrix(X0_dummy, xmin=xmin, xmax=xmax, \n",
    "                               site_ids=None, \n",
    "                               all_sites=site_ids_tr\n",
    "                              )\n",
    "\n",
    "# save the dummy covariates\n",
    "cov_file_dummy = os.path.join(out_dir,'cov_bspline_dummy_mean.txt')\n",
    "np.savetxt(cov_file_dummy, X_dummy)\n",
    "sns.set(style='whitegrid')\n",
    "\n",
    "for idp_num, idp in enumerate(idp_ids): \n",
    "    print('Running IDP', idp_num, idp, ':')\n",
    "    idp_dir = os.path.join(out_dir, idp)\n",
    "    os.chdir(idp_dir)\n",
    "\n",
    "    # load the true data points\n",
    "    yhat_te = load_2d(os.path.join(idp_dir, 'yhat_predict.txt'))\n",
    "    s2_te = load_2d(os.path.join(idp_dir, 'ys2_predict.txt'))\n",
    "    y_te = load_2d(os.path.join(idp_dir, 'resp_te.txt'))\n",
    "\n",
    "    # set up the covariates for the dummy data\n",
    "    print('Making predictions with dummy covariates (for visualisation)')\n",
    "    yhat, s2 = predict(cov_file_dummy, \n",
    "                       alg = 'blr', \n",
    "                       respfile = None, \n",
    "                       model_path = os.path.join(idp_dir,'Models'), \n",
    "                       outputsuffix = '_dummy')\n",
    "\n",
    "    # load the normative model\n",
    "    with open(os.path.join(idp_dir,'Models', 'NM_0_0_estimate.pkl'), 'rb') as handle:\n",
    "        nm = pickle.load(handle) \n",
    "\n",
    "    # get the warp and warp parameters\n",
    "    W = nm.blr.warp\n",
    "    warp_param = nm.blr.hyp[1:nm.blr.warp.get_n_params()+1] \n",
    "\n",
    "    # first, we warp predictions for the true data and compute evaluation metrics\n",
    "    med_te = W.warp_predictions(np.squeeze(yhat_te), np.squeeze(s2_te), warp_param)[0]\n",
    "    med_te = med_te[:, np.newaxis]\n",
    "    print('metrics:', evaluate(y_te, med_te))\n",
    "\n",
    "    # then, we warp dummy predictions to create the plots\n",
    "    med, pr_int = W.warp_predictions(np.squeeze(yhat), np.squeeze(s2), warp_param)\n",
    "\n",
    "    # extract the different variance components to visualise\n",
    "    beta, junk1, junk2 = nm.blr._parse_hyps(nm.blr.hyp, X_dummy)\n",
    "    s2n = 1/beta # variation (aleatoric uncertainty)\n",
    "    s2s = s2-s2n # modelling uncertainty (epistemic uncertainty)\n",
    "\n",
    "    # plot the data points\n",
    "    y_te_rescaled_all = np.zeros_like(y_te)\n",
    "    for sid, site in enumerate(site_ids_te):\n",
    "        # plot the true test data points \n",
    "        if all(elem in site_ids_tr for elem in site_ids_te):\n",
    "            # all data in the test set are present in the training set\n",
    "\n",
    "            # first, we select the data points belonging to this particular site\n",
    "            idx = np.where(np.bitwise_and(X_te[:,2] == sex, X_te[:,sid+len(cols_cov)+1] !=0))[0]\n",
    "            if len(idx) == 0:\n",
    "                print('No data for site', sid, site, 'skipping...')\n",
    "                continue\n",
    "\n",
    "            # then directly adjust the data\n",
    "            idx_dummy = np.bitwise_and(X_dummy[:,1] > X_te[idx,1].min(), X_dummy[:,1] < X_te[idx,1].max())\n",
    "            y_te_rescaled = y_te[idx] - np.median(y_te[idx]) + np.median(med[idx_dummy])\n",
    "        else:\n",
    "            # we need to adjust the data based on the adaptation dataset \n",
    "\n",
    "            # first, select the data point belonging to this particular site\n",
    "            idx = np.where(np.bitwise_and(X_te[:,2] == sex, (df_te['site'] == site).to_numpy()))[0]\n",
    "\n",
    "            # load the adaptation data\n",
    "            y_ad = load_2d(os.path.join(idp_dir, 'resp_ad.txt'))\n",
    "            X_ad = load_2d(os.path.join(idp_dir, 'cov_bspline_ad.txt'))\n",
    "            idx_a = np.where(np.bitwise_and(X_ad[:,2] == sex, (df_ad['site'] == site).to_numpy()))[0]\n",
    "            if len(idx) < 2 or len(idx_a) < 2:\n",
    "                print('Insufficent data for site', sid, site, 'skipping...')\n",
    "                continue\n",
    "\n",
    "            # adjust and rescale the data\n",
    "            y_te_rescaled, s2_rescaled = nm.blr.predict_and_adjust(nm.blr.hyp, \n",
    "                                                                   X_ad[idx_a,:], \n",
    "                                                                   np.squeeze(y_ad[idx_a]), \n",
    "                                                                   Xs=None, \n",
    "                                                                   ys=np.squeeze(y_te[idx]))\n",
    "        # plot the (adjusted) data points\n",
    "        \n",
    "        plt.scatter(X_te[idx,1], y_te_rescaled, s=150, color=clr, alpha = 0.7)\n",
    "        \n",
    "    # plot the median of the dummy data\n",
    "    plt.plot(xx, med, clr)\n",
    "\n",
    "    # fill the gaps in between the centiles\n",
    "    junk, pr_int25 = W.warp_predictions(np.squeeze(yhat), np.squeeze(s2), warp_param, percentiles=[0.25,0.75])\n",
    "    junk, pr_int95 = W.warp_predictions(np.squeeze(yhat), np.squeeze(s2), warp_param, percentiles=[0.05,0.95])\n",
    "    junk, pr_int99 = W.warp_predictions(np.squeeze(yhat), np.squeeze(s2), warp_param, percentiles=[0.01,0.99])\n",
    "    plt.fill_between(xx, pr_int25[:,0], pr_int25[:,1], alpha = 0.1,color=clr)\n",
    "    plt.fill_between(xx, pr_int95[:,0], pr_int95[:,1], alpha = 0.1,color=clr)\n",
    "    plt.fill_between(xx, pr_int99[:,0], pr_int99[:,1], alpha = 0.1,color=clr)\n",
    "\n",
    "    # make the width of each centile proportional to the epistemic uncertainty\n",
    "    junk, pr_int25l = W.warp_predictions(np.squeeze(yhat), np.squeeze(s2-0.5*s2s), warp_param, percentiles=[0.25,0.75])\n",
    "    junk, pr_int95l = W.warp_predictions(np.squeeze(yhat), np.squeeze(s2-0.5*s2s), warp_param, percentiles=[0.05,0.95])\n",
    "    junk, pr_int99l = W.warp_predictions(np.squeeze(yhat), np.squeeze(s2-0.5*s2s), warp_param, percentiles=[0.01,0.99])\n",
    "    junk, pr_int25u = W.warp_predictions(np.squeeze(yhat), np.squeeze(s2+0.5*s2s), warp_param, percentiles=[0.25,0.75])\n",
    "    junk, pr_int95u = W.warp_predictions(np.squeeze(yhat), np.squeeze(s2+0.5*s2s), warp_param, percentiles=[0.05,0.95])\n",
    "    junk, pr_int99u = W.warp_predictions(np.squeeze(yhat), np.squeeze(s2+0.5*s2s), warp_param, percentiles=[0.01,0.99])    \n",
    "    plt.fill_between(xx, pr_int25l[:,0], pr_int25u[:,0], alpha = 0.2,color=clr)\n",
    "    plt.fill_between(xx, pr_int95l[:,0], pr_int95u[:,0], alpha = 0.2,color=clr)\n",
    "    plt.fill_between(xx, pr_int99l[:,0], pr_int99u[:,0], alpha = 0.2,color=clr)\n",
    "    plt.fill_between(xx, pr_int25l[:,1], pr_int25u[:,1], alpha = 0.2,color=clr)\n",
    "    plt.fill_between(xx, pr_int95l[:,1], pr_int95u[:,1], alpha = 0.2,color=clr)\n",
    "    plt.fill_between(xx, pr_int99l[:,1], pr_int99u[:,1], alpha = 0.2,color=clr)\n",
    "\n",
    "    # plot actual centile lines\n",
    "    plt.plot(xx, pr_int25[:,0],color=clr, linewidth=0.5)\n",
    "    plt.plot(xx, pr_int25[:,1],color=clr, linewidth=0.5)\n",
    "    plt.plot(xx, pr_int95[:,0],color=clr, linewidth=0.5)\n",
    "    plt.plot(xx, pr_int95[:,1],color=clr, linewidth=0.5)\n",
    "    plt.plot(xx, pr_int99[:,0],color=clr, linewidth=0.5)\n",
    "    plt.plot(xx, pr_int99[:,1],color=clr, linewidth=0.5)\n",
    "\n",
    "    plt.ylim(-1e+06, 1.971102e+06)\n",
    "    plt.xlabel('Age')\n",
    "    plt.ylabel(idp) \n",
    "    plt.title(idp)\n",
    "#      plt.xlim((5,31))\n",
    "    plt.savefig(os.path.join(idp_dir, 'centiles_' + str(sex)),  bbox_inches='tight')\n",
    "    plt.show()\n",
    "\n",
    "os.chdir(out_dir)"
   ]
  }
 ],
 "metadata": {
  "kernelspec": {
   "display_name": "Python 3 (ipykernel)",
   "language": "python",
   "name": "python3"
  },
  "language_info": {
   "codemirror_mode": {
    "name": "ipython",
    "version": 3
   },
   "file_extension": ".py",
   "mimetype": "text/x-python",
   "name": "python",
   "nbconvert_exporter": "python",
   "pygments_lexer": "ipython3",
   "version": "3.9.7"
  }
 },
 "nbformat": 4,
 "nbformat_minor": 5
}
